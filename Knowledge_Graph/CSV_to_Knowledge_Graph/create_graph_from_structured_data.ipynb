{
 "cells": [
  {
   "cell_type": "markdown",
   "metadata": {},
   "source": [
    "### Using the formatted CSVs and by calling the populate_graph function, the CSV will be transformed into a knowledge graph.\n",
    "\n",
    "### Steps:\n",
    "\n",
    "connect_to_database\n",
    "\n",
    "populate_graph\n",
    "\n",
    "close driver"
   ]
  },
  {
   "cell_type": "code",
   "execution_count": 3,
   "metadata": {},
   "outputs": [
    {
     "data": {
      "text/plain": [
       "True"
      ]
     },
     "execution_count": 3,
     "metadata": {},
     "output_type": "execute_result"
    }
   ],
   "source": [
    "import os\n",
    "from dotenv import load_dotenv\n",
    "from pathlib import Path\n",
    "import pandas as pd\n",
    "\n",
    "dotenv_path = Path('../../.env')\n",
    "load_dotenv(dotenv_path=dotenv_path)"
   ]
  },
  {
   "cell_type": "code",
   "execution_count": 6,
   "metadata": {},
   "outputs": [
    {
     "name": "stdout",
     "output_type": "stream",
     "text": [
      "Sucess 1\n"
     ]
    }
   ],
   "source": [
    "# Import functions to manipulate graph: \n",
    "# graph_functions.py has all the functions related to the graph. graph_functions.py is found in this folder\n",
    "from graph_functions import connect_to_database, populate_graph\n",
    "\n",
    "# Load formatted CSVs\n",
    "formatted_abilities = pd.read_csv(\"../Datasets/ONET/Formatted CSVs/formatted_abilities.csv\").drop('Unnamed: 0', axis=1)\n",
    "formatted_basic_skills = pd.read_csv(\"../Datasets/ONET/Formatted CSVs/formatted_basic_skills.csv\").drop('Unnamed: 0', axis=1)\n",
    "formatted_cross_functional_skills = pd.read_csv(\"../Datasets/ONET/Formatted CSVs/formatted_cross_functional_skills.csv\").drop('Unnamed: 0', axis=1)\n",
    "formatted_interests = pd.read_csv(\"../Datasets/ONET/Formatted CSVs/formatted_interests.csv\").drop('Unnamed: 0', axis=1)\n",
    "formatted_knowledge = pd.read_csv(\"../Datasets/ONET/Formatted CSVs/formatted_knowledge.csv\").drop('Unnamed: 0', axis=1)\n",
    "\n",
    "# Connect to graph and populate it\n",
    "index = 1\n",
    "for df in [\n",
    "  # formatted_abilities,\n",
    "  # formatted_basic_skills,\n",
    "  # formatted_cross_functional_skills,\n",
    "  formatted_interests[:150],\n",
    "  # formatted_knowledge\n",
    "]:\n",
    "  driver = connect_to_database(uri=os.getenv('NEO4J_URI'), username=os.getenv('NEO4J_USERNAME'), password=os.getenv('NEO4J_PASSWORD'))\n",
    "  populate_graph(driver, df)\n",
    "  driver.close()\n",
    "  \n",
    "  print(f\"Sucess {index}\")\n",
    "  index += 1"
   ]
  }
 ],
 "metadata": {
  "kernelspec": {
   "display_name": "Python 3",
   "language": "python",
   "name": "python3"
  },
  "language_info": {
   "codemirror_mode": {
    "name": "ipython",
    "version": 3
   },
   "file_extension": ".py",
   "mimetype": "text/x-python",
   "name": "python",
   "nbconvert_exporter": "python",
   "pygments_lexer": "ipython3",
   "version": "3.10.7"
  }
 },
 "nbformat": 4,
 "nbformat_minor": 2
}
