{
 "cells": [
  {
   "cell_type": "markdown",
   "metadata": {},
   "source": [
    "### Knowledge Graph From Text Using llama-3.1-8b-instant"
   ]
  },
  {
   "cell_type": "code",
   "execution_count": 8,
   "metadata": {},
   "outputs": [],
   "source": [
    "import os\n",
    "from langchain_groq import ChatGroq\n",
    "from langchain.chains import LLMChain\n",
    "from langchain.prompts import PromptTemplate\n",
    "from langchain.output_parsers import PydanticOutputParser\n",
    "from pydantic import BaseModel, Field\n",
    "from typing import List"
   ]
  },
  {
   "cell_type": "code",
   "execution_count": 9,
   "metadata": {},
   "outputs": [
    {
     "name": "stdout",
     "output_type": "stream",
     "text": [
      "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\n"
     ]
    }
   ],
   "source": [
    "# Set your Groq API key\n",
    "GROQ_API_KEY = os.getenv(\"GROQ_API_KEY\")\n",
    "print(GROQ_API_KEY)"
   ]
  },
  {
   "cell_type": "code",
   "execution_count": 10,
   "metadata": {},
   "outputs": [],
   "source": [
    "class Entity(BaseModel):\n",
    "    name: str = Field(description=\"Name of the entity\")\n",
    "    type: str = Field(description=\"Type of the entity (e.g., PersonalityTrait, Ability, Interest, Skill, Knowledge etc.)\")\n"
   ]
  },
  {
   "cell_type": "code",
   "execution_count": 11,
   "metadata": {},
   "outputs": [],
   "source": [
    "class Relationship(BaseModel):\n",
    "    subject: str = Field(description=\"Subject entity of the relationship\")\n",
    "    predicate: str = Field(description=\"Type of relationship\")\n",
    "    object: str = Field(description=\"Object entity of the relationship\")"
   ]
  },
  {
   "cell_type": "code",
   "execution_count": 12,
   "metadata": {},
   "outputs": [],
   "source": [
    "class KnowledgeGraphOutput(BaseModel):\n",
    "    entities: List[Entity] = Field(description=\"List of entities extracted from the text\")\n",
    "    relationships: List[Relationship] = Field(description=\"List of relationships extracted from the text\")"
   ]
  },
  {
   "cell_type": "code",
   "execution_count": 13,
   "metadata": {},
   "outputs": [],
   "source": [
    "# Create the output parser\n",
    "output_parser = PydanticOutputParser(pydantic_object=KnowledgeGraphOutput)"
   ]
  },
  {
   "cell_type": "code",
   "execution_count": 14,
   "metadata": {},
   "outputs": [],
   "source": [
    "# Define the prompt template\n",
    "prompt_template = PromptTemplate(\n",
    "    template=\"\"\"\n",
    "    Extract entities and relationships from the following text to construct a knowledge graph:\n",
    "\n",
    "    {text}\n",
    "\n",
    "    {format_instructions}\n",
    "\n",
    "    Provide the output in the specified JSON format.\n",
    "    \"\"\",\n",
    "    input_variables=[\"text\"],\n",
    "    partial_variables={\"format_instructions\": output_parser.get_format_instructions()}\n",
    ")"
   ]
  },
  {
   "cell_type": "code",
   "execution_count": 15,
   "metadata": {},
   "outputs": [],
   "source": [
    "# Initialize the Groq LLM\n",
    "llm = ChatGroq(temperature=0, model_name=\"llama-3.1-8b-instant\")"
   ]
  },
  {
   "cell_type": "code",
   "execution_count": 16,
   "metadata": {},
   "outputs": [
    {
     "name": "stderr",
     "output_type": "stream",
     "text": [
      "C:\\Users\\Nagham\\AppData\\Local\\Programs\\Python\\Python312\\Lib\\site-packages\\langchain_core\\_api\\deprecation.py:141: LangChainDeprecationWarning: The class `LLMChain` was deprecated in LangChain 0.1.17 and will be removed in 1.0. Use RunnableSequence, e.g., `prompt | llm` instead.\n",
      "  warn_deprecated(\n"
     ]
    }
   ],
   "source": [
    "# Create the LLMChain\n",
    "chain = LLMChain(llm=llm, prompt=prompt_template)"
   ]
  },
  {
   "cell_type": "code",
   "execution_count": 17,
   "metadata": {},
   "outputs": [],
   "source": [
    "def extract_kg_elements(text):\n",
    "    # Run the chain\n",
    "    result = chain.run(text=text)\n",
    "    \n",
    "    # Parse the output\n",
    "    parsed_output = output_parser.parse(result)\n",
    "    \n",
    "    return parsed_output.entities, parsed_output.relationships"
   ]
  },
  {
   "cell_type": "code",
   "execution_count": 18,
   "metadata": {},
   "outputs": [],
   "source": [
    "sample_text = \"\"\"\n",
    "    Investigative people are inquisitive, analytical and like to learn. Investigative professions require one to carefully analyse the tasks at hand. Many investigative professionals are an expert in their particular field and solve problems through research and analysis. Typical hobbies of investigative people include intellectual sports such as Sudoku and chess, learning different languages or following additional courses just for the fun of it. One will encounter many investigative professions in academic education, IT, healthcare and innovative companies. Keywords: analytical, inquisitive, gaining knowledge, continuous learning, specialist.\n",
    "\"\"\""
   ]
  },
  {
   "cell_type": "code",
   "execution_count": 19,
   "metadata": {},
   "outputs": [
    {
     "name": "stderr",
     "output_type": "stream",
     "text": [
      "C:\\Users\\Nagham\\AppData\\Local\\Programs\\Python\\Python312\\Lib\\site-packages\\langchain_core\\_api\\deprecation.py:141: LangChainDeprecationWarning: The method `Chain.run` was deprecated in langchain 0.1.0 and will be removed in 1.0. Use invoke instead.\n",
      "  warn_deprecated(\n"
     ]
    }
   ],
   "source": [
    "entities, relationships = extract_kg_elements(sample_text)"
   ]
  },
  {
   "cell_type": "code",
   "execution_count": 20,
   "metadata": {},
   "outputs": [
    {
     "name": "stdout",
     "output_type": "stream",
     "text": [
      "Entities:\n",
      "- Investigative people (PersonalityTrait)\n",
      "- Investigative professions (Profession)\n",
      "- Sudoku (Intellectual sport)\n",
      "- Chess (Intellectual sport)\n",
      "- Languages (Knowledge)\n",
      "- Academic education (Field of study)\n",
      "- IT (Field of study)\n",
      "- Healthcare (Field of study)\n",
      "- Innovative companies (Field of study)\n",
      "- Analytical (Ability)\n",
      "- Inquisitive (PersonalityTrait)\n",
      "- Continuous learning (Ability)\n",
      "- Specialist (Profession)\n"
     ]
    }
   ],
   "source": [
    "print(\"Entities:\")\n",
    "for entity in entities:\n",
    "    print(f\"- {entity.name} ({entity.type})\")"
   ]
  },
  {
   "cell_type": "code",
   "execution_count": 21,
   "metadata": {},
   "outputs": [
    {
     "name": "stdout",
     "output_type": "stream",
     "text": [
      "\n",
      "Relationships:\n",
      "- Investigative people are characterized by Investigative professions\n",
      "- Investigative professions require careful analysis\n",
      "- Investigative people are experts in their particular field\n",
      "- Investigative people solve problems through research and analysis\n",
      "- Investigative people enjoy Sudoku\n",
      "- Investigative people enjoy Chess\n",
      "- Investigative people enjoy learning different languages\n",
      "- Investigative people enjoy following additional courses\n",
      "- Investigative professions can be found in academic education\n",
      "- Investigative professions can be found in IT\n",
      "- Investigative professions can be found in healthcare\n",
      "- Investigative professions can be found in innovative companies\n"
     ]
    }
   ],
   "source": [
    "print(\"\\nRelationships:\")\n",
    "for rel in relationships:\n",
    "    print(f\"- {rel.subject} {rel.predicate} {rel.object}\")"
   ]
  }
 ],
 "metadata": {
  "kernelspec": {
   "display_name": "venv",
   "language": "python",
   "name": "python3"
  },
  "language_info": {
   "codemirror_mode": {
    "name": "ipython",
    "version": 3
   },
   "file_extension": ".py",
   "mimetype": "text/x-python",
   "name": "python",
   "nbconvert_exporter": "python",
   "pygments_lexer": "ipython3",
   "version": "3.12.2"
  }
 },
 "nbformat": 4,
 "nbformat_minor": 2
}
