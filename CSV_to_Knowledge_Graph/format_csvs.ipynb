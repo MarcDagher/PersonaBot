{
 "cells": [
  {
   "cell_type": "markdown",
   "metadata": {},
   "source": [
    "### CSV Format:\n",
    "\n",
    "Every Node should have a label, property, and indentifier\n",
    "\n",
    "Every Relation should have a label with oprional properties\n",
    "\n",
    "### Example:\n",
    "\n",
    "Node_1: \n",
    "    {\n",
    "      'label': 'Occupation', \n",
    "      'properties': \"{'title': 'Amusement and Recreation Attendants'}\", \n",
    "      'identifier': \"{'title': 'Amusement and Recreation Attendants'}\"\n",
    "    }\n",
    "\n",
    "Node_2:\n",
    "    {\n",
    "      'label': 'Occupation', \n",
    "      'properties': \"{'title': 'Amusement and Recreation Attendants'}\", \n",
    "      'identifier': \"{'title': 'Amusement and Recreation Attendants'}\"\n",
    "    }\n",
    "\n",
    "Relation:\n",
    "    {\n",
    "      'label': 'need_for_personality_trait', \n",
    "      'properties': \"{'job_zone': 1}\"\n",
    "    }\n"
   ]
  },
  {
   "cell_type": "markdown",
   "metadata": {},
   "source": [
    "### Imports"
   ]
  },
  {
   "cell_type": "code",
   "execution_count": 11,
   "metadata": {},
   "outputs": [],
   "source": [
    "import os\n",
    "import re\n",
    "from dotenv import load_dotenv\n",
    "from pathlib import Path\n",
    "import pandas as pd\n",
    "pd.set_option('display.max_colwidth', 150)"
   ]
  },
  {
   "cell_type": "markdown",
   "metadata": {},
   "source": [
    "### Helper Functions"
   ]
  },
  {
   "cell_type": "code",
   "execution_count": 2,
   "metadata": {},
   "outputs": [],
   "source": [
    "## General helper functions that don't manipulate or connect to the graph\n",
    "\n",
    "def evaluate_importance(importance, relation_root_label):\n",
    "  if importance == \"Not available\": relation_name = f\"low_{relation_root_label}\"\n",
    "  elif int(importance) >= 80: relation_name = f\"strong_{relation_root_label}\"\n",
    "  elif int(importance) <= 40: relation_name = f\"low_{relation_root_label}\"\n",
    "  else: relation_name = f\"medium_{relation_root_label}\"\n",
    "\n",
    "  return relation_name\n",
    "\n",
    "\n",
    "def get_personality_traits(coded_traits:str):\n",
    "  personality_traits=['Social', 'Realistic', 'Investigative', 'Enterprising', 'Conventional', 'Artistic']\n",
    "  decoded_traits = []\n",
    "  for letter in coded_traits:\n",
    "    if letter == \"S\": personality_trait = personality_traits[0]\n",
    "    elif letter == \"R\": personality_trait = personality_traits[1]\n",
    "    elif letter == \"I\": personality_trait = personality_traits[2]\n",
    "    elif letter == \"E\": personality_trait = personality_traits[3]\n",
    "    elif letter == \"C\": personality_trait = personality_traits[4]\n",
    "    elif letter == \"A\": personality_trait = personality_traits[5]\n",
    "\n",
    "    decoded_traits.append(personality_trait)\n",
    "  \n",
    "  return decoded_traits\n",
    "\n",
    "def preprocess_string(text):\n",
    "  text = re.sub(r\"[ -]\", \"_\", text)\n",
    "  return text"
   ]
  },
  {
   "cell_type": "markdown",
   "metadata": {},
   "source": [
    "### Prepeocess CSVs to make them compatible with the populate_graph function found in graph functions.py"
   ]
  },
  {
   "cell_type": "markdown",
   "metadata": {},
   "source": [
    "Abilities"
   ]
  },
  {
   "cell_type": "code",
   "execution_count": null,
   "metadata": {},
   "outputs": [],
   "source": [
    "# Load abilities dataframe\n",
    "df = pd.read_csv(\"../Datasets/ONet/combined csvs/Abilities.csv\")\n",
    "\n",
    "# Create an empty dataframe that will be filled according to the format needed by populate_graph()\n",
    "formatted_abilities = pd.DataFrame(columns=['Node_1', 'Node_2', 'Relation'])\n",
    "\n",
    "# Fill the new dataframe\n",
    "for i in range(len(df)):\n",
    "  level = df.loc[i, 'Level']\n",
    "  job_zone = df.loc[i, 'Job Zone']\n",
    "  occupation = preprocess_string(df.loc[i, 'Occupation'])\n",
    "  ability = preprocess_string(df.loc[i, 'Ability'])\n",
    "  category = preprocess_string(df.loc[i, 'Category'])\n",
    "\n",
    "  # Create relation label based on the level of importance\n",
    "  importance = df.loc[i, 'Importance']\n",
    "  relation_label = evaluate_importance(importance=importance, relation_root_label='need_for_ability')\n",
    "\n",
    "  # Create Node_1\n",
    "  formatted_abilities.loc[i, \"Node_1\"] = str({'label': 'Occupation', 'properties': str({'title': occupation}), 'identifier': str({'title': occupation})})\n",
    "  \n",
    "  # Create Node_2\n",
    "  formatted_abilities.loc[i, \"Node_2\"] = str({'label': category, 'properties': str({'title': ability}), 'identifier': str({'title': ability})})\n",
    "  \n",
    "  # Create Relation\n",
    "  formatted_abilities.loc[i, \"Relation\"] = str({'label': relation_label, 'properties': str({'importance': importance, 'level': level})})\n",
    "\n",
    "formatted_abilities.to_csv(\"../Datasets/ONET/Formatted CSVs/formatted_abilities.csv\")"
   ]
  },
  {
   "cell_type": "markdown",
   "metadata": {},
   "source": [
    "Basic_Skills"
   ]
  },
  {
   "cell_type": "code",
   "execution_count": null,
   "metadata": {},
   "outputs": [],
   "source": [
    "# Load Basic_Skills dataframe\n",
    "df = pd.read_csv(\"../Datasets/ONet/combined csvs/Basic_Skills.csv\")\n",
    "\n",
    "# Create an empty dataframe that will be filled according to the format needed by populate_graph()\n",
    "formatted_basic_skills = pd.DataFrame(columns=['Node_1', 'Node_2', 'Relation'])\n",
    "\n",
    "# Fill the new dataframe\n",
    "for i in range(len(df)):\n",
    "  level = df.loc[i, 'Level']\n",
    "  job_zone = df.loc[i, 'Job Zone']\n",
    "  occupation = preprocess_string(df.loc[i, 'Occupation'])\n",
    "  skill = preprocess_string(df.loc[i, 'Skill'])\n",
    "  category = preprocess_string(df.loc[i, 'Category'])\n",
    "\n",
    "  # Create relation label based on the level of importance\n",
    "  importance = df.loc[i, 'Importance']\n",
    "  relation_label = evaluate_importance(importance=importance, relation_root_label='need_for_basic_skill')\n",
    "\n",
    "  # Create Node_1\n",
    "  formatted_basic_skills.loc[i, \"Node_1\"] = str({'label': 'Occupation', 'properties': str({'title': occupation}), 'identifier': str({'title': occupation})})\n",
    "  \n",
    "  # Create Node_1\n",
    "  formatted_basic_skills.loc[i, \"Node_2\"] = str({'label': 'Basic Skill', 'properties': str({'title': skill}), 'identifier': str({'title': skill})})\n",
    "  \n",
    "  # Create Relation\n",
    "  formatted_basic_skills.loc[i, \"Relation\"] = str({'label': relation_label, 'properties': str({'importance': importance, 'level': level})})\n",
    "\n",
    "formatted_basic_skills.to_csv(\"../Datasets/ONET/Formatted CSVs/formatted_basic_skills.csv\")"
   ]
  },
  {
   "cell_type": "markdown",
   "metadata": {},
   "source": [
    "Cross-Functional Skills"
   ]
  },
  {
   "cell_type": "code",
   "execution_count": null,
   "metadata": {},
   "outputs": [],
   "source": [
    "# Load Cross-Functional Skills\n",
    "df = pd.read_csv(\"../Datasets/ONet/combined csvs/Cross-Functional Skills.csv\")\n",
    "\n",
    "# Create an empty dataframe that will be filled according to the format needed by populate_graph()\n",
    "formatted_cross_functional_skills = pd.DataFrame(columns=['Node_1', 'Node_2', 'Relation'])\n",
    "\n",
    "# Fill new dataframe\n",
    "for i in range(len(df)):\n",
    "  level = df.loc[i, 'Level']\n",
    "  job_zone = df.loc[i, 'Job Zone']\n",
    "  occupation = preprocess_string(df.loc[i, 'Occupation'])\n",
    "  skill = preprocess_string(df.loc[i, 'Skill'])\n",
    "  category = preprocess_string(df.loc[i, 'Category'])\n",
    "\n",
    "  # Create relation label based on the level of importance\n",
    "  importance = df.loc[i, 'Importance']\n",
    "  relation_label = evaluate_importance(importance=importance, relation_root_label='need_for_cross_functional_skill')\n",
    "\n",
    "  # Create Node_1\n",
    "  formatted_cross_functional_skills.loc[i, \"Node_1\"] = str({'label': 'Occupation', 'properties': str({'title': occupation}), 'identifier': str({'title': occupation})})\n",
    "\n",
    "  # Create Node_2\n",
    "  formatted_cross_functional_skills.loc[i, \"Node_2\"] = str({'label': category, 'properties': str({'title': skill}), 'identifier': str({'title': skill})})\n",
    "  \n",
    "  # Create Relation\n",
    "  formatted_cross_functional_skills.loc[i, \"Relation\"] = str({'label': relation_label, 'properties': str({'importance': importance, 'level': level})})\n",
    "\n",
    "formatted_cross_functional_skills.to_csv(\"../Datasets/ONET/Formatted CSVs/formatted_cross_functional_skills.csv\")"
   ]
  },
  {
   "cell_type": "markdown",
   "metadata": {},
   "source": [
    "Interests"
   ]
  },
  {
   "cell_type": "code",
   "execution_count": null,
   "metadata": {},
   "outputs": [],
   "source": [
    "# Load Interests\n",
    "df = pd.read_csv(\"../Datasets/ONet/combined csvs/Interests.csv\")\n",
    "\n",
    "# Create an empty dataframe that will be filled according to the format needed by populate_graph()\n",
    "formatted_interests = pd.DataFrame(columns=['Node_1', 'Node_2', 'Relation'])\n",
    "\n",
    "index = -1 # represents a row from the dataframe. \n",
    "\n",
    "# Fill new dataframe\n",
    "for i in range(len(df)):\n",
    "  job_zone = df.loc[i, 'Job Zone']\n",
    "  occupation = preprocess_string(df.loc[i, 'Occupation'])\n",
    "\n",
    "  # Change letters to their full word. example: A -> Artistic and return a list of these words.\n",
    "  coded_personality_traits = df.loc[i, 'Interest Code']\n",
    "  decoded_personality_traits = get_personality_traits(coded_traits=coded_personality_traits)\n",
    "\n",
    "  # Loop over the list of personality traits and create relations between the nodes\n",
    "  for trait in decoded_personality_traits:\n",
    "    index += 1 \n",
    "\n",
    "    # Create Node_1    \n",
    "    formatted_interests.loc[index, \"Node_1\"] = str({'label': 'Occupation', 'properties': str({'title': occupation}), 'identifier': str({'title': occupation})})\n",
    "\n",
    "    # Create Node_2\n",
    "    formatted_interests.loc[index, \"Node_2\"] = str({'label': 'Personality_Trait', 'properties': str({'title': trait}), 'identifier': str({'title': trait})})\n",
    "    \n",
    "    # Create Relation without \"properties\"\n",
    "    formatted_interests.loc[index, \"Relation\"] = str({'label': 'need_for_personality_trait'})\n",
    "\n",
    "\n",
    "formatted_interests.to_csv(\"../Datasets/ONET/Formatted CSVs/formatted_interests.csv\")"
   ]
  },
  {
   "cell_type": "markdown",
   "metadata": {},
   "source": [
    "Knowledge"
   ]
  },
  {
   "cell_type": "code",
   "execution_count": null,
   "metadata": {},
   "outputs": [],
   "source": [
    "# Load Knowledge\n",
    "df = pd.read_csv(\"../Datasets/ONet/combined csvs/Knowledge.csv\")\n",
    "\n",
    "# Create an empty dataframe that will be filled according to the format needed by populate_graph()\n",
    "formatted_knowledge = pd.DataFrame(columns=['Node_1', 'Node_2', 'Relation'])\n",
    "\n",
    "# Fill new dataframe\n",
    "for i in range(len(df)):\n",
    "  level = df.loc[i, 'Level']\n",
    "  job_zone = df.loc[i, 'Job Zone']\n",
    "  occupation = preprocess_string(df.loc[i, 'Occupation'])\n",
    "  knowledge = preprocess_string(df.loc[i, 'Knowledge'])\n",
    "  category = preprocess_string(df.loc[i, 'Category'])\n",
    "\n",
    "  # Create the relation's label based on the importance\n",
    "  importance = df.loc[i, 'Importance']\n",
    "  relation_label = evaluate_importance(importance=importance, relation_root_label='need_for_knowledge_in')\n",
    "\n",
    "  # Create Node_1\n",
    "  formatted_knowledge.loc[i, \"Node_1\"] = str({'label': 'Occupation', 'properties': str({'title': occupation}), 'identifier': str({'title': occupation})})\n",
    "  \n",
    "  # Create Node_2\n",
    "  formatted_knowledge.loc[i, \"Node_2\"]=str({'label': 'Knowledge', 'properties': str({'title': knowledge, 'category': category}), 'identifier': str({'title': knowledge})})\n",
    "  \n",
    "  # Create Relation\n",
    "  formatted_knowledge.loc[i, \"Relation\"] = str({'label': relation_label, 'properties': str({'importance': importance, 'level': level})})\n",
    "\n",
    "formatted_knowledge.to_csv(\"../Datasets/ONET/Formatted CSVs/formatted_knowledge.csv\")"
   ]
  }
 ],
 "metadata": {
  "kernelspec": {
   "display_name": "Python 3",
   "language": "python",
   "name": "python3"
  },
  "language_info": {
   "codemirror_mode": {
    "name": "ipython",
    "version": 3
   },
   "file_extension": ".py",
   "mimetype": "text/x-python",
   "name": "python",
   "nbconvert_exporter": "python",
   "pygments_lexer": "ipython3",
   "version": "3.10.7"
  }
 },
 "nbformat": 4,
 "nbformat_minor": 2
}
