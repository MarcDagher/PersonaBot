{
 "cells": [
  {
   "cell_type": "markdown",
   "metadata": {},
   "source": [
    "Approach 2:\n",
    "- Scientist receives conversation. \n",
    "- Goes through the conversational flow.\n",
    "- Queries the graph. \n",
    "- Save query in history of queries. \n",
    "- Save Query results in history of query results. \n",
    "- ToolMessage is not saved in conversation messages.\n",
    "- Have a variable for the extracted occupations or traits."
   ]
  },
  {
   "cell_type": "code",
   "execution_count": 1,
   "metadata": {},
   "outputs": [],
   "source": [
    "# LangChain\n",
    "from langchain_core.messages import AnyMessage, SystemMessage, HumanMessage, ToolMessage\n",
    "from langchain.graphs import Neo4jGraph\n",
    "from langchain_core.tools import tool\n",
    "from langchain_groq import ChatGroq\n",
    "\n",
    "# LangGraph\n",
    "from langgraph.graph import StateGraph, END\n",
    "from langgraph.checkpoint.memory import MemorySaver\n",
    "\n",
    "# LangSmith\n",
    "from langsmith import traceable\n",
    "\n",
    "# General Imports\n",
    "import os\n",
    "import ast\n",
    "import prompts \n",
    "import operator\n",
    "from pathlib import Path\n",
    "from dotenv import load_dotenv\n",
    "from typing import TypedDict, Annotated # to construct the agent's state\n",
    "from IPython.display import Image, display\n",
    "\n",
    "# Connect to graph\n",
    "dotenv_path = Path('../.env')\n",
    "load_dotenv(dotenv_path=dotenv_path)\n",
    "os.environ[\"NEO4J_URI\"] = os.getenv('uri')\n",
    "os.environ[\"NEO4J_USERNAME\"] = os.getenv('user_name')\n",
    "os.environ[\"NEO4J_PASSWORD\"] = os.getenv('password')\n",
    "os.environ[\"LANGCHAIN_TRACING_V2\"] = os.getenv('LANGCHAIN_TRACING_V2')\n",
    "graph = Neo4jGraph()\n",
    "\n",
    "# Create Agent's State\n",
    "class AgentState(TypedDict):\n",
    "    conversation: Annotated[list[ AnyMessage ], operator.add]\n",
    "    tool_messages: list[ list[AnyMessage] ]\n",
    "    cypher_code_and_query_outputs: Annotated[list[ dict ], operator.add]\n",
    "    extracted_data: Annotated[list[str], operator.add]\n",
    "    query_is_unique: dict\n",
    "    num_queries_made: int\n",
    "\n",
    "# Create the tool to be used by the Agent\n",
    "@tool\n",
    "def query_graph(query):\n",
    "  \"\"\"Query from Neo4j knowledge graph using Cypher.\"\"\"\n",
    "  return graph.query(query)\n",
    "\n",
    "# Create Agent\n",
    "class Agent:\n",
    "\n",
    "    def __init__(self, model, tools, system):\n",
    "        self.system = system\n",
    "        self.tools = {t.name: t for t in tools} # Save the tools' names that can be used\n",
    "        self.model = model.bind_tools(tools) # Provide the name of the tools to the agent\n",
    "\n",
    "        graph = StateGraph(AgentState) # Initialize a stateful graph\n",
    "        memory = MemorySaver()\n",
    "\n",
    "        graph.add_node(\"personality_scientist\", self.call_groq) # LLM node\n",
    "        graph.add_node(\"graph_querying_tool\", self.use_tool) # Use tool(query graph) called by the previous message\n",
    "        graph.add_node(\"structure_queried_data\", self.structure_queried_data)\n",
    "        graph.add_node(\"extract_data\", self.extract_data) # Extract data from last query\n",
    "        graph.add_node(\"recommend_careers\", self.recommend_careers)\n",
    "\n",
    "        ## Create edges\n",
    "        graph.add_conditional_edges(\"personality_scientist\", self.validate_tool_call, {False: END, True: \"graph_querying_tool\"})\n",
    "\n",
    "        graph.add_edge(\"graph_querying_tool\", \"structure_queried_data\")\n",
    "        graph.add_edge(\"structure_queried_data\", \"extract_data\")\n",
    "        graph.add_edge(\"extract_data\", \"recommend_careers\")\n",
    "        graph.add_edge(\"recommend_careers\", END)\n",
    "        graph.set_entry_point(\"personality_scientist\")\n",
    "\n",
    "        # Build graph\n",
    "        self.graph = graph.compile(checkpointer=memory)\n",
    "        display(Image(self.graph.get_graph().draw_mermaid_png()))\n",
    "\n",
    "    ## Get the LLM's response and update the Agent's State by adding the response to the messages\n",
    "    @traceable\n",
    "    def call_groq(self, state: AgentState):\n",
    "        messages = state['conversation']\n",
    "        \n",
    "        if self.system: \n",
    "            conversation = [SystemMessage(content=self.system)] + messages\n",
    "        \n",
    "        ai_response = self.model.invoke(conversation)\n",
    "\n",
    "        return {'conversation': [ai_response], 'num_queries_made': 0}\n",
    "    \n",
    "    ## Check if the model called for an action by checking the last message in the conversation\n",
    "    def validate_tool_call(self, state: AgentState):\n",
    "        ai_message = state['conversation'][-1]\n",
    "        return len(ai_message.tool_calls) > 0\n",
    "\n",
    "    ## Search for the called tools and invoke them.\n",
    "    ## In our case we have one tool: query_graph, so if the tool was correctly called, validate if the query has already been made\n",
    "    def use_tool(self, state: AgentState):\n",
    "        \n",
    "        tool_calls = state['conversation'][-1].tool_calls\n",
    "        num_queries_made = state['num_queries_made']\n",
    "        query_uniqueness_dict = {'status': True, 'index': None} # Initialize it as true and only change it if query already exists\n",
    "        results = []\n",
    "        \n",
    "        for tool in tool_calls:\n",
    "            print(f\"Calling: {tool['name']}\")\n",
    "\n",
    "            ## Checking if tool not found\n",
    "            if not tool['name'] in self.tools: \n",
    "                print(\"\\n ....tool name not found in list of tools....\")\n",
    "                result = \"tool name was not found in the list of tools, retry\"  # instruct LLM to retry\n",
    "            \n",
    "            ## Checking if the query has already been made before\n",
    "            elif tool['name'] == 'query_graph' and len(state['cypher_code_and_query_outputs']) > 0:\n",
    "                print(\"\\n ---- Tool Use Update ----> checking if query exists\")\n",
    "               \n",
    "                # Get the previously written cypher code\n",
    "                previous_queries = []\n",
    "                for i in range(len(state['cypher_code_and_query_outputs'])):\n",
    "                    cypher = state['cypher_code_and_query_outputs'][i]['cypher_code']\n",
    "                    previous_queries.append((f\"index: {i}\", cypher))\n",
    "                \n",
    "                # Get the current cypher code written by the model\n",
    "                query = tool['args']\n",
    "                print(f\"\\n ---- Tool Use Update ----> previous queries: {previous_queries}, new_query: {query}\")\n",
    "\n",
    "                # Instruct the model to check if query already exists\n",
    "                ai_response = self.model.invoke([\n",
    "                SystemMessage(content=prompts.query_validator_prompt),\n",
    "                HumanMessage(content=f\"new cypher query: {query}. List of queries: {previous_queries}\")\n",
    "                ])\n",
    "                \n",
    "                print(f\"\\n---- Tool Use Update ----> ai_response: {ai_response}\\n\")\n",
    "                \n",
    "                # If query is new, query the graph\n",
    "                if 'none' in ai_response.content.lower():\n",
    "                    print(f\"\\n ---- Tool Use Update ----> new query\")\n",
    "                    try:\n",
    "                        result = self.tools[tool['name']].invoke(tool['args'])\n",
    "                        num_queries_made += 1\n",
    "                    except ValueError as e: # If written cypher code is wrong\n",
    "                        result = f\"ValueError occurred: {str(e)}\"    \n",
    "\n",
    "                # If query already exists, give the model the previous output of this query\n",
    "                else:\n",
    "                    print(f\"\\n ---- Tool Use Update ----> query exists\\n\")\n",
    "                    try:\n",
    "                        index = int(ai_response.content)\n",
    "                        result = state['cypher_code_and_query_outputs'][index]['output']\n",
    "                        query_uniqueness_dict = {'status': False, 'index': index}\n",
    "                    except:\n",
    "                        result = \"Something is wrong. Please make sure to give me the correct index and not an empty string.\\\n",
    "                            example: 0\\\n",
    "                            another example: None\"\n",
    "            \n",
    "            ## If no previous queries have been made, query the graph\n",
    "            else:\n",
    "                print(f\"\\n---- Tool Use Update ----> query is unique\\n\")\n",
    "                try:\n",
    "                    result = self.tools[tool['name']].invoke(tool['args'])\n",
    "                    num_queries_made += 1\n",
    "                except ValueError as e: # If written cypher code is wrong\n",
    "                    result = f\"ValueError occurred: {str(e)}\" \n",
    "\n",
    "            # Save the message returned from the tool\n",
    "            results.append(ToolMessage(tool_call_id=tool['id'], name=tool['name'], content=str(result)))\n",
    "\n",
    "        print(\"Back to the model!\")\n",
    "        return {'tool_messages': [results], 'query_is_unique': query_uniqueness_dict, 'num_queries_made': num_queries_made}\n",
    "    \n",
    "    ## Organize the tool's output as: {'cypher_code': Cypher code, 'output': Query output}\n",
    "    def structure_queried_data(self, state: AgentState):\n",
    "        \n",
    "        if state['query_is_unique']['status'] == True:\n",
    "            tool_calls = state['conversation'][-1].additional_kwargs['tool_calls'] # returns a list of dictionaries\n",
    "            query_output = state['tool_messages'][-1] # returns a list of tool messages\n",
    "\n",
    "            structured_outputs = []\n",
    "            for i in range(len(tool_calls)):\n",
    "                cypher_code = ast.literal_eval(tool_calls[i]['function']['arguments'])['query']\n",
    "                output = query_output[i].content\n",
    "                \n",
    "                if cypher_code:\n",
    "                    structured_outputs.append({'cypher_code': cypher_code, 'output': output})\n",
    "\n",
    "            return {'cypher_code_and_query_outputs': structured_outputs}\n",
    "        \n",
    "        else:\n",
    "            print(\"Query already exists, skipping structure_queried_data step\")\n",
    "            return\n",
    "    \n",
    "    ## Model extracts whatever it needs from the queried data\n",
    "    def extract_data(self, state: AgentState):\n",
    "        \n",
    "        if state['query_is_unique']['status'] == True:\n",
    "            # Prepare data to give it to the model\n",
    "            # NOTE: cypher_code_and_query_outputs has individual queries with their respective outputs. Here I am looping over the last (n) number of returned tool messages and grouping them together to give them to the model, because the model can call the tool multiple times and return multiple tool messages. So, I check the number of tool calls (n) and use it as the number of times to loop over the last cypher_code_and_query_outputs.\n",
    "            queried_data = []\n",
    "            last_tool_message = state['tool_messages'][-1]\n",
    "            for i in range(-1, -len(last_tool_message)-1, -1):\n",
    "                cypher_code = state['cypher_code_and_query_outputs'][i]['cypher_code']\n",
    "                output = state['cypher_code_and_query_outputs'][i]['output']\n",
    "                queried_data.append(f\"cypher code: {cypher_code}. output: {output}\")\n",
    "                \n",
    "            prompt = [SystemMessage(content=self.system)] + state['conversation'] + [HumanMessage(content= prompts.extractor_prompt.format(queried_data=queried_data))]\n",
    "        \n",
    "        else:\n",
    "            existing_output_index = state['query_is_unique']['index']\n",
    "            queried_data = state['cypher_code_and_query_outputs'][existing_output_index]['output']\n",
    "\n",
    "            prompt = [SystemMessage(content=self.system)] + state['conversation'] + [HumanMessage(content= prompts.extractor_prompt.format(queried_data=queried_data))]\n",
    "        \n",
    "        extracted_data = self.model.invoke(prompt)\n",
    "        return {\"extracted_data\": [extracted_data.content]}\n",
    "\n",
    "    ## Generate final output\n",
    "    def recommend_careers(self, state: AgentState):\n",
    "        prompt = [SystemMessage(content=self.system)] + state['conversation']\n",
    "        prompt = prompt + [HumanMessage(content= prompts.recommender_prompt.format(extracted_data=state['extracted_data'][-1]))]\n",
    "        \n",
    "        recommended_careers = self.model.invoke(prompt)\n",
    "        return {'conversation': [recommended_careers], 'tool_messages': []}"
   ]
  },
  {
   "cell_type": "code",
   "execution_count": 2,
   "metadata": {},
   "outputs": [
    {
     "data": {
      "image/jpeg": "[encoded data removed]",
      "text/plain": [
       "<IPython.core.display.Image object>"
      ]
     },
     "metadata": {},
     "output_type": "display_data"
    }
   ],
   "source": [
    "model = ChatGroq(temperature=0.8, groq_api_key=os.environ[\"GROQ_API_KEY\"], model_name=\"llama-3.1-70b-versatile\")\n",
    "# model = ChatGroq(temperature=0.8, groq_api_key=os.environ[\"GROQ_API_KEY\"], model_name=\"llama3-70b-8192\")\n",
    "\n",
    "agent = Agent(model=model, tools=[query_graph], system=prompts.personality_scientist_prompt.format(schema=graph.structured_schema))"
   ]
  },
  {
   "cell_type": "code",
   "execution_count": 5,
   "metadata": {},
   "outputs": [
    {
     "name": "stdout",
     "output_type": "stream",
     "text": [
      "================================\u001b[1m Human Message \u001b[0m=================================\n",
      "\n",
      "first option\n",
      "==================================\u001b[1m Ai Message \u001b[0m==================================\n",
      "Tool Calls:\n",
      "  query_graph (call_k6fg)\n",
      " Call ID: call_k6fg\n",
      "  Args:\n",
      "    query: MATCH (n:Occupation)-[]->(m:Personality_Trait) return n,m\n",
      "Calling: query_graph\n",
      "\n",
      "---- Tool Use Update ----> query is unique\n",
      "\n",
      "Back to the model!\n",
      "==================================\u001b[1m Ai Message \u001b[0m==================================\n",
      "Tool Calls:\n",
      "  query_graph (call_k6fg)\n",
      " Call ID: call_k6fg\n",
      "  Args:\n",
      "    query: MATCH (n:Occupation)-[]->(m:Personality_Trait) return n,m\n",
      "==================================\u001b[1m Ai Message \u001b[0m==================================\n",
      "Tool Calls:\n",
      "  query_graph (call_k6fg)\n",
      " Call ID: call_k6fg\n",
      "  Args:\n",
      "    query: MATCH (n:Occupation)-[]->(m:Personality_Trait) return n,m\n",
      "==================================\u001b[1m Ai Message \u001b[0m==================================\n",
      "Tool Calls:\n",
      "  query_graph (call_k6fg)\n",
      " Call ID: call_k6fg\n",
      "  Args:\n",
      "    query: MATCH (n:Occupation)-[]->(m:Personality_Trait) return n,m\n",
      "==================================\u001b[1m Ai Message \u001b[0m==================================\n",
      "\n",
      "Based on our conversation, I've gathered that you tend to enjoy having a clear plan and schedule, and you're also quite outgoing and sociable. From the data extracted from the graph query, I've found some career paths that might suit your personality traits.\n",
      "\n",
      "Here are six suitable career tracks for you:\n",
      "\n",
      "• **Waiters and Waitresses**: As someone who enjoys being sociable, this role would be a great fit. You'll have the opportunity to interact with many people, and your organizational skills will come in handy when managing tables and orders.\n",
      "\n",
      "• **Hosts and Hostesses, Restaurant, Lounge, and Coffee Shop**: Similar to waiting tables, this role involves being the face of the establishment and interacting with customers. Your outgoing personality will shine in this role, and your planning skills will help you manage reservations and seating arrangements.\n",
      "\n",
      "• **Travel Guides**: If you enjoy planning and being social, this role could be an exciting fit. You'll get to plan and lead tours, interact with travelers, and share your knowledge of different places.\n",
      "\n",
      "• **Childcare Workers**: As someone who is sociable and enjoys planning, working with children could be a rewarding career path. You'll have the opportunity to create engaging activities and lesson plans, and your outgoing personality will help you connect with kids and parents alike.\n",
      "\n",
      "• **Dining Room and Cafeteria Attendants and Bartender Helpers**: This role involves interacting with people in a fast-paced environment, which suits your outgoing personality. Your planning skills will also come in handy when managing food and drink orders.\n",
      "\n",
      "• **Baristas**: As a barista, you'll have the opportunity to interact with customers, plan and manage drink orders, and work in a dynamic environment. Your sociable personality will make you a great fit for this role.\n",
      "\n",
      "These careers all involve social interaction, planning, and organization, which seem to align with your personality traits. Remember, these are just suggestions, and ultimately, the right career path for you will depend on your passions and interests.\n"
     ]
    }
   ],
   "source": [
    "thread = {'configurable': {'thread_id': \"4\"}}\n",
    "output = agent.graph.stream({\"conversation\": [HumanMessage(content=\"first option\")]}, thread, stream_mode='values')\n",
    "\n",
    "for message in output:\n",
    "    message['conversation'][-1].pretty_print()"
   ]
  },
  {
   "cell_type": "code",
   "execution_count": 11,
   "metadata": {},
   "outputs": [
    {
     "data": {
      "text/plain": [
       "\"[['Food_Servers,_Nonrestaurant', 'need_for_personality_trait', 'Conventional'], \\n ['Animal_Caretakers', 'need_for_personality_trait', 'Conventional'], \\n ['Waiters_and_Waitresses', 'need_for_personality_trait', 'Conventional'], \\n ['Ushers,_Lobby_Attendants,_and_Ticket_Takers', 'need_for_personality_trait', 'Conventional'], \\n ['Travel_Guides', 'need_for_personality_trait', 'Conventional'], \\n ['School_Bus_Monitors', 'need_for_personality_trait', 'Conventional'], \\n ['Psychiatric_Aides', 'need_for_personality_trait', 'Conventional'], \\n ['Physical_Therapist_Aides', 'need_for_personality_trait', 'Conventional'], \\n ['Personal_Care_Aides', 'need_for_personality_trait', 'Conventional'], \\n ['Hosts_and_Hostesses,_Restaurant,_Lounge,_and_Coffee_Shop', 'need_for_personality_trait', 'Conventional'], \\n ['Home_Health_Aides', 'need_for_personality_trait', 'Conventional'], \\n ['Childcare_Workers', 'need_for_personality_trait', 'Conventional'], \\n ['Dining_Room_and_Cafeteria_Attendants_and_Bartender_Helpers', 'need_for_personality_trait', 'Conventional'], \\n ['Baristas', 'need_for_personality_trait', 'Conventional'], \\n ['Amusement_and_Recreation_Attendants', 'need_for_personality_trait', 'Conventional'], \\n ['Food_Servers,_Nonrestaurant', 'need_for_personality_trait', 'Social'], \\n ['Animal_Trainers', 'need_for_personality_trait', 'Social'], \\n ['Animal_Caretakers', 'need_for_personality_trait', 'Social'], \\n ['Waiters_and_Waitresses', 'need_for_personality_trait', 'Social'], \\n ['Ushers,_Lobby_Attendants,_and_Ticket_Takers', 'need_for_personality_trait', 'Social'], \\n ['Travel_Guides', 'need_for_personality_trait', 'Social'], \\n ['School_Bus_Monitors', 'need_for_personality_trait', 'Social'], \\n ['Psychiatric_Aides', 'need_for_personality_trait', 'Social'], \\n ['Physical_Therapist_Aides', 'need_for_personality_trait', 'Social'], \\n ['Personal_Care_Aides', 'need_for_personality_trait', 'Social'], \\n ['Nannies', 'need_for_personality_trait', 'Social'], \\n ['Hosts_and_Hostesses,_Restaurant,_Lounge,_and_Coffee_Shop', 'need_for_personality_trait', 'Social'], \\n ['Home_Health_Aides', 'need_for_personality_trait', 'Social'], \\n ['Childcare_Workers', 'need_for_personality_trait', 'Social'], \\n ['Dining_Room_and_Cafeteria_Attendants_and_Bartender_Helpers', 'need_for_personality_trait', 'Social'], \\n ['Baristas', 'need_for_personality_trait', 'Social'], \\n ['Amusement_and_Recreation_Attendants', 'need_for_personality_trait', 'Social'], \\n ['Funeral_Attendants', 'need_for_personality_trait', 'Realistic'], \\n ['Food_Servers,_Nonrestaurant', 'need_for_personality_trait', 'Realistic'], \\n ['Animal_Trainers', 'need_for_personality_trait', 'Realistic'], \\n ['Animal_Caretakers', 'need_for_personality_trait', 'Realistic'], \\n ['School_Bus_Monitors', 'need_for_personality_trait', 'Realistic'], \\n ['Physical_Therapist_Aides', 'need_for_personality_trait', 'Realistic'], \\n ['Personal_Care_Aides', 'need_for_personality_trait', 'Realistic'], \\n ['Home_Health_Aides', 'need_for_personality_trait', 'Realistic'], \\n ['Dining_Room_and_Cafeteria_Attendants_and_Bartender_Helpers', 'need_for_personality_trait', 'Realistic'], \\n ['Baristas', 'need_for_personality_trait', 'Realistic'], \\n ['Amusement_and_Recreation_Attendants', 'need_for_personality_trait', 'Realistic'], \\n ['Nannies', 'need_for_personality_trait', 'Artistic'], \\n ['Childcare_Workers', 'need_for_personality_trait', 'Artistic'], \\n ['Waiters_and_Waitresses', 'need_for_personality_trait', 'Enterprising'], \\n ['Ushers,_Lobby_Attendants,_and_Ticket_Takers', 'need_for_personality_trait', 'Enterprising'], \\n ['Travel_Guides', 'need_for_personality_trait', 'Enterprising'], \\n ['Hosts_and_Hostesses,_Restaurant,_Lounge,_and_Coffee_Shop', 'need_for_personality_trait', 'Enterprising'], \\n ['Psychiatric_Aides', 'need_for_personality_trait', 'Investigative']]\""
      ]
     },
     "execution_count": 11,
     "metadata": {},
     "output_type": "execute_result"
    }
   ],
   "source": [
    "state = agent.graph.get_state(thread).values\n",
    "\n",
    "\n",
    "# len(state['tool_messages'][-1]), len(state['cypher_code_and_query_outputs'])\n",
    "# print(f\"tool_messages: {len(state['tool_messages'][-1])}, num_queries_made: {state['num_queries_made']}\")\n",
    "\n",
    "# state['conversation'][-2].additional_kwargs['tool_calls']\n",
    "# state['conversation']\n",
    "state['num_queries_made']\n",
    "# state['query_is_unique']\n",
    "state['extracted_data']\n",
    "# state['tool_messages']\n",
    "# state['cypher_code_and_query_outputs']\n",
    "# state['query_is_unique']\n",
    "\n",
    "state['extracted_data'][-1]"
   ]
  },
  {
   "cell_type": "code",
   "execution_count": 16,
   "metadata": {},
   "outputs": [],
   "source": [
    "results = ast.literal_eval(node_or_string=state['extracted_data'][-1])\n",
    "\n",
    "head = []\n",
    "tail = []\n",
    "relation = []\n"
   ]
  },
  {
   "cell_type": "code",
   "execution_count": 20,
   "metadata": {},
   "outputs": [
    {
     "data": {
      "image/png": "[encoded data removed]",
      "text/plain": [
       "<Figure size 640x480 with 1 Axes>"
      ]
     },
     "metadata": {},
     "output_type": "display_data"
    }
   ],
   "source": [
    "import pandas as pd\n",
    "import networkx as nx\n",
    "import plotly.graph_objects as go\n",
    "import matplotlib.pyplot as plt\n",
    "\n",
    "\n",
    "G = nx.DiGraph()\n",
    "\n",
    "for result in results:\n",
    "\n",
    "    head = result[0]\n",
    "    relation = result[1]\n",
    "    tail = result[2]\n",
    "    \n",
    "    G.add_edge(head, tail, label=relation)\n",
    "\n",
    "pos = nx.spring_layout(G, seed=42)\n",
    "\n",
    "# Draw nodes and edges\n",
    "nx.draw(G, pos, with_labels=True, node_color=\"skyblue\", node_size=2000, font_size=9, font_color=\"black\", font_weight=\"bold\", arrows=True)\n",
    "\n",
    "# Draw edge labels\n",
    "edge_labels = nx.get_edge_attributes(G, 'label')\n",
    "nx.draw_networkx_edge_labels(G, pos, edge_labels=edge_labels)\n",
    "\n",
    "# Show plot\n",
    "plt.show()"
   ]
  },
  {
   "cell_type": "code",
   "execution_count": 33,
   "metadata": {},
   "outputs": [
    {
     "data": {
      "application/vnd.plotly.v1+json": {
       "config": {
        "plotlyServerURL": "https://plot.ly"
       },
       "data": [
        {
         "hoverinfo": "none",
         "line": {
          "color": "gray",
          "width": 0.5
         },
         "mode": "lines",
         "type": "scatter",
         "x": [
          0.17443529056667798,
          -0.1084376135257487,
          null
         ],
         "y": [
          0.20853599035438555,
          0.022461036943999715,
          null
         ]
        },
        {
         "hoverinfo": "none",
         "line": {
          "color": "gray",
          "width": 0.5
         },
         "mode": "lines",
         "type": "scatter",
         "x": [
          0.17443529056667798,
          -0.008097588483797633,
          null
         ],
         "y": [
          0.20853599035438555,
          0.07413354184130802,
          null
         ]
        },
        {
         "hoverinfo": "none",
         "line": {
          "color": "gray",
          "width": 0.5
         },
         "mode": "lines",
         "type": "scatter",
         "x": [
          0.17443529056667798,
          -0.006869160827026347,
          null
         ],
         "y": [
          0.20853599035438555,
          -0.11091518742616252,
          null
         ]
        },
        {
         "hoverinfo": "none",
         "line": {
          "color": "gray",
          "width": 0.5
         },
         "mode": "lines",
         "type": "scatter",
         "x": [
          -0.1084376135257487,
          -0.3708063852561672,
          null
         ],
         "y": [
          0.022461036943999715,
          -0.08423545154730142,
          null
         ]
        },
        {
         "hoverinfo": "none",
         "line": {
          "color": "gray",
          "width": 0.5
         },
         "mode": "lines",
         "type": "scatter",
         "x": [
          -0.1084376135257487,
          -0.5022640163590336,
          null
         ],
         "y": [
          0.022461036943999715,
          0.24737094364732037,
          null
         ]
        },
        {
         "hoverinfo": "none",
         "line": {
          "color": "gray",
          "width": 0.5
         },
         "mode": "lines",
         "type": "scatter",
         "x": [
          -0.1084376135257487,
          -0.42394809251637045,
          null
         ],
         "y": [
          0.022461036943999715,
          0.3813370485050502,
          null
         ]
        },
        {
         "hoverinfo": "none",
         "line": {
          "color": "gray",
          "width": 0.5
         },
         "mode": "lines",
         "type": "scatter",
         "x": [
          -0.1084376135257487,
          -0.32026199824581625,
          null
         ],
         "y": [
          0.022461036943999715,
          0.4964781149638044,
          null
         ]
        },
        {
         "hoverinfo": "none",
         "line": {
          "color": "gray",
          "width": 0.5
         },
         "mode": "lines",
         "type": "scatter",
         "x": [
          -0.1084376135257487,
          -0.15916470851675393,
          null
         ],
         "y": [
          0.022461036943999715,
          0.2702319478479893,
          null
         ]
        },
        {
         "hoverinfo": "none",
         "line": {
          "color": "gray",
          "width": 0.5
         },
         "mode": "lines",
         "type": "scatter",
         "x": [
          -0.1084376135257487,
          0.2291790924666716,
          null
         ],
         "y": [
          0.022461036943999715,
          -0.49446046278744343,
          null
         ]
        },
        {
         "hoverinfo": "none",
         "line": {
          "color": "gray",
          "width": 0.5
         },
         "mode": "lines",
         "type": "scatter",
         "x": [
          -0.1084376135257487,
          0.001062837302391552,
          null
         ],
         "y": [
          0.022461036943999715,
          -0.34326927636060506,
          null
         ]
        },
        {
         "hoverinfo": "none",
         "line": {
          "color": "gray",
          "width": 0.5
         },
         "mode": "lines",
         "type": "scatter",
         "x": [
          -0.1084376135257487,
          0.02578746160733204,
          null
         ],
         "y": [
          0.022461036943999715,
          0.3610206226597054,
          null
         ]
        },
        {
         "hoverinfo": "none",
         "line": {
          "color": "gray",
          "width": 0.5
         },
         "mode": "lines",
         "type": "scatter",
         "x": [
          -0.1084376135257487,
          -0.5695801349846522,
          null
         ],
         "y": [
          0.022461036943999715,
          0.11061663457155639,
          null
         ]
        },
        {
         "hoverinfo": "none",
         "line": {
          "color": "gray",
          "width": 0.5
         },
         "mode": "lines",
         "type": "scatter",
         "x": [
          -0.1084376135257487,
          0.2811797605162573,
          null
         ],
         "y": [
          0.022461036943999715,
          -0.04219125445437626,
          null
         ]
        },
        {
         "hoverinfo": "none",
         "line": {
          "color": "gray",
          "width": 0.5
         },
         "mode": "lines",
         "type": "scatter",
         "x": [
          -0.1084376135257487,
          0.5020556723983328,
          null
         ],
         "y": [
          0.022461036943999715,
          0.10817990449051137,
          null
         ]
        },
        {
         "hoverinfo": "none",
         "line": {
          "color": "gray",
          "width": 0.5
         },
         "mode": "lines",
         "type": "scatter",
         "x": [
          -0.1084376135257487,
          -0.19129499456503818,
          null
         ],
         "y": [
          0.022461036943999715,
          -0.3322201442659939,
          null
         ]
        },
        {
         "hoverinfo": "none",
         "line": {
          "color": "gray",
          "width": 0.5
         },
         "mode": "lines",
         "type": "scatter",
         "x": [
          -0.1084376135257487,
          0.22785129446578098,
          null
         ],
         "y": [
          0.022461036943999715,
          -0.22765088647475318,
          null
         ]
        },
        {
         "hoverinfo": "none",
         "line": {
          "color": "gray",
          "width": 0.5
         },
         "mode": "lines",
         "type": "scatter",
         "x": [
          -0.1084376135257487,
          -0.3414411631773472,
          null
         ],
         "y": [
          0.022461036943999715,
          -0.24928078863656658,
          null
         ]
        },
        {
         "hoverinfo": "none",
         "line": {
          "color": "gray",
          "width": 0.5
         },
         "mode": "lines",
         "type": "scatter",
         "x": [
          -0.3708063852561672,
          -0.008097588483797633,
          null
         ],
         "y": [
          -0.08423545154730142,
          0.07413354184130802,
          null
         ]
        },
        {
         "hoverinfo": "none",
         "line": {
          "color": "gray",
          "width": 0.5
         },
         "mode": "lines",
         "type": "scatter",
         "x": [
          -0.3708063852561672,
          -0.006869160827026347,
          null
         ],
         "y": [
          -0.08423545154730142,
          -0.11091518742616252,
          null
         ]
        },
        {
         "hoverinfo": "none",
         "line": {
          "color": "gray",
          "width": 0.5
         },
         "mode": "lines",
         "type": "scatter",
         "x": [
          -0.5022640163590336,
          -0.008097588483797633,
          null
         ],
         "y": [
          0.24737094364732037,
          0.07413354184130802,
          null
         ]
        },
        {
         "hoverinfo": "none",
         "line": {
          "color": "gray",
          "width": 0.5
         },
         "mode": "lines",
         "type": "scatter",
         "x": [
          -0.5022640163590336,
          -0.7303957104774133,
          null
         ],
         "y": [
          0.24737094364732037,
          0.4732219511994853,
          null
         ]
        },
        {
         "hoverinfo": "none",
         "line": {
          "color": "gray",
          "width": 0.5
         },
         "mode": "lines",
         "type": "scatter",
         "x": [
          -0.42394809251637045,
          -0.008097588483797633,
          null
         ],
         "y": [
          0.3813370485050502,
          0.07413354184130802,
          null
         ]
        },
        {
         "hoverinfo": "none",
         "line": {
          "color": "gray",
          "width": 0.5
         },
         "mode": "lines",
         "type": "scatter",
         "x": [
          -0.42394809251637045,
          -0.7303957104774133,
          null
         ],
         "y": [
          0.3813370485050502,
          0.4732219511994853,
          null
         ]
        },
        {
         "hoverinfo": "none",
         "line": {
          "color": "gray",
          "width": 0.5
         },
         "mode": "lines",
         "type": "scatter",
         "x": [
          -0.32026199824581625,
          -0.008097588483797633,
          null
         ],
         "y": [
          0.4964781149638044,
          0.07413354184130802,
          null
         ]
        },
        {
         "hoverinfo": "none",
         "line": {
          "color": "gray",
          "width": 0.5
         },
         "mode": "lines",
         "type": "scatter",
         "x": [
          -0.32026199824581625,
          -0.7303957104774133,
          null
         ],
         "y": [
          0.4964781149638044,
          0.4732219511994853,
          null
         ]
        },
        {
         "hoverinfo": "none",
         "line": {
          "color": "gray",
          "width": 0.5
         },
         "mode": "lines",
         "type": "scatter",
         "x": [
          -0.15916470851675393,
          -0.008097588483797633,
          null
         ],
         "y": [
          0.2702319478479893,
          0.07413354184130802,
          null
         ]
        },
        {
         "hoverinfo": "none",
         "line": {
          "color": "gray",
          "width": 0.5
         },
         "mode": "lines",
         "type": "scatter",
         "x": [
          -0.15916470851675393,
          -0.006869160827026347,
          null
         ],
         "y": [
          0.2702319478479893,
          -0.11091518742616252,
          null
         ]
        },
        {
         "hoverinfo": "none",
         "line": {
          "color": "gray",
          "width": 0.5
         },
         "mode": "lines",
         "type": "scatter",
         "x": [
          0.2291790924666716,
          -0.008097588483797633,
          null
         ],
         "y": [
          -0.49446046278744343,
          0.07413354184130802,
          null
         ]
        },
        {
         "hoverinfo": "none",
         "line": {
          "color": "gray",
          "width": 0.5
         },
         "mode": "lines",
         "type": "scatter",
         "x": [
          0.2291790924666716,
          0.48182041040173795,
          null
         ],
         "y": [
          -0.49446046278744343,
          -1,
          null
         ]
        },
        {
         "hoverinfo": "none",
         "line": {
          "color": "gray",
          "width": 0.5
         },
         "mode": "lines",
         "type": "scatter",
         "x": [
          0.001062837302391552,
          -0.008097588483797633,
          null
         ],
         "y": [
          -0.34326927636060506,
          0.07413354184130802,
          null
         ]
        },
        {
         "hoverinfo": "none",
         "line": {
          "color": "gray",
          "width": 0.5
         },
         "mode": "lines",
         "type": "scatter",
         "x": [
          0.001062837302391552,
          -0.006869160827026347,
          null
         ],
         "y": [
          -0.34326927636060506,
          -0.11091518742616252,
          null
         ]
        },
        {
         "hoverinfo": "none",
         "line": {
          "color": "gray",
          "width": 0.5
         },
         "mode": "lines",
         "type": "scatter",
         "x": [
          0.02578746160733204,
          -0.008097588483797633,
          null
         ],
         "y": [
          0.3610206226597054,
          0.07413354184130802,
          null
         ]
        },
        {
         "hoverinfo": "none",
         "line": {
          "color": "gray",
          "width": 0.5
         },
         "mode": "lines",
         "type": "scatter",
         "x": [
          0.02578746160733204,
          -0.006869160827026347,
          null
         ],
         "y": [
          0.3610206226597054,
          -0.11091518742616252,
          null
         ]
        },
        {
         "hoverinfo": "none",
         "line": {
          "color": "gray",
          "width": 0.5
         },
         "mode": "lines",
         "type": "scatter",
         "x": [
          -0.5695801349846522,
          -0.008097588483797633,
          null
         ],
         "y": [
          0.11061663457155639,
          0.07413354184130802,
          null
         ]
        },
        {
         "hoverinfo": "none",
         "line": {
          "color": "gray",
          "width": 0.5
         },
         "mode": "lines",
         "type": "scatter",
         "x": [
          -0.5695801349846522,
          -0.7303957104774133,
          null
         ],
         "y": [
          0.11061663457155639,
          0.4732219511994853,
          null
         ]
        },
        {
         "hoverinfo": "none",
         "line": {
          "color": "gray",
          "width": 0.5
         },
         "mode": "lines",
         "type": "scatter",
         "x": [
          0.2811797605162573,
          -0.008097588483797633,
          null
         ],
         "y": [
          -0.04219125445437626,
          0.07413354184130802,
          null
         ]
        },
        {
         "hoverinfo": "none",
         "line": {
          "color": "gray",
          "width": 0.5
         },
         "mode": "lines",
         "type": "scatter",
         "x": [
          0.2811797605162573,
          -0.006869160827026347,
          null
         ],
         "y": [
          -0.04219125445437626,
          -0.11091518742616252,
          null
         ]
        },
        {
         "hoverinfo": "none",
         "line": {
          "color": "gray",
          "width": 0.5
         },
         "mode": "lines",
         "type": "scatter",
         "x": [
          0.5020556723983328,
          -0.008097588483797633,
          null
         ],
         "y": [
          0.10817990449051137,
          0.07413354184130802,
          null
         ]
        },
        {
         "hoverinfo": "none",
         "line": {
          "color": "gray",
          "width": 0.5
         },
         "mode": "lines",
         "type": "scatter",
         "x": [
          0.5020556723983328,
          0.999024403189331,
          null
         ],
         "y": [
          0.10817990449051137,
          0.22435296327496715,
          null
         ]
        },
        {
         "hoverinfo": "none",
         "line": {
          "color": "gray",
          "width": 0.5
         },
         "mode": "lines",
         "type": "scatter",
         "x": [
          -0.19129499456503818,
          -0.008097588483797633,
          null
         ],
         "y": [
          -0.3322201442659939,
          0.07413354184130802,
          null
         ]
        },
        {
         "hoverinfo": "none",
         "line": {
          "color": "gray",
          "width": 0.5
         },
         "mode": "lines",
         "type": "scatter",
         "x": [
          -0.19129499456503818,
          -0.006869160827026347,
          null
         ],
         "y": [
          -0.3322201442659939,
          -0.11091518742616252,
          null
         ]
        },
        {
         "hoverinfo": "none",
         "line": {
          "color": "gray",
          "width": 0.5
         },
         "mode": "lines",
         "type": "scatter",
         "x": [
          0.22785129446578098,
          -0.008097588483797633,
          null
         ],
         "y": [
          -0.22765088647475318,
          0.07413354184130802,
          null
         ]
        },
        {
         "hoverinfo": "none",
         "line": {
          "color": "gray",
          "width": 0.5
         },
         "mode": "lines",
         "type": "scatter",
         "x": [
          0.22785129446578098,
          -0.006869160827026347,
          null
         ],
         "y": [
          -0.22765088647475318,
          -0.11091518742616252,
          null
         ]
        },
        {
         "hoverinfo": "none",
         "line": {
          "color": "gray",
          "width": 0.5
         },
         "mode": "lines",
         "type": "scatter",
         "x": [
          -0.3414411631773472,
          -0.008097588483797633,
          null
         ],
         "y": [
          -0.24928078863656658,
          0.07413354184130802,
          null
         ]
        },
        {
         "hoverinfo": "none",
         "line": {
          "color": "gray",
          "width": 0.5
         },
         "mode": "lines",
         "type": "scatter",
         "x": [
          -0.3414411631773472,
          -0.006869160827026347,
          null
         ],
         "y": [
          -0.24928078863656658,
          -0.11091518742616252,
          null
         ]
        },
        {
         "hoverinfo": "none",
         "line": {
          "color": "gray",
          "width": 0.5
         },
         "mode": "lines",
         "type": "scatter",
         "x": [
          -0.008097588483797633,
          0.30097917144591496,
          null
         ],
         "y": [
          0.07413354184130802,
          0.3462986022610066,
          null
         ]
        },
        {
         "hoverinfo": "none",
         "line": {
          "color": "gray",
          "width": 0.5
         },
         "mode": "lines",
         "type": "scatter",
         "x": [
          -0.008097588483797633,
          0.6661465652349519,
          null
         ],
         "y": [
          0.07413354184130802,
          0.29435440824404546,
          null
         ]
        },
        {
         "hoverinfo": "none",
         "line": {
          "color": "gray",
          "width": 0.5
         },
         "mode": "lines",
         "type": "scatter",
         "x": [
          0.30097917144591496,
          -0.006869160827026347,
          null
         ],
         "y": [
          0.3462986022610066,
          -0.11091518742616252,
          null
         ]
        },
        {
         "hoverinfo": "none",
         "line": {
          "color": "gray",
          "width": 0.5
         },
         "mode": "lines",
         "type": "scatter",
         "x": [
          0.6661465652349519,
          0.999024403189331,
          null
         ],
         "y": [
          0.29435440824404546,
          0.22435296327496715,
          null
         ]
        },
        {
         "hoverinfo": "none",
         "line": {
          "color": "gray",
          "width": 0.5
         },
         "mode": "lines",
         "type": "scatter",
         "x": [
          -0.15696039266021436,
          -0.006869160827026347,
          null
         ],
         "y": [
          -0.7343702588519336,
          -0.11091518742616252,
          null
         ]
        },
        {
         "hoverinfo": "text",
         "marker": {
          "color": "lightblue",
          "size": 10
         },
         "mode": "markers+text",
         "text": [
          "Food_Servers,_Nonrestaurant",
          "Conventional",
          "Animal_Caretakers",
          "Waiters_and_Waitresses",
          "Ushers,_Lobby_Attendants,_and_Ticket_Takers",
          "Travel_Guides",
          "School_Bus_Monitors",
          "Psychiatric_Aides",
          "Physical_Therapist_Aides",
          "Personal_Care_Aides",
          "Hosts_and_Hostesses,_Restaurant,_Lounge,_and_Coffee_Shop",
          "Home_Health_Aides",
          "Childcare_Workers",
          "Dining_Room_and_Cafeteria_Attendants_and_Bartender_Helpers",
          "Baristas",
          "Amusement_and_Recreation_Attendants",
          "Social",
          "Animal_Trainers",
          "Nannies",
          "Funeral_Attendants",
          "Realistic",
          "Artistic",
          "Enterprising",
          "Investigative"
         ],
         "textfont": {
          "size": 7
         },
         "textposition": "top center",
         "type": "scatter",
         "x": [
          0.17443529056667798,
          -0.1084376135257487,
          -0.3708063852561672,
          -0.5022640163590336,
          -0.42394809251637045,
          -0.32026199824581625,
          -0.15916470851675393,
          0.2291790924666716,
          0.001062837302391552,
          0.02578746160733204,
          -0.5695801349846522,
          0.2811797605162573,
          0.5020556723983328,
          -0.19129499456503818,
          0.22785129446578098,
          -0.3414411631773472,
          -0.008097588483797633,
          0.30097917144591496,
          0.6661465652349519,
          -0.15696039266021436,
          -0.006869160827026347,
          0.999024403189331,
          -0.7303957104774133,
          0.48182041040173795
         ],
         "y": [
          0.20853599035438555,
          0.022461036943999715,
          -0.08423545154730142,
          0.24737094364732037,
          0.3813370485050502,
          0.4964781149638044,
          0.2702319478479893,
          -0.49446046278744343,
          -0.34326927636060506,
          0.3610206226597054,
          0.11061663457155639,
          -0.04219125445437626,
          0.10817990449051137,
          -0.3322201442659939,
          -0.22765088647475318,
          -0.24928078863656658,
          0.07413354184130802,
          0.3462986022610066,
          0.29435440824404546,
          -0.7343702588519336,
          -0.11091518742616252,
          0.22435296327496715,
          0.4732219511994853,
          -1
         ]
        },
        {
         "hoverinfo": "none",
         "mode": "text",
         "text": [
          "",
          "",
          "",
          "",
          "",
          "",
          "",
          "",
          "",
          "",
          "",
          "",
          "",
          "",
          "",
          "",
          "",
          "",
          "",
          "",
          "",
          "",
          "",
          "",
          "",
          "",
          "",
          "",
          "",
          "",
          "",
          "",
          "",
          "",
          "",
          "",
          "",
          "",
          "",
          "",
          "",
          "",
          "",
          "",
          "",
          "",
          "",
          "",
          "",
          ""
         ],
         "textfont": {
          "size": 7
         },
         "textposition": "middle center",
         "type": "scatter",
         "x": [
          0.03299883852046464,
          0.08316885104144017,
          0.08378306486982581,
          -0.23962199939095796,
          -0.30535081494239114,
          -0.26619285302105955,
          -0.21434980588578248,
          -0.1338011610212513,
          0.06037073947046145,
          -0.05368738811167857,
          -0.04132507595920833,
          -0.33900887425520043,
          0.0863710734952543,
          0.19680902943629205,
          -0.14986630404539344,
          0.05970684047001614,
          -0.22493938835154795,
          -0.18945198686998244,
          -0.18883777304159677,
          -0.2551808024214156,
          -0.6163298634182235,
          -0.21602284050008405,
          -0.5771719014968919,
          -0.16417979336480695,
          -0.5253288543616148,
          -0.08363114850027578,
          -0.08301693467189014,
          0.11054075199143698,
          0.35549975143420476,
          -0.003517375590703041,
          -0.002903161762317397,
          0.008844936561767203,
          0.009459150390152847,
          -0.2888388617342249,
          -0.6499879227310328,
          0.13654108601622983,
          0.1371552998446155,
          0.24697904195726758,
          0.7505400377938318,
          -0.0996962915244179,
          -0.09908207769603226,
          0.10987685299099167,
          0.11049106681937731,
          -0.17476937583057242,
          -0.17415516200218675,
          0.14644079148105865,
          0.32902448837557713,
          0.14705500530944432,
          0.8325854842121414,
          -0.08191477674362035
         ],
         "y": [
          0.11549851364919264,
          0.1413347660978468,
          0.048810401464111516,
          -0.03088720730165085,
          0.13491599029566004,
          0.20189904272452494,
          0.2594695759539021,
          0.1463464923959945,
          -0.23599971292172187,
          -0.16040411970830268,
          0.19174082980185256,
          0.06653883575777805,
          -0.009865108755188274,
          0.06532047071725555,
          -0.1548795536609971,
          -0.10259492476537674,
          -0.11340987584628343,
          -0.0050509548529966974,
          -0.09757531948673197,
          0.1607522427443142,
          0.36029644742340283,
          0.2277352951731791,
          0.42727949985226776,
          0.2853058284025562,
          0.48485003308164487,
          0.17218274484464868,
          0.0796583802109134,
          -0.21016346047306772,
          -0.7472302313937217,
          -0.13456786725964853,
          -0.2270922318933838,
          0.2175770822505067,
          0.12505271761677145,
          0.0923750882064322,
          0.2919192928855208,
          0.01597114369346588,
          -0.0765532209402694,
          0.0911567231659097,
          0.16626643388273926,
          -0.12904330121234292,
          -0.2215676658460782,
          -0.07675867231672258,
          -0.16928303695045785,
          -0.08757362339762928,
          -0.18009798803136456,
          0.21021607205115733,
          0.18424397504267676,
          0.11769170741742205,
          0.2593536857595063,
          -0.42264272313904805
         ]
        }
       ],
       "layout": {
        "hovermode": "closest",
        "margin": {
         "b": 20,
         "l": 5,
         "r": 5,
         "t": 40
        },
        "showlegend": false,
        "template": {
         "data": {
          "bar": [
           {
            "error_x": {
             "color": "#2a3f5f"
            },
            "error_y": {
             "color": "#2a3f5f"
            },
            "marker": {
             "line": {
              "color": "#E5ECF6",
              "width": 0.5
             },
             "pattern": {
              "fillmode": "overlay",
              "size": 10,
              "solidity": 0.2
             }
            },
            "type": "bar"
           }
          ],
          "barpolar": [
           {
            "marker": {
             "line": {
              "color": "#E5ECF6",
              "width": 0.5
             },
             "pattern": {
              "fillmode": "overlay",
              "size": 10,
              "solidity": 0.2
             }
            },
            "type": "barpolar"
           }
          ],
          "carpet": [
           {
            "aaxis": {
             "endlinecolor": "#2a3f5f",
             "gridcolor": "white",
             "linecolor": "white",
             "minorgridcolor": "white",
             "startlinecolor": "#2a3f5f"
            },
            "baxis": {
             "endlinecolor": "#2a3f5f",
             "gridcolor": "white",
             "linecolor": "white",
             "minorgridcolor": "white",
             "startlinecolor": "#2a3f5f"
            },
            "type": "carpet"
           }
          ],
          "choropleth": [
           {
            "colorbar": {
             "outlinewidth": 0,
             "ticks": ""
            },
            "type": "choropleth"
           }
          ],
          "contour": [
           {
            "colorbar": {
             "outlinewidth": 0,
             "ticks": ""
            },
            "colorscale": [
             [
              0,
              "#0d0887"
             ],
             [
              0.1111111111111111,
              "#46039f"
             ],
             [
              0.2222222222222222,
              "#7201a8"
             ],
             [
              0.3333333333333333,
              "#9c179e"
             ],
             [
              0.4444444444444444,
              "#bd3786"
             ],
             [
              0.5555555555555556,
              "#d8576b"
             ],
             [
              0.6666666666666666,
              "#ed7953"
             ],
             [
              0.7777777777777778,
              "#fb9f3a"
             ],
             [
              0.8888888888888888,
              "#fdca26"
             ],
             [
              1,
              "#f0f921"
             ]
            ],
            "type": "contour"
           }
          ],
          "contourcarpet": [
           {
            "colorbar": {
             "outlinewidth": 0,
             "ticks": ""
            },
            "type": "contourcarpet"
           }
          ],
          "heatmap": [
           {
            "colorbar": {
             "outlinewidth": 0,
             "ticks": ""
            },
            "colorscale": [
             [
              0,
              "#0d0887"
             ],
             [
              0.1111111111111111,
              "#46039f"
             ],
             [
              0.2222222222222222,
              "#7201a8"
             ],
             [
              0.3333333333333333,
              "#9c179e"
             ],
             [
              0.4444444444444444,
              "#bd3786"
             ],
             [
              0.5555555555555556,
              "#d8576b"
             ],
             [
              0.6666666666666666,
              "#ed7953"
             ],
             [
              0.7777777777777778,
              "#fb9f3a"
             ],
             [
              0.8888888888888888,
              "#fdca26"
             ],
             [
              1,
              "#f0f921"
             ]
            ],
            "type": "heatmap"
           }
          ],
          "heatmapgl": [
           {
            "colorbar": {
             "outlinewidth": 0,
             "ticks": ""
            },
            "colorscale": [
             [
              0,
              "#0d0887"
             ],
             [
              0.1111111111111111,
              "#46039f"
             ],
             [
              0.2222222222222222,
              "#7201a8"
             ],
             [
              0.3333333333333333,
              "#9c179e"
             ],
             [
              0.4444444444444444,
              "#bd3786"
             ],
             [
              0.5555555555555556,
              "#d8576b"
             ],
             [
              0.6666666666666666,
              "#ed7953"
             ],
             [
              0.7777777777777778,
              "#fb9f3a"
             ],
             [
              0.8888888888888888,
              "#fdca26"
             ],
             [
              1,
              "#f0f921"
             ]
            ],
            "type": "heatmapgl"
           }
          ],
          "histogram": [
           {
            "marker": {
             "pattern": {
              "fillmode": "overlay",
              "size": 10,
              "solidity": 0.2
             }
            },
            "type": "histogram"
           }
          ],
          "histogram2d": [
           {
            "colorbar": {
             "outlinewidth": 0,
             "ticks": ""
            },
            "colorscale": [
             [
              0,
              "#0d0887"
             ],
             [
              0.1111111111111111,
              "#46039f"
             ],
             [
              0.2222222222222222,
              "#7201a8"
             ],
             [
              0.3333333333333333,
              "#9c179e"
             ],
             [
              0.4444444444444444,
              "#bd3786"
             ],
             [
              0.5555555555555556,
              "#d8576b"
             ],
             [
              0.6666666666666666,
              "#ed7953"
             ],
             [
              0.7777777777777778,
              "#fb9f3a"
             ],
             [
              0.8888888888888888,
              "#fdca26"
             ],
             [
              1,
              "#f0f921"
             ]
            ],
            "type": "histogram2d"
           }
          ],
          "histogram2dcontour": [
           {
            "colorbar": {
             "outlinewidth": 0,
             "ticks": ""
            },
            "colorscale": [
             [
              0,
              "#0d0887"
             ],
             [
              0.1111111111111111,
              "#46039f"
             ],
             [
              0.2222222222222222,
              "#7201a8"
             ],
             [
              0.3333333333333333,
              "#9c179e"
             ],
             [
              0.4444444444444444,
              "#bd3786"
             ],
             [
              0.5555555555555556,
              "#d8576b"
             ],
             [
              0.6666666666666666,
              "#ed7953"
             ],
             [
              0.7777777777777778,
              "#fb9f3a"
             ],
             [
              0.8888888888888888,
              "#fdca26"
             ],
             [
              1,
              "#f0f921"
             ]
            ],
            "type": "histogram2dcontour"
           }
          ],
          "mesh3d": [
           {
            "colorbar": {
             "outlinewidth": 0,
             "ticks": ""
            },
            "type": "mesh3d"
           }
          ],
          "parcoords": [
           {
            "line": {
             "colorbar": {
              "outlinewidth": 0,
              "ticks": ""
             }
            },
            "type": "parcoords"
           }
          ],
          "pie": [
           {
            "automargin": true,
            "type": "pie"
           }
          ],
          "scatter": [
           {
            "fillpattern": {
             "fillmode": "overlay",
             "size": 10,
             "solidity": 0.2
            },
            "type": "scatter"
           }
          ],
          "scatter3d": [
           {
            "line": {
             "colorbar": {
              "outlinewidth": 0,
              "ticks": ""
             }
            },
            "marker": {
             "colorbar": {
              "outlinewidth": 0,
              "ticks": ""
             }
            },
            "type": "scatter3d"
           }
          ],
          "scattercarpet": [
           {
            "marker": {
             "colorbar": {
              "outlinewidth": 0,
              "ticks": ""
             }
            },
            "type": "scattercarpet"
           }
          ],
          "scattergeo": [
           {
            "marker": {
             "colorbar": {
              "outlinewidth": 0,
              "ticks": ""
             }
            },
            "type": "scattergeo"
           }
          ],
          "scattergl": [
           {
            "marker": {
             "colorbar": {
              "outlinewidth": 0,
              "ticks": ""
             }
            },
            "type": "scattergl"
           }
          ],
          "scattermapbox": [
           {
            "marker": {
             "colorbar": {
              "outlinewidth": 0,
              "ticks": ""
             }
            },
            "type": "scattermapbox"
           }
          ],
          "scatterpolar": [
           {
            "marker": {
             "colorbar": {
              "outlinewidth": 0,
              "ticks": ""
             }
            },
            "type": "scatterpolar"
           }
          ],
          "scatterpolargl": [
           {
            "marker": {
             "colorbar": {
              "outlinewidth": 0,
              "ticks": ""
             }
            },
            "type": "scatterpolargl"
           }
          ],
          "scatterternary": [
           {
            "marker": {
             "colorbar": {
              "outlinewidth": 0,
              "ticks": ""
             }
            },
            "type": "scatterternary"
           }
          ],
          "surface": [
           {
            "colorbar": {
             "outlinewidth": 0,
             "ticks": ""
            },
            "colorscale": [
             [
              0,
              "#0d0887"
             ],
             [
              0.1111111111111111,
              "#46039f"
             ],
             [
              0.2222222222222222,
              "#7201a8"
             ],
             [
              0.3333333333333333,
              "#9c179e"
             ],
             [
              0.4444444444444444,
              "#bd3786"
             ],
             [
              0.5555555555555556,
              "#d8576b"
             ],
             [
              0.6666666666666666,
              "#ed7953"
             ],
             [
              0.7777777777777778,
              "#fb9f3a"
             ],
             [
              0.8888888888888888,
              "#fdca26"
             ],
             [
              1,
              "#f0f921"
             ]
            ],
            "type": "surface"
           }
          ],
          "table": [
           {
            "cells": {
             "fill": {
              "color": "#EBF0F8"
             },
             "line": {
              "color": "white"
             }
            },
            "header": {
             "fill": {
              "color": "#C8D4E3"
             },
             "line": {
              "color": "white"
             }
            },
            "type": "table"
           }
          ]
         },
         "layout": {
          "annotationdefaults": {
           "arrowcolor": "#2a3f5f",
           "arrowhead": 0,
           "arrowwidth": 1
          },
          "autotypenumbers": "strict",
          "coloraxis": {
           "colorbar": {
            "outlinewidth": 0,
            "ticks": ""
           }
          },
          "colorscale": {
           "diverging": [
            [
             0,
             "#8e0152"
            ],
            [
             0.1,
             "#c51b7d"
            ],
            [
             0.2,
             "#de77ae"
            ],
            [
             0.3,
             "#f1b6da"
            ],
            [
             0.4,
             "#fde0ef"
            ],
            [
             0.5,
             "#f7f7f7"
            ],
            [
             0.6,
             "#e6f5d0"
            ],
            [
             0.7,
             "#b8e186"
            ],
            [
             0.8,
             "#7fbc41"
            ],
            [
             0.9,
             "#4d9221"
            ],
            [
             1,
             "#276419"
            ]
           ],
           "sequential": [
            [
             0,
             "#0d0887"
            ],
            [
             0.1111111111111111,
             "#46039f"
            ],
            [
             0.2222222222222222,
             "#7201a8"
            ],
            [
             0.3333333333333333,
             "#9c179e"
            ],
            [
             0.4444444444444444,
             "#bd3786"
            ],
            [
             0.5555555555555556,
             "#d8576b"
            ],
            [
             0.6666666666666666,
             "#ed7953"
            ],
            [
             0.7777777777777778,
             "#fb9f3a"
            ],
            [
             0.8888888888888888,
             "#fdca26"
            ],
            [
             1,
             "#f0f921"
            ]
           ],
           "sequentialminus": [
            [
             0,
             "#0d0887"
            ],
            [
             0.1111111111111111,
             "#46039f"
            ],
            [
             0.2222222222222222,
             "#7201a8"
            ],
            [
             0.3333333333333333,
             "#9c179e"
            ],
            [
             0.4444444444444444,
             "#bd3786"
            ],
            [
             0.5555555555555556,
             "#d8576b"
            ],
            [
             0.6666666666666666,
             "#ed7953"
            ],
            [
             0.7777777777777778,
             "#fb9f3a"
            ],
            [
             0.8888888888888888,
             "#fdca26"
            ],
            [
             1,
             "#f0f921"
            ]
           ]
          },
          "colorway": [
           "#636efa",
           "#EF553B",
           "#00cc96",
           "#ab63fa",
           "#FFA15A",
           "#19d3f3",
           "#FF6692",
           "#B6E880",
           "#FF97FF",
           "#FECB52"
          ],
          "font": {
           "color": "#2a3f5f"
          },
          "geo": {
           "bgcolor": "white",
           "lakecolor": "white",
           "landcolor": "#E5ECF6",
           "showlakes": true,
           "showland": true,
           "subunitcolor": "white"
          },
          "hoverlabel": {
           "align": "left"
          },
          "hovermode": "closest",
          "mapbox": {
           "style": "light"
          },
          "paper_bgcolor": "white",
          "plot_bgcolor": "#E5ECF6",
          "polar": {
           "angularaxis": {
            "gridcolor": "white",
            "linecolor": "white",
            "ticks": ""
           },
           "bgcolor": "#E5ECF6",
           "radialaxis": {
            "gridcolor": "white",
            "linecolor": "white",
            "ticks": ""
           }
          },
          "scene": {
           "xaxis": {
            "backgroundcolor": "#E5ECF6",
            "gridcolor": "white",
            "gridwidth": 2,
            "linecolor": "white",
            "showbackground": true,
            "ticks": "",
            "zerolinecolor": "white"
           },
           "yaxis": {
            "backgroundcolor": "#E5ECF6",
            "gridcolor": "white",
            "gridwidth": 2,
            "linecolor": "white",
            "showbackground": true,
            "ticks": "",
            "zerolinecolor": "white"
           },
           "zaxis": {
            "backgroundcolor": "#E5ECF6",
            "gridcolor": "white",
            "gridwidth": 2,
            "linecolor": "white",
            "showbackground": true,
            "ticks": "",
            "zerolinecolor": "white"
           }
          },
          "shapedefaults": {
           "line": {
            "color": "#2a3f5f"
           }
          },
          "ternary": {
           "aaxis": {
            "gridcolor": "white",
            "linecolor": "white",
            "ticks": ""
           },
           "baxis": {
            "gridcolor": "white",
            "linecolor": "white",
            "ticks": ""
           },
           "bgcolor": "#E5ECF6",
           "caxis": {
            "gridcolor": "white",
            "linecolor": "white",
            "ticks": ""
           }
          },
          "title": {
           "x": 0.05
          },
          "xaxis": {
           "automargin": true,
           "gridcolor": "white",
           "linecolor": "white",
           "ticks": "",
           "title": {
            "standoff": 15
           },
           "zerolinecolor": "white",
           "zerolinewidth": 2
          },
          "yaxis": {
           "automargin": true,
           "gridcolor": "white",
           "linecolor": "white",
           "ticks": "",
           "title": {
            "standoff": 15
           },
           "zerolinecolor": "white",
           "zerolinewidth": 2
          }
         }
        },
        "title": {
         "font": {
          "size": 16
         },
         "text": "Knowledge Graph",
         "x": 0.5
        },
        "xaxis": {
         "visible": false
        },
        "yaxis": {
         "visible": false
        }
       }
      }
     },
     "metadata": {},
     "output_type": "display_data"
    }
   ],
   "source": [
    "import pandas as pd\n",
    "import networkx as nx\n",
    "import plotly.graph_objects as go\n",
    "\n",
    "def create_extracted_traits_graph(data):\n",
    "  heads = []\n",
    "  tails = []\n",
    "  relations = []\n",
    "  \n",
    "  for row in data:\n",
    "    head = row[0]\n",
    "    relation = row[1]\n",
    "    tail = row[2]\n",
    "    \n",
    "    heads.append(head)\n",
    "    tails.append(tail)\n",
    "    relations.append(relation)\n",
    "\n",
    "  df = pd.DataFrame({'head': heads,  'tail': tails, 'relation': relations})\n",
    "\n",
    "  G = nx.Graph()\n",
    "  for _, row in df.iterrows():\n",
    "    G.add_edge(row['head'], row['tail'], label=\"\")\n",
    "\n",
    "  # Get positions for nodes\n",
    "  pos = nx.fruchterman_reingold_layout(G, k=0.5)\n",
    "\n",
    "  # Create edge traces\n",
    "  edge_traces = []\n",
    "  for edge in G.edges():\n",
    "      x0, y0 = pos[edge[0]]\n",
    "      x1, y1 = pos[edge[1]]\n",
    "      edge_trace = go.Scatter(\n",
    "          x=[x0, x1, None],\n",
    "          y=[y0, y1, None],\n",
    "          mode='lines',\n",
    "          line=dict(width=0.5, color='gray'),\n",
    "          hoverinfo='none'\n",
    "      )\n",
    "      edge_traces.append(edge_trace)\n",
    "\n",
    "  # Create node trace\n",
    "  node_trace = go.Scatter(\n",
    "      x=[pos[node][0] for node in G.nodes()],\n",
    "      y=[pos[node][1] for node in G.nodes()],\n",
    "      mode='markers+text',\n",
    "      marker=dict(size=10, color='lightblue'),\n",
    "      text=[node for node in G.nodes()],\n",
    "      textposition='top center',\n",
    "      hoverinfo='text',\n",
    "      textfont=dict(size=7)\n",
    "  )\n",
    "\n",
    "  # Create edge label trace\n",
    "  edge_label_trace = go.Scatter(\n",
    "      x=[(pos[edge[0]][0] + pos[edge[1]][0]) / 2 for edge in G.edges()],\n",
    "      y=[(pos[edge[0]][1] + pos[edge[1]][1]) / 2 for edge in G.edges()],\n",
    "      mode='text',\n",
    "      text=[G[edge[0]][edge[1]]['label'] for edge in G.edges()],\n",
    "      textposition='middle center',\n",
    "      hoverinfo='none',\n",
    "      textfont=dict(size=7)\n",
    "  )\n",
    "\n",
    "  # Create layout\n",
    "  layout = go.Layout(\n",
    "      title='Knowledge Graph',\n",
    "      titlefont_size=16,\n",
    "      title_x=0.5,\n",
    "      showlegend=False,\n",
    "      hovermode='closest',\n",
    "      margin=dict(b=20, l=5, r=5, t=40),\n",
    "      xaxis_visible=False,\n",
    "      yaxis_visible=False\n",
    "  )\n",
    "\n",
    "  # Create Plotly figure\n",
    "  fig = go.Figure(data=edge_traces + [node_trace, edge_label_trace], layout=layout)\n",
    "\n",
    "  return fig\n",
    "\n",
    "create_plotly_graph(results)"
   ]
  },
  {
   "cell_type": "code",
   "execution_count": null,
   "metadata": {},
   "outputs": [],
   "source": [
    "def extract_labels_from_query(cypher_code):\n",
    "  # Extract start index and end index of the labels example: (n:Occupation) => start is ( end is )\n",
    "  start = []\n",
    "  end = []\n",
    "  for i, character in enumerate(cypher_code):\n",
    "    if character == \"(\": start.append(i+1)\n",
    "    if character == \")\": end.append(i)\n",
    "\n",
    "  # Extract the labels using the start and end indicies. return labels as {'n': 'Occupation'...}\n",
    "  labels = {}\n",
    "  for i in range(len(start)):\n",
    "    label = cypher_code[start[i]: end[i]] # returns \"n:Occupation\"\n",
    "    label = label.split(\":\") # returns [\"n\", \"Occupation\"]\n",
    "\n",
    "    labels[label[0]] = label[1]\n",
    "\n",
    "  return labels\n",
    "\n",
    "\n",
    "def organize_queried_data(data, labels):\n",
    "  structured_queried_data = {'labels': list(labels.values()), 'relations': []}\n",
    "\n",
    "  for i in range(len(data)):\n",
    "    # extract keys (nodes' refrences as they were returned from the query's output. example: \"cypher code ... return n,m\")\n",
    "    row = data[i]\n",
    "    keys = list(row.keys()) # keys are the referenced labels. example: n:Occupation, so n is referencing Occupation\n",
    "    \n",
    "    # Extract node relations. example: Occupation: Teacher, Personality_Trait: Social\n",
    "    \n",
    "    relation = []\n",
    "    for i in range(len(keys)):\n",
    "      key = keys[i]\n",
    "      # label = labels[key]\n",
    "      properties = row[key]\n",
    "      \n",
    "      relation.append(properties)\n",
    "\n",
    "    structured_queried_data['relations'] += [relation]\n",
    "  \n",
    "  return structured_queried_data\n",
    "\n",
    "query_output = ast.literal_eval(state['cypher_code_and_query_outputs'][0]['output'])\n",
    "llm_query = state['cypher_code_and_query_outputs'][0]['cypher_code']\n",
    "\n",
    "labels = extract_labels_from_query(cypher_code=llm_query)\n",
    "outputs = organize_queried_data(data=query_output, labels=labels)\n",
    "outputs"
   ]
  }
 ],
 "metadata": {
  "kernelspec": {
   "display_name": "Python 3",
   "language": "python",
   "name": "python3"
  },
  "language_info": {
   "codemirror_mode": {
    "name": "ipython",
    "version": 3
   },
   "file_extension": ".py",
   "mimetype": "text/x-python",
   "name": "python",
   "nbconvert_exporter": "python",
   "pygments_lexer": "ipython3",
   "version": "3.10.7"
  }
 },
 "nbformat": 4,
 "nbformat_minor": 2
}
