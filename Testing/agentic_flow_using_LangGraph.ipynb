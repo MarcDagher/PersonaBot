{
 "cells": [
  {
   "cell_type": "code",
   "execution_count": 3,
   "metadata": {},
   "outputs": [],
   "source": [
    "# LangGraph\n",
    "from langgraph.graph import StateGraph, END, START\n",
    "from langgraph.checkpoint.memory import MemorySaver\n",
    "\n",
    "# LangChain\n",
    "from langchain_core.messages import AnyMessage, SystemMessage, HumanMessage, ToolMessage, AIMessage\n",
    "from langchain.graphs import Neo4jGraph\n",
    "from langchain_core.tools import tool\n",
    "from langchain_groq import ChatGroq\n",
    "\n",
    "# General\n",
    "import os\n",
    "import re\n",
    "import operator\n",
    "from uuid import uuid4\n",
    "from pathlib import Path\n",
    "from dotenv import load_dotenv\n",
    "from typing import TypedDict, Annotated # to construct the agent's state\n",
    "from IPython.display import Image, display"
   ]
  },
  {
   "cell_type": "code",
   "execution_count": 2,
   "metadata": {},
   "outputs": [],
   "source": [
    "# Get environment variables\n",
    "dotenv_path = Path('./.env')\n",
    "load_dotenv(dotenv_path=dotenv_path)\n",
    "\n",
    "os.environ[\"NEO4J_URI\"] = os.getenv('uri')\n",
    "os.environ[\"NEO4J_USERNAME\"] = os.getenv('user_name')\n",
    "os.environ[\"NEO4J_PASSWORD\"] = os.getenv('password')\n",
    "os.environ[\"GROQ_API_KEY\"] = os.getenv('GROQ_API_KEY')\n",
    "os.environ[\"TAVILY_API_KEY\"] = os.getenv('TAVILY_API_KEY')\n",
    "\n",
    "model = ChatGroq(temperature=0.5, groq_api_key=os.environ[\"GROQ_API_KEY\"], model_name=\"llama-3.1-70b-versatile\")\n",
    "graph = Neo4jGraph()\n",
    "memory = MemorySaver()"
   ]
  },
  {
   "cell_type": "code",
   "execution_count": null,
   "metadata": {},
   "outputs": [],
   "source": [
    "# class Agent:\n",
    "\n",
    "#     def __init__(self, model, memory, tools, system=\"\"):\n",
    "#         self.system = system\n",
    "#         self.state = AgentState\n",
    "#         self.memory = memory # initialize\n",
    "#         self.tools = {t.name: t for t in tools} # Save the tools' names that can be used\n",
    "#         self.model = model.bind_tools(tools) # Provide the name of the tools to the agent\n",
    "        \n",
    "#         graph = StateGraph(self.state) # initialize a stateful graph\n",
    "#         graph.add_node(\"llm\", self.call_groq) # Add LLM node where we call the LLM to return a reponse\n",
    "#         graph.add_node(\"action\", self.take_action) # Add node where we call the tools\n",
    "#         graph.add_edge(\"action\", \"llm\")\n",
    "        \n",
    "#         graph.set_entry_point(\"llm\")\n",
    "#         graph.add_conditional_edges(\"llm\", self.exists_action, {True: \"action\", False: END}) # The edge where the decision to use a tool is made\n",
    "\n",
    "#         self.graph = graph.compile(checkpointer=self.memory) # Build graph\n",
    "#         display(Image(self.graph.get_graph().draw_mermaid_png()))\n",
    "\n",
    "#     # Get the LLM's response and update the Agent's State by adding the response to the messages\n",
    "#     def call_groq(self, state: AgentState):\n",
    "#         messages = state['messages']\n",
    "#         if self.system: messages = [SystemMessage(content=self.system)] + messages\n",
    "        \n",
    "#         message = self.model.invoke(messages)\n",
    "#         return {'messages': [message]}\n",
    "\n",
    "#     # Search for the tool and use it\n",
    "#     def take_action(self, state: AgentState):\n",
    "#         tool_calls = state['messages'][-1].tool_calls\n",
    "#         results = []\n",
    "#         for t in tool_calls:\n",
    "#             print(f\"Calling: {t}\")\n",
    "            \n",
    "#             # If tool not found\n",
    "#             if not t['name'] in self.tools: \n",
    "#                 print(\"\\n ....tool name not found in list of tools....\")\n",
    "#                 result = \"bad tool name, retry\"  # instruct LLM to retry\n",
    "            \n",
    "#             # If tool exists, use it\n",
    "#             else:\n",
    "#                 result = self.tools[t['name']].invoke(t['args']) \n",
    "\n",
    "#             # Save the message returned from the tool\n",
    "#             results.append(ToolMessage(tool_call_id=t['id'], name=t['name'], content=str(result)))\n",
    "\n",
    "#         print(\"Back to the model!\")\n",
    "#         return {'messages': results}\n",
    "    \n",
    "#     # Used by the Agent to check if an action exists by checking the last message in the state which is supposed to contain the tool's info\n",
    "#     def exists_action(self, state: AgentState):\n",
    "#         result = state['messages'][-1]\n",
    "#         return len(result.tool_calls) > 0"
   ]
  },
  {
   "cell_type": "code",
   "execution_count": 3,
   "metadata": {},
   "outputs": [],
   "source": [
    "## Replaces messages with the same `id`, and appends them otherwise.\n",
    "def reduce_messages(left: list[AnyMessage], right: list[AnyMessage]) -> list[AnyMessage]:\n",
    "    # assign ids to messages that don't have ids\n",
    "    for message in right:\n",
    "        if not message.id:\n",
    "            message.id = str(uuid4())\n",
    "    # merge the new messages with the existing messages\n",
    "    merged = left.copy()\n",
    "    for message in right:\n",
    "        for i, existing in enumerate(merged):\n",
    "            # replace any existing messages with the same id\n",
    "            if existing.id == message.id:\n",
    "                merged[i] = message\n",
    "                break\n",
    "        else:\n",
    "            # append any new messages to the end\n",
    "            merged.append(message)\n",
    "    return merged\n",
    "\n",
    "# Create the state of the Agent\n",
    "class AgentState(TypedDict):\n",
    "    user_message: str\n",
    "    personality_traits: list[str]\n",
    "    occupations: list[str]\n",
    "    messages: Annotated[list[AnyMessage], reduce_messages]\n",
    "    max_number_of_questions: int\n",
    "    number_of_questions_asked: int"
   ]
  },
  {
   "cell_type": "code",
   "execution_count": 4,
   "metadata": {},
   "outputs": [],
   "source": [
    "## Prepare prompts\n",
    "personality_scientist_prompt = \"\"\"You are an expert personality scientist. You are trying to relate personality traits with career tracks.\\ \n",
    "You will conduct a personality test using the RAISEC personality model\\ \n",
    "Reminder: R=Realistic, A=Artistic, I=Interrogative, S=Social, E=Enterprising, C=Conventional\\ \n",
    "Your task is to ask questions that uncover personality traits. \\Make sure to cover all the personality traits in RAISEC to get a good understanding of the person's character. After every question you ask, wait for the person to answer.\\ Also, number your questions\"\"\"\n",
    "\n",
    "# Extract traits and return list of traits\n",
    "trait_extractor_prompt = \"\"\"Go over the person's answer. Extract all the traits that you can in forms of keywords or mini-phrases.\\ \n",
    "Example: 'I love to work with people Keyword' -> Team-Player or Enjoys Working with Teams.\n",
    "You will return a list of strings containing all the traits/qualities that you extracted from person's answer.\n",
    "Example: ['team_player', 'interested_in_psychology','good_listener']\"\"\"\n",
    "\n",
    "# Recommend Careers\n",
    "career_guide_prompt = \"\"\"You are now a personality scientist serving as a career guide. Use the list of traits you created to suggest suitable careers for the person. If you have any results from the knowledge graph use them as well.\"\"\"\n",
    "\n",
    "# Query KG\n",
    "cypher_coderer_prompt = \"\"\"You have access to a Neo4j database. You will write Cypher code to query data from the graph in order to supplement your answer.\n",
    "Rules when writing Cypher:\n",
    "- You will not use 'LIMIT'.\n",
    "- If you don't have the values of nodes' properties in the graph,\n",
    "you will not use 'WHERE' or try to specify property values. Instead,\n",
    "you will only use general queries. \n",
    "Accepted Example: MATCH (n:label_1)-[]->(m:label_2) return n.prop, m.prop\n",
    "Rejected Example: MATCH (n:label_1)-[]->(m:label_2) WHERE n.title=\"Hello\" return n.prop, m.prop\"\"\""
   ]
  },
  {
   "cell_type": "code",
   "execution_count": 5,
   "metadata": {},
   "outputs": [],
   "source": [
    "# Ask questions\n",
    "def questioner_node(state: AgentState):\n",
    "  new_messages = [\n",
    "    SystemMessage(content=personality_scientist_prompt),\n",
    "    HumanMessage(content=state['user_message'])\n",
    "  ]\n",
    "  \n",
    "  messages = state['messages'] + new_messages\n",
    "\n",
    "  response = model.invoke(messages)\n",
    "\n",
    "  # Expected output: new questions\n",
    "  return {\"messages\": messages + [response], \"number_of_questions_asked\": state['number_of_questions_asked'] + 1}\n",
    "\n",
    "def should_continue(state: AgentState):\n",
    "  messages_state = state['messages']\n",
    "  \n",
    "  if len(messages_state) > 0:\n",
    "    if messages_state[-1].type == 'ai':\n",
    "      return False\n",
    "  \n",
    "  return True\n",
    "\n",
    "# Extracts traits and modifies list of traits\n",
    "def trait_extracter_node(state: AgentState):\n",
    "  prompt = f\"{trait_extractor_prompt}.\\ Context of traits so far: {state['personality_traits']}\"\n",
    "  message = [SystemMessage(content=prompt)]\n",
    "  \n",
    "  # Expected output: list of traits\n",
    "  response = model.invoke(message)\n",
    "  return {\"personality_traits\": [response]}\n",
    "\n",
    "# Use traits and occupations to recommend careers\n",
    "def career_guide_node(state: AgentState):\n",
    "  prompt = f\"{career_guide_prompt}.\\ Context of traits so far: {state['personality_traits']}. Context of occpuations so far: {state['occupations']}\"\n",
    "  message = [SystemMessage(content=prompt)]\n",
    "\n",
    "  response = model.invoke(message)\n",
    "  return {}"
   ]
  },
  {
   "cell_type": "code",
   "execution_count": null,
   "metadata": {},
   "outputs": [],
   "source": [
    "# # Create the tool to be used by the Agent\n",
    "# @tool\n",
    "# def query_graph(query):\n",
    "#   \"\"\"Query from Neo4j knowledge graph using Cypher.\"\"\"\n",
    "#   return graph.query(query)"
   ]
  },
  {
   "cell_type": "code",
   "execution_count": 6,
   "metadata": {},
   "outputs": [
    {
     "data": {
      "image/jpeg": "[encoded data removed]",
      "text/plain": [
       "<IPython.core.display.Image object>"
      ]
     },
     "metadata": {},
     "output_type": "display_data"
    }
   ],
   "source": [
    "builder = StateGraph(AgentState)\n",
    "\n",
    "builder.add_node('questioner', questioner_node)\n",
    "builder.add_node('trait_extractor', trait_extracter_node)\n",
    "\n",
    "builder.set_entry_point('questioner')\n",
    "builder.add_edge('trait_extractor', 'questioner')\n",
    "\n",
    "builder.add_conditional_edges('questioner', should_continue, {True: 'trait_extractor', False: END})\n",
    "\n",
    "graph = builder.compile(checkpointer=memory)\n",
    "display(Image(graph.get_graph().draw_mermaid_png()))"
   ]
  },
  {
   "cell_type": "code",
   "execution_count": null,
   "metadata": {},
   "outputs": [],
   "source": [
    "history_messages = []"
   ]
  },
  {
   "cell_type": "code",
   "execution_count": 25,
   "metadata": {},
   "outputs": [
    {
     "name": "stdout",
     "output_type": "stream",
     "text": [
      "Based on your personality traits, here are some career tracks that might be a good fit for you:\n",
      "\n",
      "1. **Teacher/Professor**: Your Social (S) tendencies, combined with your Artistic (A) and Investigative (I) traits, make you well-suited for a career in education. You'd enjoy sharing your knowledge and inspiring others, and your creative approach would make your teaching style engaging and interactive.\n",
      "2. **Counselor/Therapist**: Your empathetic and caring nature (Social) would serve you well in a role where you help people navigate personal challenges. Your Investigative (I) tendencies would also help you analyze complex issues and develop effective solutions.\n",
      "3. **Designer/Architect**: Your Artistic (A) and Realistic (R) traits make you a strong candidate for a career in design or architecture. You'd enjoy bringing creative ideas to life, and your hands-on approach would serve you well in working with physical materials and tools.\n",
      "4. **Project Manager**: Your Conventional (C) tendencies, combined with your Enterprising (E) traits, make you well-suited for a role where you'd oversee projects and teams. You'd enjoy the structure and planning involved, and your leadership skills would help you motivate and direct others.\n",
      "5. **Artist/Graphic Designer**: If you're looking for a more creative outlet, your Artistic (A) and Realistic (R) traits might lead you to a career in the arts. You could enjoy working as a graphic designer, illustrator, or fine artist, using your skills to bring imaginative ideas to life.\n",
      "\n",
      "These are just a few examples, but there are many other careers that might be a good fit for you. Do any of these resonate with you, or is there another direction you're considering?\n",
      "\n",
      "(Remember, this is just a starting point, and you can always explore other options as you continue to learn and grow.)\n"
     ]
    },
    {
     "ename": "",
     "evalue": "",
     "output_type": "error",
     "traceback": [
      "\u001b[1;31mThe Kernel crashed while executing code in the current cell or a previous cell. \n",
      "\u001b[1;31mPlease review the code in the cell(s) to identify a possible cause of the failure. \n",
      "\u001b[1;31mClick <a href='https://aka.ms/vscodeJupyterKernelCrash'>here</a> for more info. \n",
      "\u001b[1;31mView Jupyter <a href='command:jupyter.viewOutput'>log</a> for further details."
     ]
    }
   ],
   "source": [
    "thread = {\"configurable\": {\"thread_id\": \"1\"}}\n",
    "for message in graph.stream({'user_message': \"Sure\", \"max_number_of_questions\": 2, \"number_of_questions_asked\": 0}, thread):\n",
    "  history_messages.append(message)\n",
    "\n",
    "print(graph.get_state(thread).values['messages'][-1].content)"
   ]
  },
  {
   "cell_type": "code",
   "execution_count": 23,
   "metadata": {},
   "outputs": [
    {
     "name": "stdout",
     "output_type": "stream",
     "text": [
      "Your response suggests that you might have a strong Realistic (R) component in your personality. People with Realistic tendencies often enjoy working with physical materials, tools, and equipment, and tend to be practical and hands-on in their approach.\n",
      "\n",
      "Here's my next question:\n",
      "\n",
      "6. When interacting with others, how important is it for you to help them and make a positive impact on their lives? Do you tend to be empathetic and caring, enjoying roles that involve supporting and guiding others, or are you more focused on your own goals and priorities?\n",
      "\n",
      "(Note: This question is designed to assess your Social (S) tendencies.)\n"
     ]
    }
   ],
   "source": [
    "# graph.get_state(thread).values['messages']\n",
    "print(graph.get_state(thread).values['messages'][-1].content)"
   ]
  },
  {
   "cell_type": "code",
   "execution_count": null,
   "metadata": {},
   "outputs": [],
   "source": [
    "agent.graph.get_state({\"configurable\": {\"thread_id\": \"1\"}}).values"
   ]
  },
  {
   "cell_type": "code",
   "execution_count": null,
   "metadata": {},
   "outputs": [],
   "source": [
    "# Talk to the AI\n",
    "thread = {\"configurable\": {\"thread_id\": \"1\"}}\n",
    "input_message = HumanMessage(content=\"Can you change your questions?\")\n",
    "\n",
    "output = agent.graph.stream(input={\"messages\": [input_message]}, config=thread, stream_mode=\"values\")\n",
    "\n",
    "\n",
    "# Pretty printing the ai's output\n",
    "for event in output: \n",
    "  event[\"messages\"][-1].pretty_print()"
   ]
  },
  {
   "cell_type": "code",
   "execution_count": null,
   "metadata": {},
   "outputs": [],
   "source": [
    "## Attempt to change the query written by the AI: Success\n",
    "# Save the current state as a variable\n",
    "current_values = agent.graph.get_state(thread)\n",
    "\n",
    "# Get the id of the thing to change\n",
    "_id = current_values.values['messages'][-3].tool_calls[0]['id']\n",
    "\n",
    "# Change the value\n",
    "current_values.values['messages'][-3].tool_calls = [\n",
    "  {'name': 'query_graph',\n",
    "   'args': {'query': 'Match (o:Occupation)-[:need_for_personality_trait]->(t:Personality_Trait) WHERE t.title in [Social, Investigative] return o.title, t.title'},\n",
    "   'id': _id\n",
    "   }\n",
    "]\n",
    "\n",
    "# Update the state\n",
    "agent.graph.update_state(thread, current_values.values)"
   ]
  },
  {
   "cell_type": "code",
   "execution_count": null,
   "metadata": {},
   "outputs": [],
   "source": [
    "# Attempting to remove the last two messages from the state: Failed\n",
    "current_values.values['messages'] = current_values.values['messages'][:-2]\n",
    "\n",
    "agent.graph.update_state(thread, current_values.values)"
   ]
  },
  {
   "cell_type": "code",
   "execution_count": null,
   "metadata": {},
   "outputs": [],
   "source": [
    "## Attempting to remove values from the ToolMessage returned from the graph's query: Success\n",
    "\n",
    "# Get the id of the tool message\n",
    "_id = agent.graph.get_state(thread).values['messages'][-2].id\n",
    "\n",
    "# Loop over the messages in the Agent's State, find the ToolMessage through its id, change its value, append the message to the messages list\n",
    "messages = []\n",
    "for message in agent.graph.get_state(thread).values['messages']:\n",
    "  if message.id == _id:\n",
    "    message.content = '[{\\'o.title\\': \\'School_Psychologists\\', \\'t.title\\': \\'Conventional\\'}, {\\'o.title\\': \\'Film_and_Video_Editors\\', \\'t.title\\': \\'Conventional\\'}]'\n",
    "\n",
    "  messages.append(message)\n",
    "\n",
    "# Change messages list into a dictionary similar to get_state's .values dictionary.\n",
    "messages = {'messages': messages}\n",
    "\n",
    "# Update the state\n",
    "agent.graph.update_state(thread, messages)"
   ]
  },
  {
   "cell_type": "code",
   "execution_count": null,
   "metadata": {},
   "outputs": [],
   "source": [
    "agent.graph.get_state(thread).values"
   ]
  }
 ],
 "metadata": {
  "kernelspec": {
   "display_name": "Python 3",
   "language": "python",
   "name": "python3"
  },
  "language_info": {
   "codemirror_mode": {
    "name": "ipython",
    "version": 3
   },
   "file_extension": ".py",
   "mimetype": "text/x-python",
   "name": "python",
   "nbconvert_exporter": "python",
   "pygments_lexer": "ipython3",
   "version": "3.10.7"
  }
 },
 "nbformat": 4,
 "nbformat_minor": 2
}
