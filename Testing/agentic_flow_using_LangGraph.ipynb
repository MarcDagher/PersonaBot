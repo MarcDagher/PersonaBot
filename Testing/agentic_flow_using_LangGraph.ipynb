{
 "cells": [
  {
   "cell_type": "markdown",
   "metadata": {},
   "source": [
    "#### Ai Agents in LangGraph Course"
   ]
  },
  {
   "cell_type": "code",
   "execution_count": 1,
   "metadata": {},
   "outputs": [],
   "source": [
    "import os\n",
    "import re\n",
    "from pathlib import Path\n",
    "from dotenv import load_dotenv\n",
    "\n",
    "from langchain_groq import ChatGroq\n",
    "\n",
    "# Get environment variables\n",
    "dotenv_path = Path('./.env')\n",
    "load_dotenv(dotenv_path=dotenv_path)\n",
    "\n",
    "os.environ[\"NEO4J_URI\"] = os.getenv('uri')\n",
    "os.environ[\"NEO4J_USERNAME\"] = os.getenv('user_name')\n",
    "os.environ[\"NEO4J_PASSWORD\"] = os.getenv('password')\n",
    "os.environ[\"GROQ_API_KEY\"] = os.getenv('GROQ_API_KEY')\n",
    "os.environ[\"TAVILY_API_KEY\"] = os.getenv('TAVILY_API_KEY')"
   ]
  },
  {
   "cell_type": "code",
   "execution_count": 2,
   "metadata": {},
   "outputs": [],
   "source": [
    "from langgraph.graph import StateGraph, END\n",
    "from typing import TypedDict, Annotated # to construct the agent's state\n",
    "import operator\n",
    "from langchain_core.messages import AnyMessage, SystemMessage, HumanMessage, ToolMessage\n",
    "from langchain_community.tools.tavily_search import TavilySearchResults"
   ]
  },
  {
   "cell_type": "code",
   "execution_count": 3,
   "metadata": {},
   "outputs": [],
   "source": [
    "class AgentState(TypedDict):\n",
    "    messages: Annotated[list[AnyMessage], operator.add] # operator.add allows us to add messages instead of replacing them when the LLM's output is returned"
   ]
  },
  {
   "cell_type": "code",
   "execution_count": 4,
   "metadata": {},
   "outputs": [],
   "source": [
    "# # Used for persistence\n",
    "# from langgraph.checkpoint.sqlite import SqliteSaver\n",
    "# memory = SqliteSaver.from_conn_string(\":memory:\")"
   ]
  },
  {
   "cell_type": "code",
   "execution_count": 5,
   "metadata": {},
   "outputs": [],
   "source": [
    "class Agent:\n",
    "\n",
    "    def __init__(self, model, tools, system=\"\"):\n",
    "        self.system = system\n",
    "        graph = StateGraph(AgentState) # initialize graph\n",
    "\n",
    "        # Add nodes\n",
    "        graph.add_node(\"llm\", self.call_groq)\n",
    "        graph.add_node(\"action\", self.take_action)\n",
    "        \n",
    "        # The edge where the decision to use a tool is made\n",
    "        graph.add_conditional_edges(\"llm\", self.exists_action, {True: \"action\", False: END})\n",
    "        \n",
    "        # Create edge and set starting point of the graph\n",
    "        graph.add_edge(\"action\", \"llm\")\n",
    "        graph.set_entry_point(\"llm\")\n",
    "\n",
    "        self.graph = graph.compile() # Build graph\n",
    "        \n",
    "        self.tools = {t.name: t for t in tools} # Save the tools' names that can be used\n",
    "        self.model = model.bind_tools(tools) # Provide the name of the tools to the agent\n",
    "\n",
    "    # Tells the agent if action is needed by checking the last message in the state which is supposed to contain this info\n",
    "    def exists_action(self, state: AgentState):\n",
    "        result = state['messages'][-1]\n",
    "        return len(result.tool_calls) > 0\n",
    "\n",
    "    # Call the LLM and update the Agent's State by adding the response\n",
    "    def call_groq(self, state: AgentState):\n",
    "        messages = state['messages']\n",
    "        if self.system: messages = [SystemMessage(content=self.system)] + messages\n",
    "        \n",
    "        message = self.model.invoke(messages)\n",
    "        return {'messages': [message]}\n",
    "\n",
    "    # Search for the tool and use it\n",
    "    def take_action(self, state: AgentState):\n",
    "        tool_calls = state['messages'][-1].tool_calls\n",
    "        results = []\n",
    "        \n",
    "        for t in tool_calls:\n",
    "            print(f\"Calling: {t}\")\n",
    "            if not t['name'] in self.tools:      # check if tool name is found in list of tools \n",
    "                print(\"\\n ....tool name not found in list of tools....\")\n",
    "                result = \"bad tool name, retry\"  # instruct LLM to retry if bad\n",
    "            else:\n",
    "                result = self.tools[t['name']].invoke(t['args']) \n",
    "\n",
    "            results.append(ToolMessage(tool_call_id=t['id'], name=t['name'], content=str(result)))\n",
    "\n",
    "        print(\"Back to the model!\")\n",
    "        return {'messages': results}"
   ]
  },
  {
   "cell_type": "code",
   "execution_count": 6,
   "metadata": {},
   "outputs": [],
   "source": [
    "from langchain.graphs import Neo4jGraph\n",
    "from langchain_core.tools import tool\n",
    "\n",
    "# Connect to graph\n",
    "graph = Neo4jGraph()\n",
    "\n",
    "@tool\n",
    "def query_graph(query):\n",
    "  \"\"\"Requires get_graph_schema to be run before using this function. This function is to Query from Neo4j knowledge graph using Cypher.\"\"\"\n",
    "  return graph.query(query)"
   ]
  },
  {
   "cell_type": "code",
   "execution_count": 7,
   "metadata": {},
   "outputs": [],
   "source": [
    "task = \"Task: You will use a Neo4j database to improve your answer. You will query the possible occupation titles that are suitable for my character.\"\n",
    "\n",
    "schema_context = f\"Here is the graph's schema: {graph.structured_schema}.\"\n",
    "\n",
    "property_values = f\"Property Values: empty\"\n",
    "\n",
    "query_approach = \"Querying approach: You will not use 'LIMIT'. If Property Values: empty, you will not use general queries and will not include 'WHERE' or try to specify property values inside your Cypher code.\"\n",
    "\n",
    "output = \"Your final output: Interpret all the queried data, choose up to 15 suitable careers for me, list them in bullet points and include a brief explanation of how each path suites my personality. Include Cypher code in your answer.\"\n",
    "\n",
    "tone = \"Output's tone: Make your output friendly, fun and easy to read.\"\n",
    "\n",
    "personal_info = \"Personal Info: I love people and I am a good listener. I enjoy observation and analysis. I prefer being with abults rather than with kids and I also have computer programming skills.\"\n",
    "\n",
    "reminder = \"Reminder: If Property Values: empty, you will not use 'WHERE' or try to specify property values inside your Cypher code. Under no circumstances should you use 'DELETE'. Find the occupations that suite my character.\"\n",
    "\n",
    "prompt = f\"{task}\\ {schema_context}\\ {property_values}\\ {query_approach}\\ {output}\\ {tone}\\ {personal_info}\\ {reminder}\""
   ]
  },
  {
   "cell_type": "code",
   "execution_count": 10,
   "metadata": {},
   "outputs": [],
   "source": [
    "# Prepare agent and the initial prompt\n",
    "model = ChatGroq(temperature=0, groq_api_key=os.environ[\"GROQ_API_KEY\"], model_name=\"llama-3.1-70b-versatile\")\n",
    "abot = Agent(model, [query_graph], system=prompt)\n",
    "\n",
    "# Prepare Human message\n",
    "query = \"I am interested in mental disorders, I have previous experience in teachin kids and I like kids.\"\n",
    "messages = [HumanMessage(content=query)]"
   ]
  },
  {
   "cell_type": "code",
   "execution_count": 11,
   "metadata": {},
   "outputs": [
    {
     "name": "stdout",
     "output_type": "stream",
     "text": [
      "\n",
      " In Exists Action => content='' additional_kwargs={'tool_calls': [{'id': 'call_bwq8', 'function': {'arguments': '{\"query\": \"MATCH (n:Occupation)-[:need_for_personality_trait]->(m:Personality_Trait) RETURN n.title, m.title\"}', 'name': 'query_graph'}, 'type': 'function'}]} response_metadata={'token_usage': {'completion_tokens': 41, 'prompt_tokens': 583, 'total_tokens': 624, 'completion_time': 0.164, 'prompt_time': 0.137492243, 'queue_time': 0.005134392000000015, 'total_time': 0.301492243}, 'model_name': 'llama-3.1-70b-versatile', 'system_fingerprint': 'fp_5c5d1b5cfb', 'finish_reason': 'tool_calls', 'logprobs': None} id='run-1bc16258-8fe0-4b40-aa5b-236383f94e68-0' tool_calls=[{'name': 'query_graph', 'args': {'query': 'MATCH (n:Occupation)-[:need_for_personality_trait]->(m:Personality_Trait) RETURN n.title, m.title'}, 'id': 'call_bwq8', 'type': 'tool_call'}] usage_metadata={'input_tokens': 583, 'output_tokens': 41, 'total_tokens': 624}\n",
      "\n",
      " take_action => [{'name': 'query_graph', 'args': {'query': 'MATCH (n:Occupation)-[:need_for_personality_trait]->(m:Personality_Trait) RETURN n.title, m.title'}, 'id': 'call_bwq8', 'type': 'tool_call'}]\n",
      "Calling: {'name': 'query_graph', 'args': {'query': 'MATCH (n:Occupation)-[:need_for_personality_trait]->(m:Personality_Trait) RETURN n.title, m.title'}, 'id': 'call_bwq8', 'type': 'tool_call'}\n",
      "Back to the model!\n",
      "\n",
      " In Exists Action => content='Based on the query results, here are 15 suitable careers for you that match your interests and skills:\\n\\n1. **School Psychologists**: Work with students, teachers, and parents to address mental health issues and improve academic performance.\\n2. **Substance Abuse and Behavioral Disorder Counselors**: Help individuals struggling with addiction and behavioral disorders, providing guidance and support for recovery.\\n3. **Speech-Language Pathologists**: Work with individuals with communication disorders, such as speech or language impairments, to improve their communication skills.\\n4. **Occupational Therapists**: Help individuals with physical, emotional, or cognitive disabilities to develop skills for daily living and work.\\n5. **Mental Health Counselors**: Provide counseling services to individuals, groups, and families to address mental health issues and promote well-being.\\n6. **Marriage and Family Therapists**: Work with individuals, couples, and families to address relationship issues and improve communication.\\n7. **Low Vision Therapists, Orientation and Mobility Specialists, and Vision Rehabilitation Therapists**: Help individuals with visual impairments to develop skills for daily living and independence.\\n8. **Library Science Teachers, Postsecondary**: Teach students about library science, information technology, and research methods.\\n9. **Instructional Coordinators**: Develop and implement educational programs, materials, and assessments to improve student learning.\\n10. **Healthcare Social Workers**: Provide social services to patients, families, and communities to address healthcare needs and promote well-being.\\n11. **Genetic Counselors**: Help individuals and families understand and manage genetic disorders and birth defects.\\n12. **Family and Consumer Sciences Teachers, Postsecondary**: Teach students about family and consumer sciences, including nutrition, child development, and family relationships.\\n13. **Dietitians and Nutritionists**: Work with individuals and groups to promote healthy eating habits and address nutrition-related health issues.\\n14. **Clinical Research Coordinators**: Manage clinical trials, collect data, and ensure compliance with regulations to advance medical research.\\n15. **Bioinformatics Scientists**: Analyze and interpret biological data to understand the structure and function of living organisms.\\n\\nThese careers align with your interests in mental health, education, and research, and utilize your skills in observation, analysis, and communication.' response_metadata={'token_usage': {'completion_tokens': 453, 'prompt_tokens': 52980, 'total_tokens': 53433, 'completion_time': 1.8124202, 'prompt_time': 12.519337632, 'queue_time': 0.36101464200000066, 'total_time': 14.331757832}, 'model_name': 'llama-3.1-70b-versatile', 'system_fingerprint': 'fp_5c5d1b5cfb', 'finish_reason': 'stop', 'logprobs': None} id='run-bb57f79b-54b6-425f-844e-a02e648cd910-0' usage_metadata={'input_tokens': 52980, 'output_tokens': 453, 'total_tokens': 53433}\n",
      "Based on the query results, here are 15 suitable careers for you that match your interests and skills:\n",
      "\n",
      "1. **School Psychologists**: Work with students, teachers, and parents to address mental health issues and improve academic performance.\n",
      "2. **Substance Abuse and Behavioral Disorder Counselors**: Help individuals struggling with addiction and behavioral disorders, providing guidance and support for recovery.\n",
      "3. **Speech-Language Pathologists**: Work with individuals with communication disorders, such as speech or language impairments, to improve their communication skills.\n",
      "4. **Occupational Therapists**: Help individuals with physical, emotional, or cognitive disabilities to develop skills for daily living and work.\n",
      "5. **Mental Health Counselors**: Provide counseling services to individuals, groups, and families to address mental health issues and promote well-being.\n",
      "6. **Marriage and Family Therapists**: Work with individuals, couples, and families to address relationship issues and improve communication.\n",
      "7. **Low Vision Therapists, Orientation and Mobility Specialists, and Vision Rehabilitation Therapists**: Help individuals with visual impairments to develop skills for daily living and independence.\n",
      "8. **Library Science Teachers, Postsecondary**: Teach students about library science, information technology, and research methods.\n",
      "9. **Instructional Coordinators**: Develop and implement educational programs, materials, and assessments to improve student learning.\n",
      "10. **Healthcare Social Workers**: Provide social services to patients, families, and communities to address healthcare needs and promote well-being.\n",
      "11. **Genetic Counselors**: Help individuals and families understand and manage genetic disorders and birth defects.\n",
      "12. **Family and Consumer Sciences Teachers, Postsecondary**: Teach students about family and consumer sciences, including nutrition, child development, and family relationships.\n",
      "13. **Dietitians and Nutritionists**: Work with individuals and groups to promote healthy eating habits and address nutrition-related health issues.\n",
      "14. **Clinical Research Coordinators**: Manage clinical trials, collect data, and ensure compliance with regulations to advance medical research.\n",
      "15. **Bioinformatics Scientists**: Analyze and interpret biological data to understand the structure and function of living organisms.\n",
      "\n",
      "These careers align with your interests in mental health, education, and research, and utilize your skills in observation, analysis, and communication.\n"
     ]
    }
   ],
   "source": [
    "# Give the agent the messsage\n",
    "result = abot.graph.invoke({\"messages\": messages})\n",
    "print(result['messages'][-1].content)"
   ]
  },
  {
   "cell_type": "code",
   "execution_count": null,
   "metadata": {},
   "outputs": [],
   "source": [
    "# ## Visualize Graph\n",
    "# from IPython.display import Image\n",
    "\n",
    "# Image(abot.graph.get_graph().draw_png())"
   ]
  },
  {
   "cell_type": "markdown",
   "metadata": {},
   "source": [
    "### Persistence"
   ]
  },
  {
   "cell_type": "code",
   "execution_count": null,
   "metadata": {},
   "outputs": [],
   "source": []
  }
 ],
 "metadata": {
  "kernelspec": {
   "display_name": "Python 3",
   "language": "python",
   "name": "python3"
  },
  "language_info": {
   "codemirror_mode": {
    "name": "ipython",
    "version": 3
   },
   "file_extension": ".py",
   "mimetype": "text/x-python",
   "name": "python",
   "nbconvert_exporter": "python",
   "pygments_lexer": "ipython3",
   "version": "3.10.7"
  }
 },
 "nbformat": 4,
 "nbformat_minor": 2
}
