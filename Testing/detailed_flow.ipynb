{
 "cells": [
  {
   "cell_type": "code",
   "execution_count": 1,
   "metadata": {},
   "outputs": [],
   "source": [
    "# LangGraph\n",
    "from langgraph.graph import StateGraph, END, START\n",
    "from langgraph.checkpoint.memory import MemorySaver\n",
    "\n",
    "# LangChain\n",
    "from langchain.graphs import Neo4jGraph\n",
    "from langchain_groq import ChatGroq\n",
    "from langchain_core.messages import AnyMessage, SystemMessage, HumanMessage, ToolMessage, AIMessage\n",
    "\n",
    "# General\n",
    "import os\n",
    "import operator\n",
    "from pathlib import Path\n",
    "from dotenv import load_dotenv\n",
    "from typing import TypedDict, Annotated\n",
    "from IPython.display import Image, display"
   ]
  },
  {
   "cell_type": "code",
   "execution_count": 2,
   "metadata": {},
   "outputs": [],
   "source": [
    "# Get environment variables\n",
    "dotenv_path = Path('./.env')\n",
    "load_dotenv(dotenv_path=dotenv_path)\n",
    "\n",
    "os.environ[\"NEO4J_URI\"] = os.getenv('uri')\n",
    "os.environ[\"NEO4J_USERNAME\"] = os.getenv('user_name')\n",
    "os.environ[\"NEO4J_PASSWORD\"] = os.getenv('password')\n",
    "os.environ[\"GROQ_API_KEY\"] = os.getenv('GROQ_API_KEY')\n",
    "os.environ[\"TAVILY_API_KEY\"] = os.getenv('TAVILY_API_KEY')\n",
    "\n",
    "# model = ChatGroq(temperature=0.5, groq_api_key=os.environ[\"GROQ_API_KEY\"], model_name=\"llama-3.1-70b-versatile\")\n",
    "model = ChatGroq(temperature=0.5, groq_api_key=os.environ[\"GROQ_API_KEY\"], model_name=\"llama3-70b-8192\")\n",
    "# model = ChatGroq(temperature=0.5, groq_api_key=os.environ[\"GROQ_API_KEY\"], model_name=\"gemma2-9b-it\")\n",
    "# model = ChatGroq(temperature=0.5, groq_api_key=os.environ[\"GROQ_API_KEY\"], model_name=\"mixtral-8x7b-32768\")\n",
    "graph = Neo4jGraph()\n",
    "memory = MemorySaver()"
   ]
  },
  {
   "cell_type": "code",
   "execution_count": 3,
   "metadata": {},
   "outputs": [],
   "source": [
    "personality_scientist_prompt = \"\"\"You are an expert personality scientist. \\\n",
    "You will conduct a personality test using the RAISEC personality model \\\n",
    "The test will be a real-time conversational flow where you ask one question and wait for the reply \\\n",
    "Your task is to ask questions, to uncover personality traits that are related to career tracks. \\\n",
    "Number your questions. \\\n",
    "Make your questions concise.\\\n",
    "You can only ask one question per message do not give one question for every trait per message.\\\n",
    "Ex: Do you prefer alone time or crowded places?\"\"\"\n",
    "\n",
    "trait_extractor_prompt = \"\"\"Analyze this answer: {answer}, to identify personality traits. Extract the traits and return them as a string of keywords separated by commas in the format \"trait1, trait2, trait3, ...\". Ensure the output is strictly in the specified format and don't add any explanation to your output.\n",
    "Person answer: 'I like to go with the flow and see what happens'\n",
    "Correct Output Format: \"spontaneous, flexible, adaptable\"\n",
    "Wrong output format: Final Answer: The final answer is \"spontaneous, flexible, adaptable\". I hope it is correct.\n",
    "Reminder: do not explain or add anything other than the string of keywords.\n",
    "\"spontaneous, flexible, adaptable\"\n",
    "\"\"\""
   ]
  },
  {
   "cell_type": "code",
   "execution_count": 4,
   "metadata": {},
   "outputs": [],
   "source": [
    "class AgentState(TypedDict):\n",
    "  user_message: HumanMessage\n",
    "  messages: Annotated[list[AnyMessage], operator.add]\n",
    "  ocupations: Annotated[list[str], operator.add]\n",
    "  extracted_traits: Annotated[list[str], operator.add]"
   ]
  },
  {
   "cell_type": "code",
   "execution_count": 5,
   "metadata": {},
   "outputs": [],
   "source": [
    "# Tells the model to ask questions\n",
    "def questioner_node(state: AgentState):\n",
    "\n",
    "  messages = state['messages']\n",
    "\n",
    "  # Initialize the messages with the conversational prompt\n",
    "  if len(messages) == 0:\n",
    "    messages += [SystemMessage(content=personality_scientist_prompt)]\n",
    "\n",
    "  # Add the new message to the previous list of messages\n",
    "  if state['user_message']:\n",
    "    messages += [state['user_message']]\n",
    "  \n",
    "  # Give the model the history of messages\n",
    "  response = model.invoke(messages)\n",
    "  return {'messages': [response]} # this adds the new AI_Message\n",
    "\n",
    "# Asks the model to decide whether to adjust traits or not\n",
    "def choose_path(state: AgentState):\n",
    "  user_message = state['user_message']\n",
    "\n",
    "  # Let the model decide if it wants to extract any personality traits or not.\n",
    "  response = model.invoke(f\"Person's message: {user_message}. If you don't find any valuable traits in it return 'no'. If you find traits that can be helpful in suggesting careers, return 'yes'. You have to return either 'yes' or 'no' without spaces or breaks, all lowercase.\")\n",
    "  \n",
    "  if 'yes' in response.content.strip():\n",
    "    return True # -> to go to trait_extractor\n",
    "  else:\n",
    "    return False # -> to end the flow\n",
    "\n",
    "# Happens when the model decides to extract traits\n",
    "def trait_extractor_node(state: AgentState):\n",
    "\n",
    "  # Give the user's answer to the model to extract traits from it\n",
    "  message = [SystemMessage(content=trait_extractor_prompt.format(answer=state['user_message']))]\n",
    "  response = model.invoke(message)\n",
    "\n",
    "  print(\"\\n-- extracted_traits adjusted --\\n\")\n",
    "  return {'extracted_traits': [response.content]}"
   ]
  },
  {
   "cell_type": "code",
   "execution_count": 6,
   "metadata": {},
   "outputs": [
    {
     "data": {
      "image/jpeg": "[encoded data removed]",
      "text/plain": [
       "<IPython.core.display.Image object>"
      ]
     },
     "metadata": {},
     "output_type": "display_data"
    }
   ],
   "source": [
    "graph_builder = StateGraph(AgentState)\n",
    "graph_builder.add_node('questioner', questioner_node)\n",
    "graph_builder.add_node('trait_extractor', trait_extractor_node)\n",
    "\n",
    "graph_builder.set_entry_point('questioner')\n",
    "graph_builder.add_conditional_edges('questioner', choose_path, {True: 'trait_extractor', False: END})\n",
    "\n",
    "graph_builder.set_finish_point('trait_extractor')\n",
    "\n",
    "graph = graph_builder.compile(checkpointer=memory)\n",
    "display(Image(graph.get_graph().draw_mermaid_png()))"
   ]
  },
  {
   "cell_type": "code",
   "execution_count": 14,
   "metadata": {},
   "outputs": [
    {
     "name": "stdout",
     "output_type": "stream",
     "text": [
      "Here's my next question:\n",
      "\n",
      "4. When faced with a problem, do you usually come up with a lot of creative solutions or focus on finding the most practical and efficient one?\n",
      "Thank you for answering the questions. Based on your responses, here's a brief summary of your personality traits related to career tracks:\n",
      "\n",
      "You tend to be a detail-oriented planner (R), a logical and analytical decision-maker (I), a reflective and observant team player (S), and a creative problem-solver (E). These traits are commonly found in careers such as research and development, data analysis, science, and design.\n",
      "\n",
      "Keep in mind that this is a brief assessment, and your personality is more complex than can be captured in just four questions. However, this should give you a general idea of your strengths and preferences.\n",
      "\n",
      "If you have any questions or would like more information, feel free to ask!\n",
      "\n",
      "-- extracted_traits adjusted --\n",
      "\n",
      "Thank you for answering the questions. Based on your responses, here's a brief summary of your personality traits related to career tracks:\n",
      "\n",
      "You tend to be a detail-oriented planner (R), a logical and analytical decision-maker (I), a reflective and observant team player (S), and a creative problem-solver (E). These traits are commonly found in careers such as research and development, data analysis, science, and design.\n",
      "\n",
      "Keep in mind that this is a brief assessment, and your personality is more complex than can be captured in just four questions. However, this should give you a general idea of your strengths and preferences.\n",
      "\n",
      "If you have any questions or would like more information, feel free to ask!\n"
     ]
    }
   ],
   "source": [
    "thread = {'configurable': {'thread_id': \"1\"}}\n",
    "\n",
    "\n",
    "for message in graph.stream({\"user_message\": HumanMessage(content=\"When faced with a problem, I usually come up with a lot of creative solutions\")}, thread, stream_mode='values'):\n",
    "  if len(message['messages']) > 0:\n",
    "    print(message['messages'][-1].content)"
   ]
  },
  {
   "cell_type": "code",
   "execution_count": 15,
   "metadata": {},
   "outputs": [
    {
     "name": "stdout",
     "output_type": "stream",
     "text": [
      "Thank you for answering the questions. Based on your responses, here's a brief summary of your personality traits related to career tracks:\n",
      "\n",
      "You tend to be a detail-oriented planner (R), a logical and analytical decision-maker (I), a reflective and observant team player (S), and a creative problem-solver (E). These traits are commonly found in careers such as research and development, data analysis, science, and design.\n",
      "\n",
      "Keep in mind that this is a brief assessment, and your personality is more complex than can be captured in just four questions. However, this should give you a general idea of your strengths and preferences.\n",
      "\n",
      "If you have any questions or would like more information, feel free to ask!\n"
     ]
    }
   ],
   "source": [
    "print(graph.get_state(thread).values['messages'][-1].content)"
   ]
  },
  {
   "cell_type": "code",
   "execution_count": 23,
   "metadata": {},
   "outputs": [
    {
     "data": {
      "text/plain": [
       "['organized, detail-oriented, time-conscious, controlling',\n",
       " 'rational, analytical, logical',\n",
       " 'observant, introspective, reserved, cautious',\n",
       " 'creative, resourceful, optimistic']"
      ]
     },
     "execution_count": 23,
     "metadata": {},
     "output_type": "execute_result"
    }
   ],
   "source": [
    "traits = graph.get_state(thread).values['extracted_traits']"
   ]
  },
  {
   "cell_type": "code",
   "execution_count": 22,
   "metadata": {},
   "outputs": [
    {
     "data": {
      "text/plain": [
       "['organized, detail-oriented, time-conscious, controlling',\n",
       " 'rational, analytical, logical',\n",
       " 'observant, introspective, reserved, cautious',\n",
       " 'creative, resourceful, optimistic',\n",
       " 'organized',\n",
       " ' detail-oriented',\n",
       " ' time-conscious',\n",
       " ' controlling',\n",
       " 'rational',\n",
       " ' analytical',\n",
       " ' logical',\n",
       " 'observant',\n",
       " ' introspective',\n",
       " ' reserved',\n",
       " ' cautious',\n",
       " 'creative',\n",
       " ' resourceful',\n",
       " ' optimistic']"
      ]
     },
     "execution_count": 22,
     "metadata": {},
     "output_type": "execute_result"
    }
   ],
   "source": [
    "adjusted_traits = []\n",
    "[adjusted_traits.append(trait) for trait in traits]\n",
    "\n",
    "for trait in traits:\n",
    "  for sep_trait in trait.split(\",\"):\n",
    "    adjusted_traits.append(sep_trait)\n",
    "\n",
    "adjusted_traits"
   ]
  }
 ],
 "metadata": {
  "kernelspec": {
   "display_name": "Python 3",
   "language": "python",
   "name": "python3"
  },
  "language_info": {
   "codemirror_mode": {
    "name": "ipython",
    "version": 3
   },
   "file_extension": ".py",
   "mimetype": "text/x-python",
   "name": "python",
   "nbconvert_exporter": "python",
   "pygments_lexer": "ipython3",
   "version": "3.10.7"
  }
 },
 "nbformat": 4,
 "nbformat_minor": 2
}
