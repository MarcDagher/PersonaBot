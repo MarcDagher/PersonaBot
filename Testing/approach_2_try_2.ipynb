{
 "cells": [
  {
   "cell_type": "markdown",
   "metadata": {},
   "source": [
    "Approach 2, second try:\n",
    "- Scientist receives conversation. \n",
    "- Goes through the conversational flow.\n",
    "- Queries the graph.\n",
    "- Save query in history of queries. \n",
    "- Save Query results in history of query results. \n",
    "- ToolMessage is not saved in conversation messages.\n",
    "- Have a variable for the extracted occupations or traits."
   ]
  },
  {
   "cell_type": "code",
   "execution_count": 1,
   "metadata": {},
   "outputs": [],
   "source": [
    "# LangChain\n",
    "from langchain_core.messages import AnyMessage, SystemMessage, HumanMessage, ToolMessage\n",
    "from langchain.graphs import Neo4jGraph\n",
    "from langchain_core.tools import tool\n",
    "from langchain_groq import ChatGroq\n",
    "\n",
    "# LangGraph\n",
    "from langgraph.graph import StateGraph, END\n",
    "from langgraph.checkpoint.memory import MemorySaver\n",
    "\n",
    "# LangSmith\n",
    "from langsmith import traceable\n",
    "\n",
    "# General Imports\n",
    "import os\n",
    "import ast\n",
    "import prompts \n",
    "import operator\n",
    "from pathlib import Path\n",
    "from dotenv import load_dotenv\n",
    "from typing import TypedDict, Annotated # to construct the agent's state\n",
    "from IPython.display import Image, display\n",
    "\n",
    "# Connect to graph\n",
    "dotenv_path = Path('../.env')\n",
    "load_dotenv(dotenv_path=dotenv_path)\n",
    "os.environ[\"NEO4J_URI\"] = os.getenv('uri')\n",
    "os.environ[\"NEO4J_USERNAME\"] = os.getenv('user_name')\n",
    "os.environ[\"NEO4J_PASSWORD\"] = os.getenv('password')\n",
    "graph = Neo4jGraph()\n",
    "\n",
    "# Create the tool to be used by the Agent\n",
    "@tool\n",
    "def query_graph(query):\n",
    "  \"\"\"Query from Neo4j knowledge graph using Cypher.\"\"\"\n",
    "  return graph.query(query)"
   ]
  },
  {
   "cell_type": "code",
   "execution_count": 2,
   "metadata": {},
   "outputs": [],
   "source": [
    "# Create Agent's State\n",
    "class AgentState(TypedDict):\n",
    "    conversation: Annotated[list[ AnyMessage ], operator.add]\n",
    "    good_cypher: Annotated[list[ str ], operator.add]\n",
    "    bad_cypher: Annotated[list[ str ], operator.add]\n",
    "    \n",
    "    queries_to_be_made: list[str]\n",
    "\n",
    "# Create Agent\n",
    "class Agent:\n",
    "\n",
    "    def __init__(self, model, tools, system):\n",
    "        self.system = system\n",
    "        self.tools = {t.name: t for t in tools} # Save the tools' names that can be used\n",
    "        self.model = model.bind_tools(tools) # Provide the name of the tools to the agent\n",
    "\n",
    "        graph = StateGraph(AgentState) # Initialize a stateful graph\n",
    "        memory = MemorySaver()\n",
    "\n",
    "        graph.add_node(\"personality_scientist\", self.call_groq) # LLM node\n",
    "        graph.add_node(\"validate_query\", self.validate_query) # Checks if query is new\n",
    "        graph.add_conditional_edges(\"personality_scientist\", self.validate_tool_call, {True: 'validate_query', False: END})\n",
    "        graph.set_entry_point(\"personality_scientist\")\n",
    "\n",
    "        # Build graph\n",
    "        self.graph = graph.compile(checkpointer=memory)\n",
    "        display(Image(self.graph.get_graph().draw_mermaid_png()))\n",
    "\n",
    "    ## Get the LLM's response and update the Agent's State by adding the response to the messages\n",
    "    @traceable\n",
    "    def call_groq(self, state: AgentState):\n",
    "        messages = state['conversation']\n",
    "        \n",
    "        if self.system: \n",
    "            conversation = [SystemMessage(content=self.system)] + messages\n",
    "        \n",
    "        ai_response = self.model.invoke(conversation)\n",
    "\n",
    "        return {'conversation': [ai_response]}\n",
    "    \n",
    "    ## Check if the model called for an action by checking the last message in the conversation\n",
    "    def validate_tool_call(self, state: AgentState):\n",
    "        ai_message = state['conversation'][-1]\n",
    "        return len(ai_message.tool_calls) > 0\n",
    "    \n",
    "    def validate_query(self, state: AgentState):\n",
    "        print(f\"\\n------- in validate query\")\n",
    "        tool_calls = state['conversation'][-1].tool_calls\n",
    "        new_cypher_queries = []\n",
    "        existing_cypher_queries = []\n",
    "        for i in range(len(tool_calls)):\n",
    "            new_cypher = tool_calls[i]['args']['query']\n",
    "            if new_cypher in state['good_cypher']:\n",
    "\n",
    "\n",
    "        return"
   ]
  },
  {
   "cell_type": "code",
   "execution_count": 3,
   "metadata": {},
   "outputs": [
    {
     "data": {
      "image/jpeg": "[encoded data removed]",
      "text/plain": [
       "<IPython.core.display.Image object>"
      ]
     },
     "metadata": {},
     "output_type": "display_data"
    }
   ],
   "source": [
    "model = ChatGroq(temperature=0.8, groq_api_key=os.environ[\"GROQ_API_KEY\"], model_name=\"llama-3.1-70b-versatile\")\n",
    "# model = ChatGroq(temperature=0.8, groq_api_key=os.environ[\"GROQ_API_KEY\"], model_name=\"llama3-70b-8192\")\n",
    "\n",
    "agent = Agent(model=model, tools=[query_graph], system=prompts.personality_scientist_prompt.format(schema=graph.structured_schema))"
   ]
  },
  {
   "cell_type": "code",
   "execution_count": 7,
   "metadata": {},
   "outputs": [
    {
     "name": "stdout",
     "output_type": "stream",
     "text": [
      "================================\u001b[1m Human Message \u001b[0m=================================\n",
      "\n",
      "option 1\n",
      "==================================\u001b[1m Ai Message \u001b[0m==================================\n",
      "Tool Calls:\n",
      "  query_graph (call_3dam)\n",
      " Call ID: call_3dam\n",
      "  Args:\n",
      "    query: MATCH (n:Personality_Trait)-[]->(m:Occupation) RETURN m.title\n",
      "\n",
      "------- in validate query\n"
     ]
    }
   ],
   "source": [
    "thread = {'configurable': {'thread_id': \"1\"}}\n",
    "output = agent.graph.stream({\"conversation\": [HumanMessage(content=\"option 1\")]}, thread, stream_mode='values')\n",
    "\n",
    "for message in output:\n",
    "    message['conversation'][-1].pretty_print()"
   ]
  },
  {
   "cell_type": "code",
   "execution_count": 13,
   "metadata": {},
   "outputs": [
    {
     "data": {
      "text/plain": [
       "'MATCH (n:Personality_Trait)-[]->(m:Occupation) RETURN m.title'"
      ]
     },
     "execution_count": 13,
     "metadata": {},
     "output_type": "execute_result"
    }
   ],
   "source": [
    "agent.graph.get_state(thread).values['conversation'][-1].tool_calls[0]['args']['query']"
   ]
  }
 ],
 "metadata": {
  "kernelspec": {
   "display_name": "Python 3",
   "language": "python",
   "name": "python3"
  },
  "language_info": {
   "codemirror_mode": {
    "name": "ipython",
    "version": 3
   },
   "file_extension": ".py",
   "mimetype": "text/x-python",
   "name": "python",
   "nbconvert_exporter": "python",
   "pygments_lexer": "ipython3",
   "version": "3.10.7"
  }
 },
 "nbformat": 4,
 "nbformat_minor": 2
}
