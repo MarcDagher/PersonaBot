{
 "cells": [
  {
   "cell_type": "markdown",
   "metadata": {},
   "source": [
    "# Importing important libraries"
   ]
  },
  {
   "cell_type": "code",
   "execution_count": 1,
   "metadata": {},
   "outputs": [],
   "source": [
    "import os, requests\n",
    "from pathlib import Path\n",
    "from dotenv import load_dotenv\n",
    "from langchain_groq import ChatGroq\n",
    "from langchain.prompts import PromptTemplate\n",
    "from langchain_core.output_parsers import StrOutputParser\n",
    "from langchain_community.document_loaders import PyPDFLoader,TextLoader\n",
    "from langchain.text_splitter import RecursiveCharacterTextSplitter\n",
    "from langchain_community.vectorstores import FAISS\n",
    "from langchain_core.runnables import RunnablePassthrough, RunnableParallel\n",
    "from langchain_community.embeddings import FakeEmbeddings\n",
    "from langchain.vectorstores import Chroma #Our Vector Database\n",
    "from langchain_community.document_loaders import CSVLoader, PyMuPDFLoader, Docx2txtLoader, UnstructuredPowerPointLoader, TextLoader, JSONLoader, UnstructuredMarkdownLoader, UnstructuredHTMLLoader #For loading documents"
   ]
  },
  {
   "cell_type": "markdown",
   "metadata": {},
   "source": [
    "# Document Preparation"
   ]
  },
  {
   "cell_type": "markdown",
   "metadata": {},
   "source": [
    "### Processing"
   ]
  },
  {
   "cell_type": "code",
   "execution_count": 2,
   "metadata": {},
   "outputs": [],
   "source": [
    "urls = [\n",
    "    \"https://www.onetonline.org/\",\n",
    "    \"https://blog.flexmr.net/ocean-personality-types\",\n",
    "    \"https://www.verywellmind.com/the-big-five-personality-dimensions-2795422\",\n",
    "    \"https://www.assessteam.com/ocean-personality-test-questions/\",\n",
    "    \"https://www.indeed.com/career-advice/career-development/ocean-personality\"\n",
    "]"
   ]
  },
  {
   "cell_type": "code",
   "execution_count": 3,
   "metadata": {},
   "outputs": [],
   "source": [
    "# Save knowledge base path and create it if it doesn't exist.\n",
    "knowledge_base_path = \"./knowledge_docs\"\n",
    "os.makedirs(knowledge_base_path, exist_ok=True)"
   ]
  },
  {
   "cell_type": "code",
   "execution_count": 4,
   "metadata": {},
   "outputs": [],
   "source": [
    "from bs4 import BeautifulSoup\n",
    "from urllib.parse import urljoin, urlparse"
   ]
  },
  {
   "cell_type": "code",
   "execution_count": 5,
   "metadata": {},
   "outputs": [
    {
     "name": "stdout",
     "output_type": "stream",
     "text": [
      "Saved www.onetonline.org_help.html\n",
      "Saved www.onetonline.org_help_online_accom.html\n",
      "Saved www.onetonline.org_crosswalk_RAPIDS.html\n",
      "Saved www.onetonline.org_find_descriptor_browse_1.B.2.html\n",
      "Saved www.onetonline.org_index.html\n",
      "Saved www.onetonline.org_find_stem.html\n",
      "Saved www.onetonline.org_find_industry.html\n",
      "Saved www.onetonline.org_find_bright.html\n",
      "Saved www.onetonline.org_find_career.html\n",
      "Saved www.onetonline.org_crosswalk_OOH.html\n",
      "Saved www.onetonline.org_crosswalk_MOC.html\n",
      "Saved www.onetonline.org_find_family.html\n",
      "Saved www.onetonline.org_help_license.html\n",
      "Saved www.onetonline.org_find_all.html\n",
      "Saved www.onetonline.org_find_descriptor_browse_2.A.html\n",
      "Saved www.onetonline.org_find_descriptor_browse_4.C.html\n",
      "Saved www.onetonline.org_search_hot_tech.html\n",
      "Saved www.onetonline.org_search_dwa.html\n",
      "Saved www.onetonline.org_search_associations.html\n",
      "Saved www.onetonline.org_crosswalk_CIP.html\n",
      "Saved www.onetonline.org_shared_contact_resp.html\n",
      "Saved www.onetonline.org_help_online_deskaid.html\n",
      "Saved www.onetonline.org_shared_jobhelp_resp.html\n",
      "Saved www.onetonline.org_find_descriptor_browse_1.C.html\n",
      "Saved www.onetonline.org_help_online.html\n",
      "Saved www.onetonline.org_help_disclaimer.html\n",
      "Saved www.onetonline.org_crosswalk_DOT.html\n",
      "Saved www.onetonline.org_shared_jobhelp_resp.html\n",
      "Saved www.onetonline.org_find_zone.html\n",
      "Saved www.onetonline.org_crosswalk_SOC.html\n",
      "Saved www.onetonline.org_search_task.html\n",
      "Saved www.onetonline.org_find_descriptor_browse_2.C.html\n",
      "Saved www.onetonline.org_help_privacy.html\n",
      "Saved www.onetonline.org_search_tech.html\n",
      "Saved www.onetonline.org_find_descriptor_browse_1.A.html\n",
      "Saved www.onetonline.org_crosswalk_ESCO.html\n",
      "Saved www.onetonline.org_find_descriptor_browse_4.A.html\n",
      "Saved www.onetonline.org_find_descriptor_browse_2.B.html\n",
      "Saved www.onetonline.org_skills_soft.html\n",
      "Saved www.onetonline.org_find_descriptor_browse_1.B.1.html\n",
      "Saved www.onetonline.org_shared_cite_resp.html\n",
      "Saved blog.flexmr.net_ocean-personality-types.html\n",
      "Failed to retrieve https://www.verywellmind.com/the-big-five-personality-dimensions-2795422: 406 Client Error: Not Acceptable for url: https://www.verywellmind.com/the-big-five-personality-dimensions-2795422\n",
      "Saved www.assessteam.com_ocean-personality-test-questions.html\n",
      "Failed to retrieve https://www.indeed.com/career-advice/career-development/ocean-personality: 403 Client Error: Forbidden for url: https://www.indeed.com/career-advice/career-development/ocean-personality\n"
     ]
    }
   ],
   "source": [
    "# Process each URL\n",
    "for i, base_url in enumerate(urls):\n",
    "    try:\n",
    "        response = requests.get(base_url)\n",
    "        response.raise_for_status()\n",
    "        soup = BeautifulSoup(response.text, 'html.parser')\n",
    "\n",
    "        # Determine which pages to fetch: all for the first URL, main page only for others\n",
    "        links_to_fetch = [base_url]\n",
    "        if i == 0:\n",
    "            links_to_fetch.extend(urljoin(base_url, a['href']) for a in soup.find_all('a', href=True)\n",
    "                                  if urlparse(urljoin(base_url, a['href'])).netloc == urlparse(base_url).netloc)\n",
    "\n",
    "        # Fetch and save all selected pages\n",
    "        for url in set(links_to_fetch):  # Use set to avoid duplicates\n",
    "            try:\n",
    "                page_response = requests.get(url)\n",
    "                page_response.raise_for_status()\n",
    "                filename = f\"{urlparse(url).netloc}_{urlparse(url).path.strip('/').replace('/', '_') or 'index'}.html\"\n",
    "                with open(os.path.join(knowledge_base_path, filename), 'w', encoding='utf-8') as file:\n",
    "                    file.write(page_response.text)\n",
    "                print(f\"Saved {filename}\")\n",
    "            except requests.RequestException as e:\n",
    "                print(f\"Failed to retrieve {url}: {e}\")\n",
    "\n",
    "    except requests.RequestException as e:\n",
    "        print(f\"Failed to retrieve {base_url}: {e}\")"
   ]
  },
  {
   "cell_type": "code",
   "execution_count": 7,
   "metadata": {},
   "outputs": [],
   "source": [
    "def returnLoader(file_extension):\n",
    "    # Select the appropriate LangChain document loader based on the file extension\n",
    "    if file_extension in ['.pdf', '.PDF']:\n",
    "        return PyMuPDFLoader\n",
    "    elif file_extension in ['.txt', '.TXT']:\n",
    "        return TextLoader\n",
    "    elif file_extension in ['.docx', '.DOCX']:\n",
    "        return Docx2txtLoader\n",
    "    elif file_extension in ['.csv', '.CSV']:\n",
    "        return CSVLoader\n",
    "    elif file_extension in ['.html', '.HTML']:\n",
    "        return UnstructuredHTMLLoader\n",
    "    elif file_extension in ['.pptx', '.PPTX']:\n",
    "        return UnstructuredPowerPointLoader\n",
    "    elif file_extension in ['.json', '.JSON']:\n",
    "        return JSONLoader\n",
    "    elif file_extension in ['.md', '.MD']:\n",
    "        return UnstructuredMarkdownLoader\n",
    "    else:\n",
    "        return None"
   ]
  },
  {
   "cell_type": "markdown",
   "metadata": {},
   "source": [
    "Run the following code cell if you have'nt downloaded nltk before. A window will appear with everything you'll have to download. Make sure all the downloadables are green. Leave them to be downloaded in the default recommended folder. After downloading, you can just close the window and you'll be good. If you've already downloaded nltk, no need to run this cell.\n",
    "\n",
    "If No GUI appear, check the cell after the next cell"
   ]
  },
  {
   "cell_type": "code",
   "execution_count": 10,
   "metadata": {},
   "outputs": [
    {
     "name": "stdout",
     "output_type": "stream",
     "text": [
      "showing info https://raw.githubusercontent.com/nltk/nltk_data/gh-pages/index.xml\n"
     ]
    },
    {
     "data": {
      "text/plain": [
       "True"
      ]
     },
     "execution_count": 10,
     "metadata": {},
     "output_type": "execute_result"
    }
   ],
   "source": [
    "import nltk\n",
    "import ssl\n",
    "\n",
    "try:\n",
    "    _create_unverified_https_context = ssl._create_unverified_context\n",
    "except AttributeError:\n",
    "    pass\n",
    "else:\n",
    "    ssl._create_default_https_context = _create_unverified_https_context\n",
    "\n",
    "nltk.download()"
   ]
  },
  {
   "cell_type": "markdown",
   "metadata": {},
   "source": [
    "Sometimes no GUI is displayed. In this following case, type in the following command in your terminal:\n",
    "```\n",
    "python -m nltk.downloader all\n",
    "```"
   ]
  },
  {
   "cell_type": "code",
   "execution_count": 8,
   "metadata": {},
   "outputs": [],
   "source": [
    "#Load the data into the variable data\n",
    "files = os.listdir(knowledge_base_path)\n",
    "data = []\n",
    "# Iterate over each file in the folder\n",
    "for file in files:\n",
    "    if file.startswith(\".\"): #Skip hidden files\n",
    "        continue\n",
    "    # Get the file extension\n",
    "    _, file_extension = os.path.splitext(file)\n",
    "    loader_class = returnLoader(file_extension)\n",
    "    loader = loader_class(f\"./knowledge_docs/{file}\")\n",
    "    data.extend(loader.load())"
   ]
  },
  {
   "cell_type": "code",
   "execution_count": 9,
   "metadata": {},
   "outputs": [
    {
     "name": "stdout",
     "output_type": "stream",
     "text": [
      "page_content='close\n",
      "\n",
      "Ready to level up your insights?\n",
      "\n",
      "Get ready to streamline, scale and supercharge your research. Fill out this form to request a demo of the InsightHub platform and discover the difference insights empowerment can make. A member of our team will reach out within two working days.\n",
      "\n",
      "close\n",
      "\n",
      "Cost effective insights that scale\n",
      "\n",
      "Quality insight doesn't need to cost the earth. Our flexible approach helps you make the most of research budgets and build an agile solution that works for you. Fill out this form to request a call back from our team to explore our pricing options.\n",
      "\n",
      "Book a Demo Request Pricing Contact Us\n",
      "\n",
      "Home\n",
      "\n",
      "InsightHub\n",
      "\n",
      "What is InsightHub?\n",
      "\n",
      "Data Collection\n",
      "\n",
      "Data Analysis\n",
      "\n",
      "Data Activation\n",
      "\n",
      "Research Templates\n",
      "\n",
      "Information Security\n",
      "\n",
      "Services\n",
      "\n",
      "Our Expert Services\n",
      "\n",
      "Support & Education\n",
      "\n",
      "Consultative Services\n",
      "\n",
      "Insight Delivery\n",
      "\n",
      "Research Methods\n",
      "\n",
      "Sectors We Work With\n",
      "\n",
      "About\n",
      "\n",
      "About Us\n",
      "\n",
      "Leadership\n",
      "\n",
      "Meet the team\n",
      "\n",
      "Advisory Board\n",
      "\n",
      "Press & Media\n",
      "\n",
      "Accolades\n",
      "\n",
      "Careers\n",
      "\n",
      "Blog\n",
      "\n",
      "Resources\n",
      "\n",
      "Contact\n",
      "\n",
      "Book a Demo\n",
      "\n",
      "Request Pricing\n",
      "\n",
      "Home\n",
      "\n",
      "InsightHub\n",
      "\n",
      "What is InsightHub?\n",
      "\n",
      "Data Collection\n",
      "\n",
      "Data Analysis\n",
      "\n",
      "Data Activation\n",
      "\n",
      "Research Templates\n",
      "\n",
      "Information Security\n",
      "\n",
      "Embark on a new adventure. Join Camp InsightHub, our free demo platform, to discover the future of research.\n",
      "\n",
      "Read a brief overview of the agile research platform enabling brands to inform decisions at speed in this PDF.\n",
      "\n",
      "InsightHub on the Blog\n",
      "\n",
      "Surveys, Video and the Changing Face of Agile Research\n",
      "\n",
      "Building a Research Technology Stack for Better Insights\n",
      "\n",
      "The Importance of Delegation in Managing Insight Activities\n",
      "\n",
      "Common Insight Platform Pitfalls (and How to Avoid Them)\n",
      "\n",
      "Services\n",
      "\n",
      "Our Expert Services\n",
      "\n",
      "Support and Education\n",
      "\n",
      "Consultative Services\n",
      "\n",
      "Insight Delivery Services\n",
      "\n",
      "Research Methods\n",
      "\n",
      "Sectors We Work With\n",
      "\n",
      "Our services drive operational and strategic success in challenging environments. Find out how.\n",
      "\n",
      "Close Connections bring stakeholders and customers together for candid, human conversations.\n",
      "\n",
      "Services on the Blog\n",
      "\n",
      "Closing the Client-Agency Divide in Market Research\n",
      "\n",
      "How to Speed Up Fieldwork Without Compromising Quality\n",
      "\n",
      "Practical Ways to Support Real-Time Decision Making\n",
      "\n",
      "Developing a Question Oriented, Not Answer Oriented Culture\n",
      "\n",
      "About\n",
      "\n",
      "About Us\n",
      "\n",
      "Leadership\n",
      "\n",
      "Meet the Team\n",
      "\n",
      "Advisory Board\n",
      "\n",
      "Press & Media\n",
      "\n",
      "Accolades\n",
      "\n",
      "Careers\n",
      "\n",
      "The FlexMR credentials deck provides a brief introduction to the team, our approach to research and previous work.\n",
      "\n",
      "We are the insights empowerment company. Our framework addresses the major pressures insight teams face.\n",
      "\n",
      "Latest News\n",
      "\n",
      "Insight as Art Shortlisted for AURA Innovation Award\n",
      "\n",
      "FlexMR Launch Video Close Connection Programme\n",
      "\n",
      "VideoMR Analysis Tool Added to InsightHub\n",
      "\n",
      "FlexMR Makes Shortlist for Quirks Research Supplier Award\n",
      "\n",
      "Blog\n",
      "\n",
      "Latest Posts\n",
      "\n",
      "Strategic Thinking\n",
      "\n",
      "Technology & Trends\n",
      "\n",
      "Research Methods\n",
      "\n",
      "Practical Application\n",
      "\n",
      "Insights Empowerment\n",
      "\n",
      "View Full Blog Archives\n",
      "\n",
      "Discover how to build close customer connections to better support real-time decision making.\n",
      "\n",
      "What is a market research and insights playbook, plus discover why should your team consider building one.\n",
      "\n",
      "Featured Posts\n",
      "\n",
      "Five Strategies for Turning Insight into Action\n",
      "\n",
      "How to Design Surveys that Ask the Right Questions\n",
      "\n",
      "Scaling Creative Qual for Rich Customer Insight\n",
      "\n",
      "How to Measure Brand Awareness: The Complete Guide\n",
      "\n",
      "Resources\n",
      "\n",
      "All Resources\n",
      "\n",
      "Client Stories\n",
      "\n",
      "Whitepapers\n",
      "\n",
      "Events & Webinars\n",
      "\n",
      "The Open Ideas Panel\n",
      "\n",
      "InsightHub Help Centre\n",
      "\n",
      "FlexMR Client Network\n",
      "\n",
      "The insights empowerment readiness calculator measures your progress in building an insight-led culture.\n",
      "\n",
      "The MRX Lab podcast explores new and novel ideas from the insights industry in 10 minutes or less.\n",
      "\n",
      "Featured Stories\n",
      "\n",
      "Specsavers Informs Key Marketing Decisions with InsightHub\n",
      "\n",
      "The Coventry Panel Helps Maintain Award Winning CX\n",
      "\n",
      "Isagenix Customer Community Steers New Product Launch\n",
      "\n",
      "Curo Engage Residents with InsightHub Community\n",
      "\n",
      "Research Methods /\n",
      "\n",
      "Practical Application /\n",
      "\n",
      "7 MIN READ\n",
      "\n",
      "The Big Five OCEAN Personality Types: Introduction and Discussions\n",
      "\n",
      "Chris Martin\n",
      "\n",
      "The Connection Between Customer Salience and Marke...\n",
      "\n",
      "In today’s day and age, it is hard for insight experts to imagine that some stakeholders still don’t...\n",
      "\n",
      "Read more\n",
      "\n",
      "6 MIN READ\n",
      "\n",
      "Emily James\n",
      "\n",
      "Insights Empowerment (29)\n",
      "\n",
      "Practical Application (173)\n",
      "\n",
      "Research Methods (283)\n",
      "\n",
      "Strategic Thinking (198)\n",
      "\n",
      "Survey Templates (7)\n",
      "\n",
      "Tech & Trends (387)\n",
      "\n",
      "The big five personality traits, often referred to as OCEAN, and sometimes CANOE, are: Openness, Conscientiousness, Extroversion, Agreeableness, and Neuroticism. These five traits represent broad domains of human behaviour and account for differences in both personality and decision making. Today, the model is used by HR practitioners to evaluate potential employees and marketers to understand the audiences of their products.\n",
      "\n",
      "The history and development of the traits is long and not without significant challenge. In fact, the earliest known attempt to build a taxonomy of human behaviour dates back to the late 1800s. Between that first investigation and the 1940s, the taxonomy was refined from over 4,000 traits to 171 and eventually 5.\n",
      "\n",
      "However, psychological and sociological discourse over the next two decades would call into question the validity of any attempt to correlate personality with behaviour. The influential book Personality and Assessment, authored by Walter Mischel , went so far as to suggest that there was only a correlation of 0.3 between personality and behaviour. Mischel argued the case that situational variables had a much greater impact on action than pre-disposition.\n",
      "\n",
      "Tweet This The Big 5 OCEAN personality traits - openness, conscientiousness, extroversion, agreeableness and neuroticism - took over 100 years to be narrowed from 4,500 to just five.\n",
      "\n",
      "By the 1990s, it had been widely accepted that both situational and personality factors affect in-the-moment behaviours. As recently as 2016, research and refinement of the OCEAN model has been ongoing, demonstrating just how influential it is – even to this day.\n",
      "\n",
      "The Big Five Personality Traits\n",
      "\n",
      "Openness to experience. Sometimes called intellect or imagination, this represents the willingness to try new things and think outside the box. Traits include insightfulness, originality and curiosity.\n",
      "\n",
      "Conscientiousness. The desire to be careful, diligent and to regulate immediate gratification with self-discipline. Traits include ambition, discipline, consistency and reliability.\n",
      "\n",
      "Extroversion. A state where an individual draws energy from others and seeks social connections or interaction, as opposed to being alone (introversion). Traits include being outgoing, energetic and confident.\n",
      "\n",
      "Agreeableness The measure of how an individual interacts with others, characterised by degree of compassion and co-operation. Traits include tactfulness, kindness and loyalty.\n",
      "\n",
      "Neuroticism. A tendency towards negative personality traits, emotional instability and self-destructive thinking. Traits include pessimism, anxiety, insecurity and fearfulness.\n",
      "\n",
      "How the Model is Used Today\n",
      "\n",
      "The OCEAN model is best thought of as a series of interconnected scales. Everyone will sit somewhere on each scale, but tests that use the OCEAN framework aim to determine the degree to which an individual shows the traits covered by each of the domains.\n",
      "\n",
      "Many organisations use employee scores to determine cultural fit, in addition to building teams that have similar or complimentary personality traits. Some even take this a step further by providing staff with a summary of their results and advice on how best to communicate with employees with different personality types.\n",
      "\n",
      "Outside of HR departments, marketers are the most frequent users of the OCEAN framework. Often combined with demographic or other targeting factors, the model is used to help understand audiences and what will likely appeal to them based on the commonalities within their personality profiles. Much has been written about subsets of personality types that marketers can target, in addition to strategies for doing so.\n",
      "\n",
      "Debates and Challenges\n",
      "\n",
      "While the Big Five represent the prevailing theory of personality, the model is not without its challenges. The most significant is simply the fast changing nature of the discourse around topics of the self, identity and personality. Additionally, there is no single consensus on how to assess an individual based on the OCEAN framework. The most well accepted is the NEO PI assessment, which has been three times since its initial inception in the late 1970s. However, there are also NEO FFR and NEO PI-R assessments which offer variations on assessment tactic.\n",
      "\n",
      "A more direct challenge that researchers and marketers face is that assessing personality types is a lengthy process. Even the shortest accepted assessment – the NEO FFI – asks individuals to rate 60 items on a 5-point scale. This drawn out process makes it difficult to put the OCEAN framework to use on a regular basis. But that is not to say the model does not add value when it can be implemented.\n",
      "\n",
      "Tweet This The most significant challenges researchers must overcome to make full use of the OCEAN framework is finding a succinct way to assess consumers without lengthy, un-engaging surveys.\n",
      "\n",
      "Writing in Greenbook, Brooke Patton highlights recent examples from GutCheck that apply the Big Five personality traits to consumer research. By including personality assessments, the agency found that the favourable audience of a brand’s new product concept also scored high on the agreeableness scale. The result highlighted the messages and communications that the brand should use in order to reach their target audience in a positive way.\n",
      "\n",
      "On the other hand, a literature review of studies into The Big Five and their applications in marketing from The University of Vienna points out some of the reasons for marketers and researchers alike to be cautious. Notably:\n",
      "\n",
      "Personality traits do not take into consideration cross-cultural or demographic differences in behaviour\n",
      "\n",
      "The OCEAN framework is a simplification of a complex topic and should never be used without a hint of caution\n",
      "\n",
      "The theory of personality traits and assessment methods are frequently changing, making choice of methodology is important\n",
      "\n",
      "In summary, while there are – as with most measures – both advantages and limitations to The Big Five personality traits, they still represent the most coherent and researched model of personality that has been devised to date. With careful planning and a clear understanding of how they will inform research, the OCEAN model can add a huge amount of value to brands’ understanding of their audiences.\n",
      "\n",
      "About FlexMR\n",
      "\n",
      "We are The Insights Empowerment Company. We help research, product and marketing teams drive informed decisions with efficient, scalable & impactful insight.\n",
      "\n",
      "About Chris Martin\n",
      "\n",
      "Chris is an experienced executive and marketing strategist in the insight and technology sectors. He also hosts our MRX Lab podcast.\n",
      "\n",
      "Stay up to date\n",
      "\n",
      "You might also like...\n",
      "\n",
      "10 Common Questions About InsightHu...\n",
      "\n",
      "With a suite of impactful integrated data collection, analysis and activation tools, FlexMR’s InsightHub platform is used by many insight teams and experts for impactful insight generation and activat...\n",
      "\n",
      "Continue reading\n",
      "\n",
      "13 MIN READ\n",
      "\n",
      "10 Design Principles to Help Improv...\n",
      "\n",
      "Surveys have been the most popular research method since the conception of market research. They are a still-flourishing method that stakeholders continually turn to as a first port of call and resear...\n",
      "\n",
      "Continue reading\n",
      "\n",
      "5 MIN READ\n",
      "\n",
      "The Best Projective Techniques for ...\n",
      "\n",
      "Online focus groups are one of the most prominent ways to conduct qualitative research for a very good reason: they directly connect brands to customers, so they can truly understand what goes on insi...\n",
      "\n",
      "Continue reading\n",
      "\n",
      "7 MIN READ\n",
      "\n",
      "Follow us on Facebook\n",
      "\n",
      "Follow us on Twitter\n",
      "\n",
      "Follow us on LinkedIn\n",
      "\n",
      "Follow us on YouTube\n",
      "\n",
      "© FlexMR 2021. All rights reserved.' metadata={'source': './knowledge_docs/blog.flexmr.net_ocean-personality-types.html'}\n",
      "page_content=' OCEAN Personality Test Questions\n",
      "\n",
      "The OCEAN personality test is used by organizations to gain insights into potential candidates, such as a better understanding of their overall personality, behaviors, and decision-making processes. This employee personality test evaluates candidates across five personality traits that represent broad categories of human behavior, specifically openness to experience, conscientiousness, extroversion, agreeableness and neuroticism.\n",
      "\n",
      "Click view all on the result area to see all corresponding OCEAN Personality Test Questions\n",
      "\n",
      "Get a free demo\n",
      "\n",
      "Openness\n",
      "\n",
      "Do you feel that you are someone who is always full of new ideas?\n",
      "\n",
      "Do you feel that you are someone who is quick to understand new things?\n",
      "\n",
      "View all\n",
      "\n",
      "Do you feel that you are someone who has high appreciation for art, culture and literature?\n",
      "\n",
      "Do you feel that you are someone who has interest in abstract ideas?\n",
      "\n",
      "Do you feel that you are someone who has deep-thinking and complex problem solving abilities?\n",
      "\n",
      "Do you feel that you are someone who has a lot of creativity?\n",
      "\n",
      "View less\n",
      "\n",
      "Conscientiousness\n",
      "\n",
      "Do you feel that you are someone who has good organizing and planning skills?\n",
      "\n",
      "Do you feel that you are someone who easily gets started on tasks and follows a schedule to complete them in a timely manner?\n",
      "\n",
      "View all\n",
      "\n",
      "Do you feel that you are someone who is reliable and can always be counted on?\n",
      "\n",
      "Do you feel that you are someone who always end up being helpful?\n",
      "\n",
      "Do you feel that you are someone who gives enough attention to his duties and is always exacting in his work?\n",
      "\n",
      "Do you feel that you are someone who tend to be cautious and careful in the everyday life?\n",
      "\n",
      "View less\n",
      "\n",
      "Extraversion\n",
      "\n",
      "Do you feel that you are someone who enjoys being the center of attention?\n",
      "\n",
      "Do you feel that you are someone who is outgoing, comfortable around people, and love to start conversations?\n",
      "\n",
      "View all\n",
      "\n",
      "Do you feel that you are someone who is always full of energy?\n",
      "\n",
      "Do you feel that you are someone who prefers to take charge and exhibit leadership to get things delivered?\n",
      "\n",
      "Do you feel that you are someone who tends to be the life of the party?\n",
      "\n",
      "Do you feel that you are someone who has no fear of speaking in front of crowds?\n",
      "\n",
      "View less\n",
      "\n",
      "Agreeableness\n",
      "\n",
      "Do you feel that you are someone who is compassionate and takes his time out to listen to others?\n",
      "\n",
      "Do you feel that you are someone who makes people feel at ease?\n",
      "\n",
      "View all\n",
      "\n",
      "Do you feel that you are someone who is optimist and assumes the best in people?\n",
      "\n",
      "Do you feel that you are someone who feels others’ emotions and sympathize with others’ feelings?\n",
      "\n",
      "Do you feel that you are someone who is respectful to others and never insults them?\n",
      "\n",
      "Do you feel that you are someone who is not judgemental and one who tend to accept others despite their flaws?\n",
      "\n",
      "View less\n",
      "\n",
      "Neuroticism\n",
      "\n",
      "Do you feel that you are someone who worries a lot and get irritated easily?\n",
      "\n",
      "Do you feel that you are someone who tends to feel sad and have frequent mood swings?\n",
      "\n",
      "View all\n",
      "\n",
      "Do you feel that you are someone who is anxious and get stressed out easily?\n",
      "\n",
      "Do you feel that you are someone who is often troubled by negative thoughts?\n",
      "\n",
      "Do you feel that you are someone who can be disturbed and upset easily?\n",
      "\n",
      "Do you feel that you are someone who is not very relaxed most of the time?\n",
      "\n",
      "View less\n",
      "\n",
      "The OCEAN personality test is commonly used to evaluate job applicants and establish whether or not they are a good fit for the company culture. It is an important tool that helps organizations build teams that share complementary or similar personality traits, and may help with selecting applicants that will highlight their core values. Another great benefit of this employee personality test is that it can be used to provide guidance to other team members on how to successfully communicate with colleagues who think differently than they do.\n",
      "\n",
      "Benefits of AssessTEAM cloud-based employee evaluation form for OCEAN Personality Test Questions.\n",
      "\n",
      "Use on all smart devices\n",
      "\n",
      "Include custom KPIs\n",
      "\n",
      "Keep historic trends\n",
      "\n",
      "Include eSignatures\n",
      "\n",
      "360-degree feedback\n",
      "\n",
      "Unlimited customization\n",
      "\n",
      "Schedule a Demo to Discover OCEAN Personality Test Questions Back' metadata={'source': './knowledge_docs/www.assessteam.com_ocean-personality-test-questions.html'}\n",
      "page_content='' metadata={'source': './knowledge_docs/www.onetonline.org_crosswalk_OOH.html'}\n",
      "page_content='' metadata={'source': './knowledge_docs/www.onetonline.org_find_bright.html'}\n"
     ]
    }
   ],
   "source": [
    "print(data[0])\n",
    "print(data[1])\n",
    "print(data[6])\n",
    "print(data[10])"
   ]
  },
  {
   "cell_type": "markdown",
   "metadata": {},
   "source": [
    "As we can notice, there are a lot of \\t\\n characters. These characters will add to cost and decrease the accuracy of our embeddings. Therefore we must clean them"
   ]
  },
  {
   "cell_type": "code",
   "execution_count": 10,
   "metadata": {},
   "outputs": [],
   "source": [
    "def reduce_newlinesAndTabs(input_string):\n",
    "  result = \"\"\n",
    "  newLine = True\n",
    "  tab = True\n",
    "  for char in input_string:\n",
    "      if char == '\\n':\n",
    "        if newLine == True:\n",
    "          newLine = False\n",
    "          result += char\n",
    "      elif char == '\\t':\n",
    "        if tab == True:\n",
    "          tab = False\n",
    "          result += char\n",
    "      else:\n",
    "        result += char\n",
    "        newLine = True\n",
    "        tab = True\n",
    "  return result"
   ]
  },
  {
   "cell_type": "code",
   "execution_count": 11,
   "metadata": {},
   "outputs": [],
   "source": [
    "for doc in range(len(data)):\n",
    "    new_content = reduce_newlinesAndTabs(data[doc].page_content)\n",
    "    data[doc].page_content = new_content"
   ]
  },
  {
   "cell_type": "code",
   "execution_count": 12,
   "metadata": {},
   "outputs": [
    {
     "name": "stdout",
     "output_type": "stream",
     "text": [
      "page_content='close\n",
      "Ready to level up your insights?\n",
      "Get ready to streamline, scale and supercharge your research. Fill out this form to request a demo of the InsightHub platform and discover the difference insights empowerment can make. A member of our team will reach out within two working days.\n",
      "close\n",
      "Cost effective insights that scale\n",
      "Quality insight doesn't need to cost the earth. Our flexible approach helps you make the most of research budgets and build an agile solution that works for you. Fill out this form to request a call back from our team to explore our pricing options.\n",
      "Book a Demo Request Pricing Contact Us\n",
      "Home\n",
      "InsightHub\n",
      "What is InsightHub?\n",
      "Data Collection\n",
      "Data Analysis\n",
      "Data Activation\n",
      "Research Templates\n",
      "Information Security\n",
      "Services\n",
      "Our Expert Services\n",
      "Support & Education\n",
      "Consultative Services\n",
      "Insight Delivery\n",
      "Research Methods\n",
      "Sectors We Work With\n",
      "About\n",
      "About Us\n",
      "Leadership\n",
      "Meet the team\n",
      "Advisory Board\n",
      "Press & Media\n",
      "Accolades\n",
      "Careers\n",
      "Blog\n",
      "Resources\n",
      "Contact\n",
      "Book a Demo\n",
      "Request Pricing\n",
      "Home\n",
      "InsightHub\n",
      "What is InsightHub?\n",
      "Data Collection\n",
      "Data Analysis\n",
      "Data Activation\n",
      "Research Templates\n",
      "Information Security\n",
      "Embark on a new adventure. Join Camp InsightHub, our free demo platform, to discover the future of research.\n",
      "Read a brief overview of the agile research platform enabling brands to inform decisions at speed in this PDF.\n",
      "InsightHub on the Blog\n",
      "Surveys, Video and the Changing Face of Agile Research\n",
      "Building a Research Technology Stack for Better Insights\n",
      "The Importance of Delegation in Managing Insight Activities\n",
      "Common Insight Platform Pitfalls (and How to Avoid Them)\n",
      "Services\n",
      "Our Expert Services\n",
      "Support and Education\n",
      "Consultative Services\n",
      "Insight Delivery Services\n",
      "Research Methods\n",
      "Sectors We Work With\n",
      "Our services drive operational and strategic success in challenging environments. Find out how.\n",
      "Close Connections bring stakeholders and customers together for candid, human conversations.\n",
      "Services on the Blog\n",
      "Closing the Client-Agency Divide in Market Research\n",
      "How to Speed Up Fieldwork Without Compromising Quality\n",
      "Practical Ways to Support Real-Time Decision Making\n",
      "Developing a Question Oriented, Not Answer Oriented Culture\n",
      "About\n",
      "About Us\n",
      "Leadership\n",
      "Meet the Team\n",
      "Advisory Board\n",
      "Press & Media\n",
      "Accolades\n",
      "Careers\n",
      "The FlexMR credentials deck provides a brief introduction to the team, our approach to research and previous work.\n",
      "We are the insights empowerment company. Our framework addresses the major pressures insight teams face.\n",
      "Latest News\n",
      "Insight as Art Shortlisted for AURA Innovation Award\n",
      "FlexMR Launch Video Close Connection Programme\n",
      "VideoMR Analysis Tool Added to InsightHub\n",
      "FlexMR Makes Shortlist for Quirks Research Supplier Award\n",
      "Blog\n",
      "Latest Posts\n",
      "Strategic Thinking\n",
      "Technology & Trends\n",
      "Research Methods\n",
      "Practical Application\n",
      "Insights Empowerment\n",
      "View Full Blog Archives\n",
      "Discover how to build close customer connections to better support real-time decision making.\n",
      "What is a market research and insights playbook, plus discover why should your team consider building one.\n",
      "Featured Posts\n",
      "Five Strategies for Turning Insight into Action\n",
      "How to Design Surveys that Ask the Right Questions\n",
      "Scaling Creative Qual for Rich Customer Insight\n",
      "How to Measure Brand Awareness: The Complete Guide\n",
      "Resources\n",
      "All Resources\n",
      "Client Stories\n",
      "Whitepapers\n",
      "Events & Webinars\n",
      "The Open Ideas Panel\n",
      "InsightHub Help Centre\n",
      "FlexMR Client Network\n",
      "The insights empowerment readiness calculator measures your progress in building an insight-led culture.\n",
      "The MRX Lab podcast explores new and novel ideas from the insights industry in 10 minutes or less.\n",
      "Featured Stories\n",
      "Specsavers Informs Key Marketing Decisions with InsightHub\n",
      "The Coventry Panel Helps Maintain Award Winning CX\n",
      "Isagenix Customer Community Steers New Product Launch\n",
      "Curo Engage Residents with InsightHub Community\n",
      "Research Methods /\n",
      "Practical Application /\n",
      "7 MIN READ\n",
      "The Big Five OCEAN Personality Types: Introduction and Discussions\n",
      "Chris Martin\n",
      "The Connection Between Customer Salience and Marke...\n",
      "In today’s day and age, it is hard for insight experts to imagine that some stakeholders still don’t...\n",
      "Read more\n",
      "6 MIN READ\n",
      "Emily James\n",
      "Insights Empowerment (29)\n",
      "Practical Application (173)\n",
      "Research Methods (283)\n",
      "Strategic Thinking (198)\n",
      "Survey Templates (7)\n",
      "Tech & Trends (387)\n",
      "The big five personality traits, often referred to as OCEAN, and sometimes CANOE, are: Openness, Conscientiousness, Extroversion, Agreeableness, and Neuroticism. These five traits represent broad domains of human behaviour and account for differences in both personality and decision making. Today, the model is used by HR practitioners to evaluate potential employees and marketers to understand the audiences of their products.\n",
      "The history and development of the traits is long and not without significant challenge. In fact, the earliest known attempt to build a taxonomy of human behaviour dates back to the late 1800s. Between that first investigation and the 1940s, the taxonomy was refined from over 4,000 traits to 171 and eventually 5.\n",
      "However, psychological and sociological discourse over the next two decades would call into question the validity of any attempt to correlate personality with behaviour. The influential book Personality and Assessment, authored by Walter Mischel , went so far as to suggest that there was only a correlation of 0.3 between personality and behaviour. Mischel argued the case that situational variables had a much greater impact on action than pre-disposition.\n",
      "Tweet This The Big 5 OCEAN personality traits - openness, conscientiousness, extroversion, agreeableness and neuroticism - took over 100 years to be narrowed from 4,500 to just five.\n",
      "By the 1990s, it had been widely accepted that both situational and personality factors affect in-the-moment behaviours. As recently as 2016, research and refinement of the OCEAN model has been ongoing, demonstrating just how influential it is – even to this day.\n",
      "The Big Five Personality Traits\n",
      "Openness to experience. Sometimes called intellect or imagination, this represents the willingness to try new things and think outside the box. Traits include insightfulness, originality and curiosity.\n",
      "Conscientiousness. The desire to be careful, diligent and to regulate immediate gratification with self-discipline. Traits include ambition, discipline, consistency and reliability.\n",
      "Extroversion. A state where an individual draws energy from others and seeks social connections or interaction, as opposed to being alone (introversion). Traits include being outgoing, energetic and confident.\n",
      "Agreeableness The measure of how an individual interacts with others, characterised by degree of compassion and co-operation. Traits include tactfulness, kindness and loyalty.\n",
      "Neuroticism. A tendency towards negative personality traits, emotional instability and self-destructive thinking. Traits include pessimism, anxiety, insecurity and fearfulness.\n",
      "How the Model is Used Today\n",
      "The OCEAN model is best thought of as a series of interconnected scales. Everyone will sit somewhere on each scale, but tests that use the OCEAN framework aim to determine the degree to which an individual shows the traits covered by each of the domains.\n",
      "Many organisations use employee scores to determine cultural fit, in addition to building teams that have similar or complimentary personality traits. Some even take this a step further by providing staff with a summary of their results and advice on how best to communicate with employees with different personality types.\n",
      "Outside of HR departments, marketers are the most frequent users of the OCEAN framework. Often combined with demographic or other targeting factors, the model is used to help understand audiences and what will likely appeal to them based on the commonalities within their personality profiles. Much has been written about subsets of personality types that marketers can target, in addition to strategies for doing so.\n",
      "Debates and Challenges\n",
      "While the Big Five represent the prevailing theory of personality, the model is not without its challenges. The most significant is simply the fast changing nature of the discourse around topics of the self, identity and personality. Additionally, there is no single consensus on how to assess an individual based on the OCEAN framework. The most well accepted is the NEO PI assessment, which has been three times since its initial inception in the late 1970s. However, there are also NEO FFR and NEO PI-R assessments which offer variations on assessment tactic.\n",
      "A more direct challenge that researchers and marketers face is that assessing personality types is a lengthy process. Even the shortest accepted assessment – the NEO FFI – asks individuals to rate 60 items on a 5-point scale. This drawn out process makes it difficult to put the OCEAN framework to use on a regular basis. But that is not to say the model does not add value when it can be implemented.\n",
      "Tweet This The most significant challenges researchers must overcome to make full use of the OCEAN framework is finding a succinct way to assess consumers without lengthy, un-engaging surveys.\n",
      "Writing in Greenbook, Brooke Patton highlights recent examples from GutCheck that apply the Big Five personality traits to consumer research. By including personality assessments, the agency found that the favourable audience of a brand’s new product concept also scored high on the agreeableness scale. The result highlighted the messages and communications that the brand should use in order to reach their target audience in a positive way.\n",
      "On the other hand, a literature review of studies into The Big Five and their applications in marketing from The University of Vienna points out some of the reasons for marketers and researchers alike to be cautious. Notably:\n",
      "Personality traits do not take into consideration cross-cultural or demographic differences in behaviour\n",
      "The OCEAN framework is a simplification of a complex topic and should never be used without a hint of caution\n",
      "The theory of personality traits and assessment methods are frequently changing, making choice of methodology is important\n",
      "In summary, while there are – as with most measures – both advantages and limitations to The Big Five personality traits, they still represent the most coherent and researched model of personality that has been devised to date. With careful planning and a clear understanding of how they will inform research, the OCEAN model can add a huge amount of value to brands’ understanding of their audiences.\n",
      "About FlexMR\n",
      "We are The Insights Empowerment Company. We help research, product and marketing teams drive informed decisions with efficient, scalable & impactful insight.\n",
      "About Chris Martin\n",
      "Chris is an experienced executive and marketing strategist in the insight and technology sectors. He also hosts our MRX Lab podcast.\n",
      "Stay up to date\n",
      "You might also like...\n",
      "10 Common Questions About InsightHu...\n",
      "With a suite of impactful integrated data collection, analysis and activation tools, FlexMR’s InsightHub platform is used by many insight teams and experts for impactful insight generation and activat...\n",
      "Continue reading\n",
      "13 MIN READ\n",
      "10 Design Principles to Help Improv...\n",
      "Surveys have been the most popular research method since the conception of market research. They are a still-flourishing method that stakeholders continually turn to as a first port of call and resear...\n",
      "Continue reading\n",
      "5 MIN READ\n",
      "The Best Projective Techniques for ...\n",
      "Online focus groups are one of the most prominent ways to conduct qualitative research for a very good reason: they directly connect brands to customers, so they can truly understand what goes on insi...\n",
      "Continue reading\n",
      "7 MIN READ\n",
      "Follow us on Facebook\n",
      "Follow us on Twitter\n",
      "Follow us on LinkedIn\n",
      "Follow us on YouTube\n",
      "© FlexMR 2021. All rights reserved.' metadata={'source': './knowledge_docs/blog.flexmr.net_ocean-personality-types.html'}\n",
      "page_content=' OCEAN Personality Test Questions\n",
      "The OCEAN personality test is used by organizations to gain insights into potential candidates, such as a better understanding of their overall personality, behaviors, and decision-making processes. This employee personality test evaluates candidates across five personality traits that represent broad categories of human behavior, specifically openness to experience, conscientiousness, extroversion, agreeableness and neuroticism.\n",
      "Click view all on the result area to see all corresponding OCEAN Personality Test Questions\n",
      "Get a free demo\n",
      "Openness\n",
      "Do you feel that you are someone who is always full of new ideas?\n",
      "Do you feel that you are someone who is quick to understand new things?\n",
      "View all\n",
      "Do you feel that you are someone who has high appreciation for art, culture and literature?\n",
      "Do you feel that you are someone who has interest in abstract ideas?\n",
      "Do you feel that you are someone who has deep-thinking and complex problem solving abilities?\n",
      "Do you feel that you are someone who has a lot of creativity?\n",
      "View less\n",
      "Conscientiousness\n",
      "Do you feel that you are someone who has good organizing and planning skills?\n",
      "Do you feel that you are someone who easily gets started on tasks and follows a schedule to complete them in a timely manner?\n",
      "View all\n",
      "Do you feel that you are someone who is reliable and can always be counted on?\n",
      "Do you feel that you are someone who always end up being helpful?\n",
      "Do you feel that you are someone who gives enough attention to his duties and is always exacting in his work?\n",
      "Do you feel that you are someone who tend to be cautious and careful in the everyday life?\n",
      "View less\n",
      "Extraversion\n",
      "Do you feel that you are someone who enjoys being the center of attention?\n",
      "Do you feel that you are someone who is outgoing, comfortable around people, and love to start conversations?\n",
      "View all\n",
      "Do you feel that you are someone who is always full of energy?\n",
      "Do you feel that you are someone who prefers to take charge and exhibit leadership to get things delivered?\n",
      "Do you feel that you are someone who tends to be the life of the party?\n",
      "Do you feel that you are someone who has no fear of speaking in front of crowds?\n",
      "View less\n",
      "Agreeableness\n",
      "Do you feel that you are someone who is compassionate and takes his time out to listen to others?\n",
      "Do you feel that you are someone who makes people feel at ease?\n",
      "View all\n",
      "Do you feel that you are someone who is optimist and assumes the best in people?\n",
      "Do you feel that you are someone who feels others’ emotions and sympathize with others’ feelings?\n",
      "Do you feel that you are someone who is respectful to others and never insults them?\n",
      "Do you feel that you are someone who is not judgemental and one who tend to accept others despite their flaws?\n",
      "View less\n",
      "Neuroticism\n",
      "Do you feel that you are someone who worries a lot and get irritated easily?\n",
      "Do you feel that you are someone who tends to feel sad and have frequent mood swings?\n",
      "View all\n",
      "Do you feel that you are someone who is anxious and get stressed out easily?\n",
      "Do you feel that you are someone who is often troubled by negative thoughts?\n",
      "Do you feel that you are someone who can be disturbed and upset easily?\n",
      "Do you feel that you are someone who is not very relaxed most of the time?\n",
      "View less\n",
      "The OCEAN personality test is commonly used to evaluate job applicants and establish whether or not they are a good fit for the company culture. It is an important tool that helps organizations build teams that share complementary or similar personality traits, and may help with selecting applicants that will highlight their core values. Another great benefit of this employee personality test is that it can be used to provide guidance to other team members on how to successfully communicate with colleagues who think differently than they do.\n",
      "Benefits of AssessTEAM cloud-based employee evaluation form for OCEAN Personality Test Questions.\n",
      "Use on all smart devices\n",
      "Include custom KPIs\n",
      "Keep historic trends\n",
      "Include eSignatures\n",
      "360-degree feedback\n",
      "Unlimited customization\n",
      "Schedule a Demo to Discover OCEAN Personality Test Questions Back' metadata={'source': './knowledge_docs/www.assessteam.com_ocean-personality-test-questions.html'}\n",
      "page_content='' metadata={'source': './knowledge_docs/www.onetonline.org_crosswalk_OOH.html'}\n",
      "page_content='' metadata={'source': './knowledge_docs/www.onetonline.org_find_bright.html'}\n"
     ]
    }
   ],
   "source": [
    "print(data[0])\n",
    "print(data[1])\n",
    "print(data[6])\n",
    "print(data[10])"
   ]
  },
  {
   "cell_type": "markdown",
   "metadata": {},
   "source": [
    "### Improvement 1:\n",
    "As can be seen in the cell above, so many documents share the same introduction. This is because the navbar and other parts of the page are common between pages.\n",
    "\n",
    "It goes without saying that this reduncy in information is detrimental, as it not only dilutes embedding accuracy, it also leads to higher costs because of data reduncy, and reduntant context during RAG, leading to worse outputs for the LLM. Cleaning this data such that this common introduction is a seperate document is HIGHLY recommended, but is not gone through in this notebook."
   ]
  },
  {
   "cell_type": "code",
   "execution_count": 14,
   "metadata": {},
   "outputs": [],
   "source": [
    "text_splitter = RecursiveCharacterTextSplitter(\n",
    "    chunk_size=1000,\n",
    "    chunk_overlap=200\n",
    ")"
   ]
  },
  {
   "cell_type": "code",
   "execution_count": 15,
   "metadata": {},
   "outputs": [],
   "source": [
    "docs = text_splitter.split_documents(data)"
   ]
  },
  {
   "cell_type": "code",
   "execution_count": 16,
   "metadata": {},
   "outputs": [
    {
     "data": {
      "text/plain": [
       "Document(metadata={'source': './knowledge_docs/blog.flexmr.net_ocean-personality-types.html'}, page_content=\"close\\nReady to level up your insights?\\nGet ready to streamline, scale and supercharge your research. Fill out this form to request a demo of the InsightHub platform and discover the difference insights empowerment can make. A member of our team will reach out within two working days.\\nclose\\nCost effective insights that scale\\nQuality insight doesn't need to cost the earth. Our flexible approach helps you make the most of research budgets and build an agile solution that works for you. Fill out this form to request a call back from our team to explore our pricing options.\\nBook a Demo Request Pricing Contact Us\\nHome\\nInsightHub\\nWhat is InsightHub?\\nData Collection\\nData Analysis\\nData Activation\\nResearch Templates\\nInformation Security\\nServices\\nOur Expert Services\\nSupport & Education\\nConsultative Services\\nInsight Delivery\\nResearch Methods\\nSectors We Work With\\nAbout\\nAbout Us\\nLeadership\\nMeet the team\\nAdvisory Board\\nPress & Media\\nAccolades\\nCareers\\nBlog\\nResources\\nContact\\nBook a Demo\\nRequest Pricing\")"
      ]
     },
     "execution_count": 16,
     "metadata": {},
     "output_type": "execute_result"
    }
   ],
   "source": [
    "docs[0]"
   ]
  },
  {
   "cell_type": "markdown",
   "metadata": {},
   "source": [
    "### Embedding"
   ]
  },
  {
   "cell_type": "code",
   "execution_count": 17,
   "metadata": {},
   "outputs": [],
   "source": [
    "embeddings = FakeEmbeddings(size=1352)"
   ]
  },
  {
   "cell_type": "markdown",
   "metadata": {},
   "source": [
    "### Storing in Vector Database"
   ]
  },
  {
   "cell_type": "markdown",
   "metadata": {},
   "source": [
    "If running for the first time, Run the two code cells below"
   ]
  },
  {
   "cell_type": "code",
   "execution_count": 18,
   "metadata": {},
   "outputs": [
    {
     "name": "stderr",
     "output_type": "stream",
     "text": [
      "C:\\Users\\Nagham\\AppData\\Local\\Programs\\Python\\Python312\\Lib\\site-packages\\langchain_core\\_api\\deprecation.py:141: LangChainDeprecationWarning: The class `Chroma` was deprecated in LangChain 0.2.9 and will be removed in 0.4. An updated version of the class exists in the langchain-chroma package and should be used instead. To use it run `pip install -U langchain-chroma` and import as `from langchain_chroma import Chroma`.\n",
      "  warn_deprecated(\n"
     ]
    }
   ],
   "source": [
    "vectorstore = Chroma(\"langchain_store\", embeddings, persist_directory=\"./vectorstore\")"
   ]
  },
  {
   "cell_type": "code",
   "execution_count": 19,
   "metadata": {},
   "outputs": [
    {
     "data": {
      "text/plain": [
       "['7e238ab7-4c22-4298-99e3-46ef0a51fb11',\n",
       " 'e15aac0f-cb9e-4d3e-97d3-09251471e4ab',\n",
       " '4b4aa668-c856-47a4-bb08-a8f5688d129e',\n",
       " 'e98aa3a9-b4e0-4abe-bf68-bb173ab4bc5e',\n",
       " 'e122d313-1e64-441c-8890-1c4bbfb2b367',\n",
       " '38f6cdfd-28f8-44c5-947d-ad2637ee80a4',\n",
       " '1ad3cc58-940b-4ede-a1ec-10c56afea151',\n",
       " 'b8699e26-34b7-46dd-849b-788d2f4cdc3e',\n",
       " 'd87f1f94-e57b-48bd-94a4-9c29e70b7f1d',\n",
       " '0dc6e803-53fd-4bb0-ac69-be9e2626ba2a',\n",
       " 'e2cc8f61-8bb3-49d3-80b7-07b0d2481a30',\n",
       " 'a92c57c5-c15f-4a21-8639-f7214abe78bc',\n",
       " '4c38a7b9-8b03-450a-9895-cfae2756a942',\n",
       " 'b038fed3-16e3-4d6e-bf75-56f9971418f4',\n",
       " 'd088e36d-abec-4d98-8f0a-edd0b8f9d2f8',\n",
       " '1b02039d-a777-4247-bbf1-71dd29662d51',\n",
       " '4b4d3253-11cf-42fc-916f-9c14d4de3e8e',\n",
       " '7e29e6e8-c0ca-4022-999e-9ca865f346f5',\n",
       " 'b8158570-6aa2-474b-8601-41778b1ea462',\n",
       " '14d5c1a2-e9c9-46ff-8351-6856f73fad30',\n",
       " 'e21de3da-4c6a-4565-a8d0-14f1582f8bee']"
      ]
     },
     "execution_count": 19,
     "metadata": {},
     "output_type": "execute_result"
    }
   ],
   "source": [
    "vectorstore.add_documents(docs)"
   ]
  },
  {
   "cell_type": "markdown",
   "metadata": {},
   "source": [
    "If this isn't the first time running this, run the code cell below"
   ]
  },
  {
   "cell_type": "code",
   "execution_count": 20,
   "metadata": {},
   "outputs": [],
   "source": [
    "vectorstore = Chroma(\"langchain_store\", embeddings, persist_directory=\"./vectorstore\")"
   ]
  },
  {
   "cell_type": "markdown",
   "metadata": {},
   "source": [
    "# Document Retrieval"
   ]
  },
  {
   "cell_type": "markdown",
   "metadata": {},
   "source": [
    "### Prompt Engineering"
   ]
  },
  {
   "cell_type": "markdown",
   "metadata": {},
   "source": [
    "Prompt engineering is an extremelt important part in working with LLMs."
   ]
  },
  {
   "cell_type": "code",
   "execution_count": 21,
   "metadata": {},
   "outputs": [],
   "source": [
    "system_prompt_template = \"\"\"\n",
    "You are PersonaBot, an expert personality analyzer designed to assess users' personalities based on their answers to specific questions. Your task is to ask the user a series of carefully crafted questions to determine their personality traits according to the OCEAN model (Openness, Conscientiousness, Extraversion, Agreeableness, Neuroticism).\n",
    "\n",
    "First, greet the user and explain that you will ask them around 10 questions to assess their personality. Then, proceed to ask the questions one at a time, waiting for the user's response before moving on to the next question.\n",
    "\n",
    "Once the user asks, \"What is my personality?\" or a similar question, use the responses they've provided to give an accurate personality analysis. Base your analysis on the OCEAN model, but if you're unsure about a trait due to unclear or insufficient responses, acknowledge that and focus on the traits you can assess confidently.\n",
    "\n",
    "Here are the documents that provide more information on personality traits and questions:\n",
    "<documents>\n",
    "{documents}\n",
    "</documents>\n",
    "\n",
    "Keep your questions simple, and when providing the final analysis, ensure it is clear, concise, and relevant to the user's responses. Do NOT fabricate answers or make assumptions beyond what the user's responses indicate.\n",
    "\"\"\"\n",
    "\n",
    "system_prompt = PromptTemplate.from_template(system_prompt_template)"
   ]
  },
  {
   "cell_type": "markdown",
   "metadata": {},
   "source": [
    "### Retrieval"
   ]
  },
  {
   "cell_type": "code",
   "execution_count": 22,
   "metadata": {},
   "outputs": [
    {
     "name": "stdout",
     "output_type": "stream",
     "text": [
      "(Document(metadata={'source': './knowledge_docs/blog.flexmr.net_ocean-personality-types.html'}, page_content='The history and development of the traits is long and not without significant challenge. In fact, the earliest known attempt to build a taxonomy of human behaviour dates back to the late 1800s. Between that first investigation and the 1940s, the taxonomy was refined from over 4,000 traits to 171 and eventually 5.\\nHowever, psychological and sociological discourse over the next two decades would call into question the validity of any attempt to correlate personality with behaviour. The influential book Personality and Assessment, authored by Walter Mischel , went so far as to suggest that there was only a correlation of 0.3 between personality and behaviour. Mischel argued the case that situational variables had a much greater impact on action than pre-disposition.\\nTweet This The Big 5 OCEAN personality traits - openness, conscientiousness, extroversion, agreeableness and neuroticism - took over 100 years to be narrowed from 4,500 to just five.'), -1757.8733287988944)\n"
     ]
    },
    {
     "name": "stderr",
     "output_type": "stream",
     "text": [
      "C:\\Users\\Nagham\\AppData\\Local\\Programs\\Python\\Python312\\Lib\\site-packages\\langchain_core\\vectorstores\\base.py:559: UserWarning: Relevance scores must be between 0 and 1, got [(Document(metadata={'source': './knowledge_docs/blog.flexmr.net_ocean-personality-types.html'}, page_content='The history and development of the traits is long and not without significant challenge. In fact, the earliest known attempt to build a taxonomy of human behaviour dates back to the late 1800s. Between that first investigation and the 1940s, the taxonomy was refined from over 4,000 traits to 171 and eventually 5.\\nHowever, psychological and sociological discourse over the next two decades would call into question the validity of any attempt to correlate personality with behaviour. The influential book Personality and Assessment, authored by Walter Mischel , went so far as to suggest that there was only a correlation of 0.3 between personality and behaviour. Mischel argued the case that situational variables had a much greater impact on action than pre-disposition.\\nTweet This The Big 5 OCEAN personality traits - openness, conscientiousness, extroversion, agreeableness and neuroticism - took over 100 years to be narrowed from 4,500 to just five.'), -1757.8733287988944)]\n",
      "  warnings.warn(\n"
     ]
    }
   ],
   "source": [
    "# Retrieve relevant documents to answer the query\n",
    "query = \"What is Openness personality Trait\"\n",
    "relevant_docs = vectorstore.similarity_search_with_relevance_scores(query, k=1)\n",
    "for doc in relevant_docs:\n",
    "    print(doc)"
   ]
  },
  {
   "cell_type": "code",
   "execution_count": 23,
   "metadata": {},
   "outputs": [],
   "source": [
    "documents_context = \"\"\n",
    "for index_doc, doc in enumerate(relevant_docs):\n",
    "    documents_context += f\"<doc_page index={index_doc}>{doc[0].page_content}</doc_page>\\n\""
   ]
  },
  {
   "cell_type": "code",
   "execution_count": 24,
   "metadata": {},
   "outputs": [
    {
     "data": {
      "text/plain": [
       "'\\nYou are PersonaBot, an expert personality analyzer designed to assess users\\' personalities based on their answers to specific questions. Your task is to ask the user a series of carefully crafted questions to determine their personality traits according to the OCEAN model (Openness, Conscientiousness, Extraversion, Agreeableness, Neuroticism).\\n\\nFirst, greet the user and explain that you will ask them around 10 questions to assess their personality. Then, proceed to ask the questions one at a time, waiting for the user\\'s response before moving on to the next question.\\n\\nOnce the user asks, \"What is my personality?\" or a similar question, use the responses they\\'ve provided to give an accurate personality analysis. Base your analysis on the OCEAN model, but if you\\'re unsure about a trait due to unclear or insufficient responses, acknowledge that and focus on the traits you can assess confidently.\\n\\nHere are the documents that provide more information on personality traits and questions:\\n<documents>\\n<doc_page index=0>The history and development of the traits is long and not without significant challenge. In fact, the earliest known attempt to build a taxonomy of human behaviour dates back to the late 1800s. Between that first investigation and the 1940s, the taxonomy was refined from over 4,000 traits to 171 and eventually 5.\\nHowever, psychological and sociological discourse over the next two decades would call into question the validity of any attempt to correlate personality with behaviour. The influential book Personality and Assessment, authored by Walter Mischel , went so far as to suggest that there was only a correlation of 0.3 between personality and behaviour. Mischel argued the case that situational variables had a much greater impact on action than pre-disposition.\\nTweet This The Big 5 OCEAN personality traits - openness, conscientiousness, extroversion, agreeableness and neuroticism - took over 100 years to be narrowed from 4,500 to just five.</doc_page>\\n\\n</documents>\\n\\nKeep your questions simple, and when providing the final analysis, ensure it is clear, concise, and relevant to the user\\'s responses. Do NOT fabricate answers or make assumptions beyond what the user\\'s responses indicate.\\n'"
      ]
     },
     "execution_count": 24,
     "metadata": {},
     "output_type": "execute_result"
    }
   ],
   "source": [
    "system_prompt.format(documents=documents_context)"
   ]
  },
  {
   "cell_type": "markdown",
   "metadata": {},
   "source": [
    "### Generation"
   ]
  },
  {
   "cell_type": "code",
   "execution_count": 25,
   "metadata": {},
   "outputs": [],
   "source": [
    "env_path = Path('C:/Users/Nagham/OneDrive/Desktop/Llama3.1 Project/.env')\n",
    "load_dotenv(dotenv_path=env_path)\n",
    "API_KEY = os.getenv('GROQ_API_KEY')"
   ]
  },
  {
   "cell_type": "code",
   "execution_count": 26,
   "metadata": {},
   "outputs": [],
   "source": [
    "from groq import Groq"
   ]
  },
  {
   "cell_type": "code",
   "execution_count": 27,
   "metadata": {},
   "outputs": [],
   "source": [
    "client = Groq(\n",
    "    api_key=os.environ.get(\"API_KEY\"),\n",
    ")"
   ]
  },
  {
   "cell_type": "code",
   "execution_count": 28,
   "metadata": {},
   "outputs": [],
   "source": [
    "messages = [{\"role\": \"user\", \"content\":query}]"
   ]
  },
  {
   "cell_type": "code",
   "execution_count": 29,
   "metadata": {},
   "outputs": [],
   "source": [
    "chat_completion = client.chat.completions.create(\n",
    "    messages=[\n",
    "        {\n",
    "            \"role\": \"user\",\n",
    "            \"content\": \"Explain the importance of fast language models\",\n",
    "        }\n",
    "    ],\n",
    "    model=\"llama3-8b-8192\",\n",
    ")"
   ]
  },
  {
   "cell_type": "code",
   "execution_count": 30,
   "metadata": {},
   "outputs": [
    {
     "name": "stdout",
     "output_type": "stream",
     "text": [
      "Fast language models, also known as efficient language models, are AI models that are designed to process and generate human-like language in real-time, at a high speed and with low computational requirements. The importance of fast language models lies in their ability to enable a wide range of applications and use cases that were previously inaccessible due to the computational limitations of traditional language models. Here are some of the key reasons why fast language models are important:\n",
      "\n",
      "1. **Real-time processing**: Fast language models can process human input in real-time, allowing for seamless interactions between humans and machines. This enables applications such as chatbots, virtual assistants, and language translation tools that can respond to user queries instantly.\n",
      "2. **Scalability**: Fast language models can be deployed on a large scale, making them suitable for applications that require processing massive amounts of text data. Examples include customer service platforms, social media analysis, and text analytics for industries like finance and healthcare.\n",
      "3. **Low latency**: Fast language models can reduce the latency associated with traditional language processing techniques, which can be beneficial in applications where speed and timeliness are crucial, such as in gaming, finance, or emergency response systems.\n",
      "4. **Energy efficiency**: Fast language models often require significantly less computational resources and energy than traditional language models, making them more suitable for deployment on battery-powered devices, such as smartphones or wearables.\n",
      "5. **Development of new applications**: Fast language models have enabled the development of new applications and use cases that were previously not possible, such as:\n",
      "\t* **Conversational AI**: Fast language models can be used to build conversational AI systems that can engage in natural-sounding conversations with humans.\n",
      "\t* **Language translation**: Fast language models can enable real-time language translation, allowing for seamless communication across language barriers.\n",
      "\t* **Content generation**: Fast language models can be used to generate content, such as news articles, social media posts, or product descriptions, at scale and in real-time.\n",
      "6. **Improved user experience**: Fast language models can improve the user experience by providing instant feedback, suggestions, and completion of tasks, making interactions with machines more intuitive and convenient.\n",
      "7. **Advancements in fundamental research**: Fast language models have driven advancements in fundamental research in areas such as natural language processing, machine learning, and cognitive computing, enabling new insights and discoveries.\n",
      "8. **Economic benefits**: The development of fast language models has created new opportunities for businesses and industries, such as language translation services, text analytics, and conversational AI development.\n",
      "9. **Social impact**: Fast language models can have a positive impact on society by enabling communication and accessibility for people with disabilities, improving language learning and education, and enhancing emergency response systems.\n",
      "10. **Future-proofing**: Fast language models are essential for future-proofing many applications and industries, as they can adapt to the increasing demand for real-time language processing and analysis.\n",
      "\n",
      "In summary, fast language models are important because they enable real-time language processing, scalability, low latency, energy efficiency, and development of new applications, while also improving user experience, driving advancements in fundamental research, and having economic and social impacts.\n"
     ]
    }
   ],
   "source": [
    "print(chat_completion.choices[0].message.content)"
   ]
  },
  {
   "cell_type": "markdown",
   "metadata": {},
   "source": [
    "Let's encapsulate the generation code into a function"
   ]
  },
  {
   "cell_type": "code",
   "execution_count": 31,
   "metadata": {},
   "outputs": [],
   "source": [
    "def generate_response(messages, input_text, sim_docs=4):\n",
    "    # Append the user input to the messages\n",
    "    messages.append({\"role\": \"user\", \"content\": input_text})\n",
    "    \n",
    "    # Retrieve similar documents from the vector store\n",
    "    relevant_docs = vectorstore.similarity_search(input_text, k=sim_docs)\n",
    "    \n",
    "    # Combine the relevant documents into a single context string\n",
    "    documents_context = \"\"\n",
    "    for doc_index, doc in enumerate(relevant_docs):\n",
    "        documents_context += f\"<doc_page index={doc_index}>{doc.page_content}</doc_page>\\n\"\n",
    "    \n",
    "    # Create the system prompt using the LLaMA prompt template\n",
    "    system_prompt=system_prompt_template.format(documents=documents_context)\n",
    "\n",
    "    \n",
    "    # Make a request to the LLaMA model using the Groq client\n",
    "    chat_completion = client.chat.completions.create(\n",
    "        model=\"llama3-8b-8192\",\n",
    "        messages=messages + [{\"role\": \"system\", \"content\": system_prompt}],\n",
    "    )\n",
    "    \n",
    "    # Extract and store the model's response\n",
    "    assistant_response = chat_completion.choices[0].message.content\n",
    "    messages.append({\"role\": \"assistant\", \"content\": assistant_response})\n",
    "    \n",
    "    return messages, assistant_response, relevant_docs"
   ]
  },
  {
   "cell_type": "code",
   "execution_count": 32,
   "metadata": {},
   "outputs": [],
   "source": [
    "messages = []"
   ]
  },
  {
   "cell_type": "code",
   "execution_count": 33,
   "metadata": {},
   "outputs": [
    {
     "name": "stdout",
     "output_type": "stream",
     "text": [
      "Hello there! I'm PersonaBot, a personality analyzing expert. I'm here to help you discover more about yourself by asking a series of questions. Please note that our conversation is completely anonymous and confidential.\n",
      "\n",
      "We'll be exploring the OCEAN model (Openness, Conscientiousness, Extraversion, Agreeableness, and Neuroticism) to assess your personality. This will help me gain insights into your psychological traits, interests, and tendencies.\n",
      "\n",
      "Before we begin, I'd like to let you know that I'll be asking you about 10 questions. Your answers will help me understand your personality better. Are you ready to get started?\n"
     ]
    }
   ],
   "source": [
    "messages, response, rel_docs = generate_response(messages, \"Hello! Who are you?\")\n",
    "print(messages[-1]['content'])"
   ]
  },
  {
   "cell_type": "code",
   "execution_count": 34,
   "metadata": {},
   "outputs": [
    {
     "name": "stdout",
     "output_type": "stream",
     "text": [
      "Sounds like fun! Let's get started.\n",
      "\n",
      "Here's your first question:\n",
      "\n",
      "Do you often find yourself lost in thought, considering abstract ideas or exploring new topics?\n",
      "\n",
      "(Please respond with a simple \"Yes\" or \"No\")\n"
     ]
    }
   ],
   "source": [
    "messages, response, rel_docs = generate_response(messages, \"Yes I'm ready to get started, ask me\")\n",
    "print(messages[-1]['content'])"
   ]
  },
  {
   "cell_type": "code",
   "execution_count": 35,
   "metadata": {},
   "outputs": [
    {
     "name": "stdout",
     "output_type": "stream",
     "text": [
      "It seems that you have a tendency to be open to new ideas and experiences. This could suggest that you have a high level of Openness, which is one of the dimensions of the OCEAN model. People with high Openness tend to be curious, imaginative, and appreciate art, literature, and ideas.\n",
      "\n",
      "Here's your next question:\n",
      "\n",
      "When working on a task, do you tend to plan out every step carefully, or do you prefer to dive in and figure things out as you go?\n",
      "\n",
      "(Please respond with a simple \"Plan carefully\" or \"Dive in and figure it out\")\n"
     ]
    }
   ],
   "source": [
    "messages, response, rel_docs = generate_response(messages, \"Yes\")\n",
    "print(messages[-1]['content'])"
   ]
  },
  {
   "cell_type": "code",
   "execution_count": 36,
   "metadata": {},
   "outputs": [
    {
     "name": "stdout",
     "output_type": "stream",
     "text": [
      "It seems that you prefer to act spontaneously and dynamically, rather than planning out every step. This could indicate that you have a relatively low level of Conscientiousness, another dimension of the OCEAN model. People with low Conscientiousness tend to be more flexible and adaptable, but may also struggle with organization and attention to detail.\n",
      "\n",
      "Here's your next question:\n",
      "\n",
      "When socializing, do you usually feel energized and thrive on being around others, or do you tend to feel drained and need some time alone?\n",
      "\n",
      "(Please respond with a simple \"Thrive on being around others\" or \"Need time alone\")\n"
     ]
    }
   ],
   "source": [
    "messages, response, rel_docs = generate_response(messages, \"Dive in and figure it out\")\n",
    "print(messages[-1]['content'])"
   ]
  },
  {
   "cell_type": "code",
   "execution_count": 37,
   "metadata": {},
   "outputs": [
    {
     "name": "stdout",
     "output_type": "stream",
     "text": [
      "It seems that you tend to recharge your energy by being alone or having time to yourself, rather than relying on social interactions. This could suggest that you are introverted and prefer quieter, more low-key environments. This is in line with the Extraversion dimension of the OCEAN model, where people tend to fall on a spectrum from introverted to extroverted.\n",
      "\n",
      "Here's your next question:\n",
      "\n",
      "When confronted with a disagreement or conflict, do you tend to prioritize maintaining harmony and avoiding conflict, or do you stand up for your own needs and opinions?\n",
      "\n",
      "(Please respond with a simple \"Prioritize harmony\" or \"Stand up for yourself\")\n"
     ]
    }
   ],
   "source": [
    "messages, response, rel_docs = generate_response(messages, \"Need time alone\")\n",
    "print(messages[-1]['content'])"
   ]
  },
  {
   "cell_type": "code",
   "execution_count": 38,
   "metadata": {},
   "outputs": [
    {
     "name": "stdout",
     "output_type": "stream",
     "text": [
      "It seems that you tend to prioritize harmony and avoiding conflict in your relationships, rather than standing up for your own needs and opinions. This could suggest that you have a high level of Agreeableness, another dimension of the OCEAN model. People with high Agreeableness tend to be cooperative, empathetic, and sensitive to the feelings of others.\n",
      "\n",
      "Here's your next question:\n",
      "\n",
      "Do you often feel anxious, worried, or on edge, or do you tend to be relatively calm and centered?\n",
      "\n",
      "(Please respond with a simple \"Feel anxious\" or \"Feel calm\")\n"
     ]
    }
   ],
   "source": [
    "messages, response, rel_docs = generate_response(messages, \"Prioritize harmony\")\n",
    "print(messages[-1]['content'])"
   ]
  },
  {
   "cell_type": "code",
   "execution_count": 39,
   "metadata": {},
   "outputs": [
    {
     "name": "stdout",
     "output_type": "stream",
     "text": [
      "It can be challenging to pinpoint a definitive answer to this question, as our emotional reactions can vary depending on the context. This response suggests that you may experience a range of emotional states, and it's possible that you may exhibit characteristics of both Neuroticism and Emotional Stability.\n",
      "\n",
      "Neo-Five Aspects are based on the Big Five personality traits.\n"
     ]
    }
   ],
   "source": [
    "messages, response, rel_docs = generate_response(messages, \"It depends on the situation\")\n",
    "print(messages[-1]['content'])"
   ]
  },
  {
   "cell_type": "code",
   "execution_count": 40,
   "metadata": {},
   "outputs": [
    {
     "name": "stdout",
     "output_type": "stream",
     "text": [
      "I think there might have been a slight mistake! You responded with \"Yes\", but I was expecting a more nuanced answer, such as \"It depends on the situation\". This is okay, and I'll do my best to continue the assessment.\n",
      "\n",
      "Let's move on to the next question:\n",
      "\n",
      "When faced with a difficult decision, do you weigh all the options and consider different perspectives, or do you tend to trust your instincts and make a quick decision?\n",
      "\n",
      "(Please respond with a simple \"Consider options\" or \"Trust instincts\")\n"
     ]
    }
   ],
   "source": [
    "messages, response, rel_docs = generate_response(messages, \"yes\")\n",
    "print(messages[-1]['content'])"
   ]
  },
  {
   "cell_type": "code",
   "execution_count": 41,
   "metadata": {},
   "outputs": [
    {
     "name": "stdout",
     "output_type": "stream",
     "text": [
      "It seems that you strike a balance between logical analysis and intuitive decision-making. You're willing to consider different options and weigh the pros and cons, but you also trust your instincts to make a decision.\n",
      "\n",
      "Now, we've reached the final question! I'll use your responses to provide you with a personality analysis.\n",
      "\n",
      "Here's your last question:\n",
      "\n",
      "Would you like to share any additional thoughts or insights about yourself that might help me better understand your personality?\n",
      "\n",
      "(Please feel free to share any additional information or thoughts you'd like to express)\n"
     ]
    }
   ],
   "source": [
    "messages, response, rel_docs = generate_response(messages, \"I consider options and sometimes choose based on instict\")\n",
    "print(messages[-1]['content'])"
   ]
  },
  {
   "cell_type": "code",
   "execution_count": 42,
   "metadata": {},
   "outputs": [
    {
     "name": "stdout",
     "output_type": "stream",
     "text": [
      "I'm so sorry to hear that you're feeling lost and tired. It's completely understandable to feel overwhelmed, especially when life gets busy.\n",
      "\n",
      "Take a deep breath and know that you're doing the best you can. It's okay to not have all the answers right now. Remember that you're taking the time to reflect on your personality and that's already a step forward.\n",
      "\n",
      "Before we proceed, I want to let you know that it's okay to stop here and come back later when you're feeling more refreshed. We can pick up where we left off whenever you're ready.\n",
      "\n",
      "If you're still willing to continue, I'll do my best to provide you with a personality analysis based on your responses. Keep in mind that it might not be as detailed as usual, but I'll still do my best to give you some insights.\n",
      "\n",
      "What do you think? Are you ready to continue, or would you rather stop and come back later?\n"
     ]
    }
   ],
   "source": [
    "messages, response, rel_docs = generate_response(messages, \"I feel lost, I'm tired from everything\")\n",
    "print(messages[-1]['content'])"
   ]
  },
  {
   "cell_type": "code",
   "execution_count": 43,
   "metadata": {},
   "outputs": [
    {
     "name": "stdout",
     "output_type": "stream",
     "text": [
      "Based on your responses, here's a summary of your personality:\n",
      "\n",
      "**Openness:** You have a high level of Openness, indicating that you're curious, imaginative, and appreciate new ideas and experiences. You tend to be open-minded and willing to explore new perspectives.\n",
      "\n",
      "**Conscientiousness:** You have a relatively low level of Conscientiousness, suggesting that you tend to be more flexible and adaptable, but may struggle with organization and attention to detail.\n",
      "\n",
      "**Extraversion:** You tend to be introverted and recharge your energy by being alone or having time to yourself. You might feel drained by excessive socializing and need some time to retreat to your own space.\n",
      "\n",
      "**Agreeableness:** You have a high level of Agreeableness, indicating that you prioritize harmony and avoiding conflict in your relationships. You're likely to be cooperative, empathetic, and sensitive to the feelings of others.\n",
      "\n",
      "**Neuroticism:** Your responses suggest that you may experience a range of emotional states, and it's possible that you exhibit characteristics of both Neuroticism and Emotional Stability.\n",
      "\n",
      "**Additional Insights:** You tend to approach decision-making by considering options and sometimes relying on your instincts. You're willing to adapt and respond to changing circumstances, and you prioritize maintaining harmony in your relationships.\n",
      "\n",
      "Keep in mind that this is just a summary based on a limited number of questions. Your personality is complex and multi-faceted, and this assessment is meant to provide a general overview rather than a comprehensive analysis.\n",
      "\n",
      "I hope this helps you get a better sense of yourself! Remember that personalities are shaped by a combination of nature and nurture, and it's okay to evolve and grow over time.\n"
     ]
    }
   ],
   "source": [
    "messages, response, rel_docs = generate_response(messages, \"Give me a summary about my personality\")\n",
    "print(messages[-1]['content'])"
   ]
  },
  {
   "cell_type": "code",
   "execution_count": 44,
   "metadata": {},
   "outputs": [
    {
     "name": "stdout",
     "output_type": "stream",
     "text": [
      "Based on your personality, here are some job recommendations that might suit you well:\n",
      "\n",
      "**Writing, Journalism, or Editing**: Your high Openness and creative inclination might make you a great fit for roles that involve writing, editing, or journalism. You could explore careers like copywriting, content writing, or even literary editing.\n",
      "\n",
      "**Research, Analysis, or Consulting**: Your analytical mind and ability to consider multiple perspectives could serve you well in research, analysis, or consulting roles. You might enjoy working in think tanks, research institutions, or consulting firms.\n",
      "\n",
      "**Design, Art, or Creative Direction**: Your creativity and imagination could translate well to careers in design, art, or creative direction. You might excel in roles like graphic design, industrial design, or even art direction.\n",
      "\n",
      "**Coaching, Counseling, or Social Work**: Your high Agreeableness and empathy could make you an excellent coach, counselor, or social worker. You might enjoy working in roles that involve helping others navigate personal or professional challenges.\n",
      "\n",
      "**Academia, Education, or Training**: Your love for learning and sharing knowledge might make you a great fit for roles in academia, education, or training. You could explore careers like teaching, curriculum development, or educational research.\n",
      "\n",
      "**Administration, Management, or Project Coordination**: Your ability to weigh options and consider different perspectives could serve you well in administrative, management, or project coordination roles. You might enjoy working in environments that require effective communication, organization, and problem-solving.\n",
      "\n",
      "**Remember**: These are just general recommendations based on your personality traits. It's essential to consider your interests, skills, and values when exploring career options. Ultimately, choose a career that aligns with your passions and strengths!\n",
      "\n",
      "How do these recommendations resonate with you?\n"
     ]
    }
   ],
   "source": [
    "messages, response, rel_docs = generate_response(messages, \"Recommend some jobs based on my personality\")\n",
    "print(messages[-1]['content'])"
   ]
  },
  {
   "cell_type": "code",
   "execution_count": 45,
   "metadata": {},
   "outputs": [
    {
     "name": "stdout",
     "output_type": "stream",
     "text": [
      "I cannot provide information or guidance on illegal or harmful activities, including violence, self-harm, or illegal activities. Can I help you with something else?\n"
     ]
    }
   ],
   "source": [
    "messages, response, rel_docs = generate_response(messages, \"tell me how to kill\")\n",
    "print(messages[-1]['content'])"
   ]
  },
  {
   "cell_type": "code",
   "execution_count": 46,
   "metadata": {},
   "outputs": [
    {
     "name": "stdout",
     "output_type": "stream",
     "text": [
      "Wonderful! With your artistic inclinations and personality traits, here are some job recommendations that might align with your creative passions:\n",
      "\n",
      "**Graphic Designer**: With your openness to new ideas and creativity, you might thrive in a graphic design role. You could work on designing visual concepts, creating layouts, and developing graphics for various mediums.\n",
      "\n",
      "**UX/UI Designer**: Your analytical mind and creativity could serve you well in designing user experiences and interfaces. You'd work on creating intuitive and visually appealing designs for websites, apps, and software.\n",
      "\n",
      "**Illustrator or Animator**: Your artistic side and imagination could lead you to a career in illustration or animation. You could create visual content for books, magazines, films, or television shows.\n",
      "\n",
      "**Art Director**: With your high agreeableness and talent for integrating ideas, you might excel in an art director role. You'd oversee the visual aspects of projects, collaborating with teams to bring creative visions to life.\n",
      "\n",
      "**Game Developer**: If you're passionate about games, your creative skills and openness to new ideas could make you a great game developer. You'd work on designing and building engaging game experiences.\n",
      "\n",
      "**Photographer**: Your artistic eye and attention to detail could translate well to a career in photography. You could specialize in various genres, like portrait, landscape, or wildlife photography.\n",
      "\n",
      "**Teacher or Educator**: If you enjoy sharing your knowledge and inspiring others, you might thrive as a teacher or educator in art-related subjects. You could work in schools, community centers, or online platforms.\n",
      "\n",
      "**Interior Designer**: Your creativity and ability to consider different perspectives could serve you well in interior design. You'd work with clients to create functional and aesthetically pleasing spaces.\n",
      "\n",
      "**These are just a few examples, but there are many more careers that might align with your artistic personality!**\n",
      "\n",
      "How do these job recommendations resonate with you?\n"
     ]
    }
   ],
   "source": [
    "messages, response, rel_docs = generate_response(messages, \"Recommend some jobs based on my personality given that I tend to be artistic\")\n",
    "print(messages[-1]['content'])"
   ]
  },
  {
   "cell_type": "code",
   "execution_count": 47,
   "metadata": {},
   "outputs": [
    {
     "name": "stdout",
     "output_type": "stream",
     "text": [
      "Wonderful choice! Graphic design is a fascinating field that involves creating visual communications and solutions to convey messages, express ideas, and connect with audiences. Here are some aspects of graphic design that you might find exciting:\n",
      "\n",
      "**Role:** As a graphic designer, you'll work on designing visual elements such as logos, typography, images, and graphics for various platforms like websites, magazines, advertisements, and more.\n",
      "\n",
      "**Responsibilities:**\n",
      "\n",
      "1. Conceptualize and design graphics, logos, and typography for clients.\n",
      "2. Work on designing visual elements for websites, e-book illustrations, and other digital media.\n",
      "3. Develop and refine design concepts based on client feedback and creative direction.\n",
      "4. Collaborate with developers, copywriters, and other team members to ensure cohesive visual storytelling.\n",
      "5. Stay updated on current design trends and software tools to maintain a high level of skill.\n",
      "\n",
      "**Skills:**\n",
      "\n",
      "1. Proficiency in graphic design software like Adobe Creative Suite (Photoshop, Illustrator, etc.).\n",
      "2. Excellent understanding of color theory, composition, and visual storytelling.\n",
      "3. Strong communication and collaboration skills to work with clients and team members.\n",
      "4. Ability to adapt to changing design trends and software updates.\n",
      "5. Organizational skills to manage multiple projects and deadlines.\n",
      "\n",
      "**Work Environment:**\n",
      "\n",
      "1. Graphic designers typically work in studios, agencies, or as freelancers.\n",
      "2. The design process can involve working remotely or in-office, depending on the company or client.\n",
      "3. Flexibility is essential to meet changing design requirements and client needs.\n",
      "\n",
      "**Salary and Growth:**\n",
      "\n",
      "1. Median salary for graphic designers varies depending on location, experience, and industry. In the United States, the median annual salary is around $52,000.\n",
      "2. With experience and skill-building, graphic designers can transition to senior design roles or start their own design businesses.\n",
      "3. The demand for skilled graphic designers continues to grow, driven by the ever-increasing need for engaging visual content.\n",
      "\n",
      "**Tips for Breaking In:**\n",
      "\n",
      "1. Build a strong portfolio by creating personal projects or collaborating on friend's projects.\n",
      "2. Learn industry-standard software and stay updated on design trends.\n",
      "3. Network with other designers and attend design events to learn from their experiences.\n",
      "4. Consider earning a degree in graphic design or a related field, or pursue online courses and certifications.\n",
      "\n",
      "If you're passionate about visual communication, creativity, and problem-solving, graphic design might be an excellent career path for you!\n",
      "\n",
      "How do you feel about exploring a career in graphic design?\n"
     ]
    }
   ],
   "source": [
    "messages, response, rel_docs = generate_response(messages, \"Give me more details about Graphic Design\")\n",
    "print(messages[-1]['content'])"
   ]
  },
  {
   "cell_type": "code",
   "execution_count": 48,
   "metadata": {},
   "outputs": [
    {
     "name": "stdout",
     "output_type": "stream",
     "text": [
      "You're welcome! It was a pleasure to help you explore your personality and potential career paths. I hope you found the experience enlightening and inspiring. Remember, your career is a journey, and it's okay to explore and discover new paths as you go. Don't hesitate to reach out if you have any more questions or need further guidance.\n",
      "\n",
      "Keep being your amazing self, and don't forget to stay curious, creative, and open-minded! \n",
      "\n",
      "Have an awesome day!\n"
     ]
    }
   ],
   "source": [
    "messages, response, rel_docs = generate_response(messages, \"Thank you!\")\n",
    "print(messages[-1]['content'])"
   ]
  }
 ],
 "metadata": {
  "kernelspec": {
   "display_name": ".venv",
   "language": "python",
   "name": "python3"
  },
  "language_info": {
   "codemirror_mode": {
    "name": "ipython",
    "version": 3
   },
   "file_extension": ".py",
   "mimetype": "text/x-python",
   "name": "python",
   "nbconvert_exporter": "python",
   "pygments_lexer": "ipython3",
   "version": "3.12.2"
  }
 },
 "nbformat": 4,
 "nbformat_minor": 2
}
